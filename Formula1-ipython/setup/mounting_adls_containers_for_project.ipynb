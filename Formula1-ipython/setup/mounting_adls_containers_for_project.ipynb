{
 "cells": [
  {
   "cell_type": "markdown",
   "metadata": {
    "application/vnd.databricks.v1+cell": {
     "cellMetadata": {},
     "inputWidgets": {},
     "nuid": "bbd4239b-3f31-4dd5-a53c-4ff4cb11f5c4",
     "showTitle": false,
     "tableResultSettingsMap": {},
     "title": ""
    }
   },
   "source": [
    "### Mounting Azure Data Lake Containers for the Project"
   ]
  },
  {
   "cell_type": "code",
   "execution_count": 0,
   "metadata": {
    "application/vnd.databricks.v1+cell": {
     "cellMetadata": {
      "byteLimit": 2048000,
      "rowLimit": 10000
     },
     "inputWidgets": {},
     "nuid": "4fd3e76d-3665-41d2-8205-74645223eedc",
     "showTitle": false,
     "tableResultSettingsMap": {},
     "title": ""
    }
   },
   "outputs": [],
   "source": [
    "def mount_adls(storage_account_name, container_name):\n",
    "    # Get secrets from Key Vault\n",
    "    client_id = dbutils.secrets.get(scope = 'formula1-scope', key = 'formula1-app-client-id')\n",
    "    tenant_id = \"55f732a2-f741-4a5c-afe7-cf6169a1b382\"\n",
    "    client_secret = dbutils.secrets.get(scope = 'formula1-scope', key = 'formula1-app-client-secret')\n",
    "    \n",
    "    # Set spark configurations\n",
    "    configs = {\"fs.azure.account.auth.type\": \"OAuth\",\n",
    "              \"fs.azure.account.oauth.provider.type\": \"org.apache.hadoop.fs.azurebfs.oauth2.ClientCredsTokenProvider\",\n",
    "              \"fs.azure.account.oauth2.client.id\": client_id,\n",
    "              \"fs.azure.account.oauth2.client.secret\": client_secret,\n",
    "              \"fs.azure.account.oauth2.client.endpoint\": f\"https://login.microsoftonline.com/{tenant_id}/oauth2/token\"}\n",
    "    \n",
    "    # Unmount the mount point if it already exists\n",
    "    if any(mount.mountPoint == f\"/mnt/{storage_account_name}/{container_name}\" for mount in dbutils.fs.mounts()):\n",
    "        dbutils.fs.unmount(f\"/mnt/{storage_account_name}/{container_name}\")\n",
    "    \n",
    "    # Mount the storage account container\n",
    "    dbutils.fs.mount(\n",
    "      source = f\"abfss://{container_name}@{storage_account_name}.dfs.core.windows.net/\",\n",
    "      mount_point = f\"/mnt/{storage_account_name}/{container_name}\",\n",
    "      extra_configs = configs)\n",
    "    \n",
    "    display(dbutils.fs.mounts())"
   ]
  },
  {
   "cell_type": "markdown",
   "metadata": {
    "application/vnd.databricks.v1+cell": {
     "cellMetadata": {},
     "inputWidgets": {},
     "nuid": "ce15c4c2-efc5-4352-8489-8f431442723a",
     "showTitle": false,
     "tableResultSettingsMap": {},
     "title": ""
    }
   },
   "source": [
    "##### Mount Raw Container"
   ]
  },
  {
   "cell_type": "code",
   "execution_count": 0,
   "metadata": {
    "application/vnd.databricks.v1+cell": {
     "cellMetadata": {},
     "inputWidgets": {},
     "nuid": "0ae150c7-609f-4663-a44f-454c50bc0fe2",
     "showTitle": false,
     "tableResultSettingsMap": {},
     "title": ""
    }
   },
   "outputs": [],
   "source": [
    "mount_adls('formula121', 'raw')"
   ]
  },
  {
   "cell_type": "code",
   "execution_count": 0,
   "metadata": {
    "application/vnd.databricks.v1+cell": {
     "cellMetadata": {},
     "inputWidgets": {},
     "nuid": "d73c7f46-5e6a-407b-bfce-ce0f96921c0d",
     "showTitle": false,
     "tableResultSettingsMap": {},
     "title": ""
    }
   },
   "outputs": [],
   "source": [
    "mount_adls('formula121', 'processed')"
   ]
  },
  {
   "cell_type": "code",
   "execution_count": 0,
   "metadata": {
    "application/vnd.databricks.v1+cell": {
     "cellMetadata": {},
     "inputWidgets": {},
     "nuid": "d760ab1e-bfb7-499f-b628-9b1f9aaab01a",
     "showTitle": false,
     "tableResultSettingsMap": {},
     "title": ""
    }
   },
   "outputs": [],
   "source": [
    "mount_adls('formula121', 'presentation')"
   ]
  },
  {
   "cell_type": "code",
   "execution_count": 0,
   "metadata": {
    "application/vnd.databricks.v1+cell": {
     "cellMetadata": {
      "byteLimit": 2048000,
      "rowLimit": 10000
     },
     "inputWidgets": {},
     "nuid": "6150cf65-2e6b-4a08-af05-5bfb7ff23c7f",
     "showTitle": false,
     "tableResultSettingsMap": {},
     "title": ""
    }
   },
   "outputs": [
    {
     "output_type": "execute_result",
     "data": {
      "text/plain": [
       "[SecretScope(name='formula1-scope')]"
      ]
     },
     "execution_count": 3,
     "metadata": {},
     "output_type": "execute_result"
    }
   ],
   "source": [
    "dbutils.secrets.listScopes()"
   ]
  }
 ],
 "metadata": {
  "application/vnd.databricks.v1+notebook": {
   "computePreferences": null,
   "dashboards": [],
   "environmentMetadata": null,
   "inputWidgetPreferences": null,
   "language": "python",
   "notebookMetadata": {
    "pythonIndentUnit": 4
   },
   "notebookName": "8.mounting_adls_containers_for_project",
   "widgets": {}
  },
  "language_info": {
   "name": "python"
  }
 },
 "nbformat": 4,
 "nbformat_minor": 0
}