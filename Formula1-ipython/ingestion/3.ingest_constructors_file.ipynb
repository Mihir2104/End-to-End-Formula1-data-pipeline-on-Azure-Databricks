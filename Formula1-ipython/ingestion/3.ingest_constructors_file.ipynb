{
 "cells": [
  {
   "cell_type": "markdown",
   "metadata": {
    "application/vnd.databricks.v1+cell": {
     "cellMetadata": {
      "byteLimit": 2048000,
      "rowLimit": 10000
     },
     "inputWidgets": {},
     "nuid": "ab0d038d-1a8c-4f26-8549-d557e78ec055",
     "showTitle": false,
     "tableResultSettingsMap": {},
     "title": ""
    }
   },
   "source": [
    "### Step 1- Reading the json file using dfreader api"
   ]
  },
  {
   "cell_type": "code",
   "execution_count": 0,
   "metadata": {
    "application/vnd.databricks.v1+cell": {
     "cellMetadata": {
      "byteLimit": 2048000,
      "rowLimit": 10000
     },
     "inputWidgets": {},
     "nuid": "67f9b8e5-b7e4-4d57-819f-74d192894bd5",
     "showTitle": false,
     "tableResultSettingsMap": {},
     "title": ""
    }
   },
   "outputs": [],
   "source": [
    "dbutils.widgets.text(\"p_data_src\", \"\")\n",
    "v_data_src=dbutils.widgets.get(\"p_data_src\")"
   ]
  },
  {
   "cell_type": "code",
   "execution_count": 0,
   "metadata": {
    "application/vnd.databricks.v1+cell": {
     "cellMetadata": {
      "byteLimit": 2048000,
      "rowLimit": 10000
     },
     "inputWidgets": {},
     "nuid": "b313236c-f1ff-451c-903c-cb6ef07b61b9",
     "showTitle": false,
     "tableResultSettingsMap": {},
     "title": ""
    }
   },
   "outputs": [],
   "source": [
    "dbutils.widgets.text(\"p_file_date\", \"2021-03-21\")\n",
    "v_file_date=dbutils.widgets.get(\"p_file_date\")"
   ]
  },
  {
   "cell_type": "code",
   "execution_count": 0,
   "metadata": {
    "application/vnd.databricks.v1+cell": {
     "cellMetadata": {
      "byteLimit": 2048000,
      "rowLimit": 10000
     },
     "inputWidgets": {},
     "nuid": "68bde2e2-b6c2-4487-9a9d-bfd2e4d47af8",
     "showTitle": false,
     "tableResultSettingsMap": {},
     "title": ""
    }
   },
   "outputs": [],
   "source": [
    "%run \"../includes/configuration\""
   ]
  },
  {
   "cell_type": "code",
   "execution_count": 0,
   "metadata": {
    "application/vnd.databricks.v1+cell": {
     "cellMetadata": {
      "byteLimit": 2048000,
      "rowLimit": 10000
     },
     "inputWidgets": {},
     "nuid": "131e4ff7-9425-4e84-a236-f6e0be7f6b86",
     "showTitle": false,
     "tableResultSettingsMap": {},
     "title": ""
    }
   },
   "outputs": [],
   "source": [
    "%run \"../includes/common_functions\""
   ]
  },
  {
   "cell_type": "code",
   "execution_count": 0,
   "metadata": {
    "application/vnd.databricks.v1+cell": {
     "cellMetadata": {
      "byteLimit": 2048000,
      "rowLimit": 10000
     },
     "inputWidgets": {},
     "nuid": "d3296530-7305-410a-825a-f7dfed2c706e",
     "showTitle": false,
     "tableResultSettingsMap": {},
     "title": ""
    }
   },
   "outputs": [],
   "source": [
    "Constructors_schema= \"constructorId INT, constructorRef STRING, name STRING, nationality STRING, url STRING\""
   ]
  },
  {
   "cell_type": "code",
   "execution_count": 0,
   "metadata": {
    "application/vnd.databricks.v1+cell": {
     "cellMetadata": {
      "byteLimit": 2048000,
      "rowLimit": 10000
     },
     "inputWidgets": {},
     "nuid": "e68606cb-3e87-402f-a4cc-c38f17a75cae",
     "showTitle": false,
     "tableResultSettingsMap": {},
     "title": ""
    }
   },
   "outputs": [],
   "source": [
    "constructor_df = spark.read\\\n",
    "    .schema(Constructors_schema)\\\n",
    "    .json(f\"{raw_folder_path}/{v_file_date}/constructors.json\")\n"
   ]
  },
  {
   "cell_type": "markdown",
   "metadata": {
    "application/vnd.databricks.v1+cell": {
     "cellMetadata": {
      "byteLimit": 2048000,
      "rowLimit": 10000
     },
     "inputWidgets": {},
     "nuid": "3f31502d-ae5e-44fb-a229-56ce712e795b",
     "showTitle": false,
     "tableResultSettingsMap": {},
     "title": ""
    }
   },
   "source": [
    "### step 2 - Dropping unwanted columns from the df"
   ]
  },
  {
   "cell_type": "code",
   "execution_count": 0,
   "metadata": {
    "application/vnd.databricks.v1+cell": {
     "cellMetadata": {
      "byteLimit": 2048000,
      "rowLimit": 10000
     },
     "inputWidgets": {},
     "nuid": "d9c3ba80-34a7-47be-8e27-ea97dc79bacf",
     "showTitle": false,
     "tableResultSettingsMap": {},
     "title": ""
    }
   },
   "outputs": [],
   "source": [
    "from pyspark.sql.functions import col, current_timestamp,lit"
   ]
  },
  {
   "cell_type": "code",
   "execution_count": 0,
   "metadata": {
    "application/vnd.databricks.v1+cell": {
     "cellMetadata": {
      "byteLimit": 2048000,
      "rowLimit": 10000
     },
     "inputWidgets": {},
     "nuid": "84097111-5a7f-4c1e-a61e-64d43e945663",
     "showTitle": false,
     "tableResultSettingsMap": {},
     "title": ""
    }
   },
   "outputs": [],
   "source": [
    "constructor_dropped_df= constructor_df.drop(\"url\")"
   ]
  },
  {
   "cell_type": "markdown",
   "metadata": {
    "application/vnd.databricks.v1+cell": {
     "cellMetadata": {
      "byteLimit": 2048000,
      "rowLimit": 10000
     },
     "inputWidgets": {},
     "nuid": "43f803d9-974f-4a07-b52f-62c3981a0ab8",
     "showTitle": false,
     "tableResultSettingsMap": {},
     "title": ""
    }
   },
   "source": [
    "### Step 3- Renaming column and add ingestion date"
   ]
  },
  {
   "cell_type": "code",
   "execution_count": 0,
   "metadata": {
    "application/vnd.databricks.v1+cell": {
     "cellMetadata": {
      "byteLimit": 2048000,
      "rowLimit": 10000
     },
     "inputWidgets": {},
     "nuid": "c6b3fefd-a6be-4d94-b042-d540d4027a73",
     "showTitle": false,
     "tableResultSettingsMap": {},
     "title": ""
    }
   },
   "outputs": [],
   "source": [
    "constructor_final_df = constructor_dropped_df.withColumnRenamed(\"constructorId\",\"constructor_id\")\\\n",
    "    .withColumnRenamed(\"constructorRef\",\"constructor_ref\")\\\n",
    "    .withColumn(\"data_source\",lit(v_data_src))\\\n",
    "    .withColumn(\"file_date\",lit(v_file_date))\n",
    "    \n"
   ]
  },
  {
   "cell_type": "code",
   "execution_count": 0,
   "metadata": {
    "application/vnd.databricks.v1+cell": {
     "cellMetadata": {
      "byteLimit": 2048000,
      "rowLimit": 10000
     },
     "inputWidgets": {},
     "nuid": "ad42bb3f-b4a2-4101-9920-0c74dc205159",
     "showTitle": false,
     "tableResultSettingsMap": {},
     "title": ""
    }
   },
   "outputs": [],
   "source": [
    "constructor_final_df1= add_ingestion_date(constructor_final_df)"
   ]
  },
  {
   "cell_type": "markdown",
   "metadata": {
    "application/vnd.databricks.v1+cell": {
     "cellMetadata": {
      "byteLimit": 2048000,
      "rowLimit": 10000
     },
     "inputWidgets": {},
     "nuid": "3b1c72cc-285b-4136-b419-a42e4bcaaf90",
     "showTitle": false,
     "tableResultSettingsMap": {},
     "title": ""
    }
   },
   "source": [
    "### step 4 - writing output to parquet file"
   ]
  },
  {
   "cell_type": "code",
   "execution_count": 0,
   "metadata": {
    "application/vnd.databricks.v1+cell": {
     "cellMetadata": {
      "byteLimit": 2048000,
      "rowLimit": 10000
     },
     "inputWidgets": {},
     "nuid": "48f69824-e2e6-4d09-824f-f29efb8d5823",
     "showTitle": false,
     "tableResultSettingsMap": {
      "0": {
       "dataGridStateBlob": "{\"version\":1,\"tableState\":{\"columnPinning\":{\"left\":[\"#row_number#\"],\"right\":[]},\"columnSizing\":{},\"columnVisibility\":{}},\"settings\":{\"columns\":{}},\"syncTimestamp\":1753263527030}",
       "filterBlob": null,
       "queryPlanFiltersBlob": null,
       "tableResultIndex": 0
      }
     },
     "title": ""
    }
   },
   "outputs": [
    {
     "output_type": "display_data",
     "data": {
      "text/html": [
       "<style scoped>\n",
       "  .table-result-container {\n",
       "    max-height: 300px;\n",
       "    overflow: auto;\n",
       "  }\n",
       "  table, th, td {\n",
       "    border: 1px solid black;\n",
       "    border-collapse: collapse;\n",
       "  }\n",
       "  th, td {\n",
       "    padding: 5px;\n",
       "  }\n",
       "  th {\n",
       "    text-align: left;\n",
       "  }\n",
       "</style><div class='table-result-container'><table class='table-result'><thead style='background-color: white'><tr><th>constructor_id</th><th>constructor_ref</th><th>name</th><th>nationality</th><th>data_source</th><th>file_date</th><th>ingestion_date</th></tr></thead><tbody><tr><td>1</td><td>mclaren</td><td>McLaren</td><td>British</td><td>Ergast API</td><td>2021-04-18</td><td>2025-08-05T11:42:11.980802Z</td></tr><tr><td>2</td><td>bmw_sauber</td><td>BMW Sauber</td><td>German</td><td>Ergast API</td><td>2021-04-18</td><td>2025-08-05T11:42:11.980802Z</td></tr><tr><td>3</td><td>williams</td><td>Williams</td><td>British</td><td>Ergast API</td><td>2021-04-18</td><td>2025-08-05T11:42:11.980802Z</td></tr><tr><td>4</td><td>renault</td><td>Renault</td><td>French</td><td>Ergast API</td><td>2021-04-18</td><td>2025-08-05T11:42:11.980802Z</td></tr><tr><td>5</td><td>toro_rosso</td><td>Toro Rosso</td><td>Italian</td><td>Ergast API</td><td>2021-04-18</td><td>2025-08-05T11:42:11.980802Z</td></tr><tr><td>6</td><td>ferrari</td><td>Ferrari</td><td>Italian</td><td>Ergast API</td><td>2021-04-18</td><td>2025-08-05T11:42:11.980802Z</td></tr><tr><td>7</td><td>toyota</td><td>Toyota</td><td>Japanese</td><td>Ergast API</td><td>2021-04-18</td><td>2025-08-05T11:42:11.980802Z</td></tr><tr><td>8</td><td>super_aguri</td><td>Super Aguri</td><td>Japanese</td><td>Ergast API</td><td>2021-04-18</td><td>2025-08-05T11:42:11.980802Z</td></tr><tr><td>9</td><td>red_bull</td><td>Red Bull</td><td>Austrian</td><td>Ergast API</td><td>2021-04-18</td><td>2025-08-05T11:42:11.980802Z</td></tr><tr><td>10</td><td>force_india</td><td>Force India</td><td>Indian</td><td>Ergast API</td><td>2021-04-18</td><td>2025-08-05T11:42:11.980802Z</td></tr><tr><td>11</td><td>honda</td><td>Honda</td><td>Japanese</td><td>Ergast API</td><td>2021-04-18</td><td>2025-08-05T11:42:11.980802Z</td></tr><tr><td>12</td><td>spyker</td><td>Spyker</td><td>Dutch</td><td>Ergast API</td><td>2021-04-18</td><td>2025-08-05T11:42:11.980802Z</td></tr><tr><td>13</td><td>mf1</td><td>MF1</td><td>Russian</td><td>Ergast API</td><td>2021-04-18</td><td>2025-08-05T11:42:11.980802Z</td></tr><tr><td>14</td><td>spyker_mf1</td><td>Spyker MF1</td><td>Dutch</td><td>Ergast API</td><td>2021-04-18</td><td>2025-08-05T11:42:11.980802Z</td></tr><tr><td>15</td><td>sauber</td><td>Sauber</td><td>Swiss</td><td>Ergast API</td><td>2021-04-18</td><td>2025-08-05T11:42:11.980802Z</td></tr><tr><td>16</td><td>bar</td><td>BAR</td><td>British</td><td>Ergast API</td><td>2021-04-18</td><td>2025-08-05T11:42:11.980802Z</td></tr><tr><td>17</td><td>jordan</td><td>Jordan</td><td>Irish</td><td>Ergast API</td><td>2021-04-18</td><td>2025-08-05T11:42:11.980802Z</td></tr><tr><td>18</td><td>minardi</td><td>Minardi</td><td>Italian</td><td>Ergast API</td><td>2021-04-18</td><td>2025-08-05T11:42:11.980802Z</td></tr><tr><td>19</td><td>jaguar</td><td>Jaguar</td><td>British</td><td>Ergast API</td><td>2021-04-18</td><td>2025-08-05T11:42:11.980802Z</td></tr><tr><td>20</td><td>prost</td><td>Prost</td><td>French</td><td>Ergast API</td><td>2021-04-18</td><td>2025-08-05T11:42:11.980802Z</td></tr><tr><td>21</td><td>arrows</td><td>Arrows</td><td>British</td><td>Ergast API</td><td>2021-04-18</td><td>2025-08-05T11:42:11.980802Z</td></tr><tr><td>22</td><td>benetton</td><td>Benetton</td><td>Italian</td><td>Ergast API</td><td>2021-04-18</td><td>2025-08-05T11:42:11.980802Z</td></tr><tr><td>23</td><td>brawn</td><td>Brawn</td><td>British</td><td>Ergast API</td><td>2021-04-18</td><td>2025-08-05T11:42:11.980802Z</td></tr><tr><td>24</td><td>stewart</td><td>Stewart</td><td>British</td><td>Ergast API</td><td>2021-04-18</td><td>2025-08-05T11:42:11.980802Z</td></tr><tr><td>25</td><td>tyrrell</td><td>Tyrrell</td><td>British</td><td>Ergast API</td><td>2021-04-18</td><td>2025-08-05T11:42:11.980802Z</td></tr><tr><td>26</td><td>lola</td><td>Lola</td><td>British</td><td>Ergast API</td><td>2021-04-18</td><td>2025-08-05T11:42:11.980802Z</td></tr><tr><td>27</td><td>ligier</td><td>Ligier</td><td>French</td><td>Ergast API</td><td>2021-04-18</td><td>2025-08-05T11:42:11.980802Z</td></tr><tr><td>28</td><td>forti</td><td>Forti</td><td>Italian</td><td>Ergast API</td><td>2021-04-18</td><td>2025-08-05T11:42:11.980802Z</td></tr><tr><td>29</td><td>footwork</td><td>Footwork</td><td>British</td><td>Ergast API</td><td>2021-04-18</td><td>2025-08-05T11:42:11.980802Z</td></tr><tr><td>30</td><td>pacific</td><td>Pacific</td><td>British</td><td>Ergast API</td><td>2021-04-18</td><td>2025-08-05T11:42:11.980802Z</td></tr><tr><td>31</td><td>simtek</td><td>Simtek</td><td>British</td><td>Ergast API</td><td>2021-04-18</td><td>2025-08-05T11:42:11.980802Z</td></tr><tr><td>32</td><td>team_lotus</td><td>Team Lotus</td><td>British</td><td>Ergast API</td><td>2021-04-18</td><td>2025-08-05T11:42:11.980802Z</td></tr><tr><td>33</td><td>larrousse</td><td>Larrousse</td><td>French</td><td>Ergast API</td><td>2021-04-18</td><td>2025-08-05T11:42:11.980802Z</td></tr><tr><td>34</td><td>brabham</td><td>Brabham</td><td>British</td><td>Ergast API</td><td>2021-04-18</td><td>2025-08-05T11:42:11.980802Z</td></tr><tr><td>35</td><td>dallara</td><td>Dallara</td><td>Italian</td><td>Ergast API</td><td>2021-04-18</td><td>2025-08-05T11:42:11.980802Z</td></tr><tr><td>36</td><td>fondmetal</td><td>Fondmetal</td><td>Italian</td><td>Ergast API</td><td>2021-04-18</td><td>2025-08-05T11:42:11.980802Z</td></tr><tr><td>37</td><td>march</td><td>March</td><td>British</td><td>Ergast API</td><td>2021-04-18</td><td>2025-08-05T11:42:11.980802Z</td></tr><tr><td>38</td><td>moda</td><td>Andrea Moda</td><td>Italian</td><td>Ergast API</td><td>2021-04-18</td><td>2025-08-05T11:42:11.980802Z</td></tr><tr><td>39</td><td>ags</td><td>AGS</td><td>French</td><td>Ergast API</td><td>2021-04-18</td><td>2025-08-05T11:42:11.980802Z</td></tr><tr><td>40</td><td>lambo</td><td>Lambo</td><td>Italian</td><td>Ergast API</td><td>2021-04-18</td><td>2025-08-05T11:42:11.980802Z</td></tr><tr><td>41</td><td>leyton</td><td>Leyton House</td><td>British</td><td>Ergast API</td><td>2021-04-18</td><td>2025-08-05T11:42:11.980802Z</td></tr><tr><td>42</td><td>coloni</td><td>Coloni</td><td>Italian</td><td>Ergast API</td><td>2021-04-18</td><td>2025-08-05T11:42:11.980802Z</td></tr><tr><td>44</td><td>eurobrun</td><td>Euro Brun</td><td>Italian</td><td>Ergast API</td><td>2021-04-18</td><td>2025-08-05T11:42:11.980802Z</td></tr><tr><td>45</td><td>osella</td><td>Osella</td><td>Italian</td><td>Ergast API</td><td>2021-04-18</td><td>2025-08-05T11:42:11.980802Z</td></tr><tr><td>46</td><td>onyx</td><td>Onyx</td><td>British</td><td>Ergast API</td><td>2021-04-18</td><td>2025-08-05T11:42:11.980802Z</td></tr><tr><td>47</td><td>life</td><td>Life</td><td>Italian</td><td>Ergast API</td><td>2021-04-18</td><td>2025-08-05T11:42:11.980802Z</td></tr><tr><td>48</td><td>rial</td><td>Rial</td><td>German</td><td>Ergast API</td><td>2021-04-18</td><td>2025-08-05T11:42:11.980802Z</td></tr><tr><td>49</td><td>zakspeed</td><td>Zakspeed</td><td>German</td><td>Ergast API</td><td>2021-04-18</td><td>2025-08-05T11:42:11.980802Z</td></tr><tr><td>50</td><td>ram</td><td>RAM</td><td>British</td><td>Ergast API</td><td>2021-04-18</td><td>2025-08-05T11:42:11.980802Z</td></tr><tr><td>51</td><td>alfa</td><td>Alfa Romeo</td><td>Swiss</td><td>Ergast API</td><td>2021-04-18</td><td>2025-08-05T11:42:11.980802Z</td></tr><tr><td>52</td><td>spirit</td><td>Spirit</td><td>British</td><td>Ergast API</td><td>2021-04-18</td><td>2025-08-05T11:42:11.980802Z</td></tr><tr><td>53</td><td>toleman</td><td>Toleman</td><td>British</td><td>Ergast API</td><td>2021-04-18</td><td>2025-08-05T11:42:11.980802Z</td></tr><tr><td>54</td><td>ats</td><td>ATS</td><td>Italian</td><td>Ergast API</td><td>2021-04-18</td><td>2025-08-05T11:42:11.980802Z</td></tr><tr><td>55</td><td>theodore</td><td>Theodore</td><td>Hong Kong</td><td>Ergast API</td><td>2021-04-18</td><td>2025-08-05T11:42:11.980802Z</td></tr><tr><td>56</td><td>fittipaldi</td><td>Fittipaldi</td><td>Brazilian</td><td>Ergast API</td><td>2021-04-18</td><td>2025-08-05T11:42:11.980802Z</td></tr><tr><td>57</td><td>ensign</td><td>Ensign</td><td>British</td><td>Ergast API</td><td>2021-04-18</td><td>2025-08-05T11:42:11.980802Z</td></tr><tr><td>58</td><td>shadow</td><td>Shadow</td><td>British</td><td>Ergast API</td><td>2021-04-18</td><td>2025-08-05T11:42:11.980802Z</td></tr><tr><td>59</td><td>wolf</td><td>Wolf</td><td>Canadian</td><td>Ergast API</td><td>2021-04-18</td><td>2025-08-05T11:42:11.980802Z</td></tr><tr><td>60</td><td>merzario</td><td>Merzario</td><td>Italian</td><td>Ergast API</td><td>2021-04-18</td><td>2025-08-05T11:42:11.980802Z</td></tr><tr><td>61</td><td>kauhsen</td><td>Kauhsen</td><td>German</td><td>Ergast API</td><td>2021-04-18</td><td>2025-08-05T11:42:11.980802Z</td></tr><tr><td>62</td><td>rebaque</td><td>Rebaque</td><td>Mexican</td><td>Ergast API</td><td>2021-04-18</td><td>2025-08-05T11:42:11.980802Z</td></tr><tr><td>63</td><td>surtees</td><td>Surtees</td><td>British</td><td>Ergast API</td><td>2021-04-18</td><td>2025-08-05T11:42:11.980802Z</td></tr><tr><td>64</td><td>hesketh</td><td>Hesketh</td><td>British</td><td>Ergast API</td><td>2021-04-18</td><td>2025-08-05T11:42:11.980802Z</td></tr><tr><td>65</td><td>martini</td><td>Martini</td><td>French</td><td>Ergast API</td><td>2021-04-18</td><td>2025-08-05T11:42:11.980802Z</td></tr><tr><td>66</td><td>brm</td><td>BRM</td><td>British</td><td>Ergast API</td><td>2021-04-18</td><td>2025-08-05T11:42:11.980802Z</td></tr><tr><td>67</td><td>penske</td><td>Penske</td><td>American</td><td>Ergast API</td><td>2021-04-18</td><td>2025-08-05T11:42:11.980802Z</td></tr><tr><td>68</td><td>lec</td><td>LEC</td><td>British</td><td>Ergast API</td><td>2021-04-18</td><td>2025-08-05T11:42:11.980802Z</td></tr><tr><td>69</td><td>mcguire</td><td>McGuire</td><td>Australian</td><td>Ergast API</td><td>2021-04-18</td><td>2025-08-05T11:42:11.980802Z</td></tr><tr><td>70</td><td>boro</td><td>Boro</td><td>Dutch</td><td>Ergast API</td><td>2021-04-18</td><td>2025-08-05T11:42:11.980802Z</td></tr><tr><td>71</td><td>apollon</td><td>Apollon</td><td>Swiss</td><td>Ergast API</td><td>2021-04-18</td><td>2025-08-05T11:42:11.980802Z</td></tr><tr><td>72</td><td>kojima</td><td>Kojima</td><td>Japanese</td><td>Ergast API</td><td>2021-04-18</td><td>2025-08-05T11:42:11.980802Z</td></tr><tr><td>73</td><td>parnelli</td><td>Parnelli</td><td>American</td><td>Ergast API</td><td>2021-04-18</td><td>2025-08-05T11:42:11.980802Z</td></tr><tr><td>74</td><td>maki</td><td>Maki</td><td>Japanese</td><td>Ergast API</td><td>2021-04-18</td><td>2025-08-05T11:42:11.980802Z</td></tr><tr><td>75</td><td>hill</td><td>Embassy Hill</td><td>British</td><td>Ergast API</td><td>2021-04-18</td><td>2025-08-05T11:42:11.980802Z</td></tr><tr><td>76</td><td>lyncar</td><td>Lyncar</td><td>British</td><td>Ergast API</td><td>2021-04-18</td><td>2025-08-05T11:42:11.980802Z</td></tr><tr><td>77</td><td>trojan</td><td>Trojan</td><td>British</td><td>Ergast API</td><td>2021-04-18</td><td>2025-08-05T11:42:11.980802Z</td></tr><tr><td>78</td><td>amon</td><td>Amon</td><td>New Zealand</td><td>Ergast API</td><td>2021-04-18</td><td>2025-08-05T11:42:11.980802Z</td></tr><tr><td>79</td><td>token</td><td>Token</td><td>British</td><td>Ergast API</td><td>2021-04-18</td><td>2025-08-05T11:42:11.980802Z</td></tr><tr><td>80</td><td>iso_marlboro</td><td>Iso Marlboro</td><td>British</td><td>Ergast API</td><td>2021-04-18</td><td>2025-08-05T11:42:11.980802Z</td></tr><tr><td>81</td><td>tecno</td><td>Tecno</td><td>Italian</td><td>Ergast API</td><td>2021-04-18</td><td>2025-08-05T11:42:11.980802Z</td></tr><tr><td>82</td><td>matra</td><td>Matra</td><td>French</td><td>Ergast API</td><td>2021-04-18</td><td>2025-08-05T11:42:11.980802Z</td></tr><tr><td>83</td><td>politoys</td><td>Politoys</td><td>British</td><td>Ergast API</td><td>2021-04-18</td><td>2025-08-05T11:42:11.980802Z</td></tr><tr><td>84</td><td>connew</td><td>Connew</td><td>British</td><td>Ergast API</td><td>2021-04-18</td><td>2025-08-05T11:42:11.980802Z</td></tr><tr><td>85</td><td>bellasi</td><td>Bellasi</td><td>Swiss</td><td>Ergast API</td><td>2021-04-18</td><td>2025-08-05T11:42:11.980802Z</td></tr><tr><td>86</td><td>tomaso</td><td>De Tomaso</td><td>Italian</td><td>Ergast API</td><td>2021-04-18</td><td>2025-08-05T11:42:11.980802Z</td></tr><tr><td>87</td><td>cooper</td><td>Cooper</td><td>British</td><td>Ergast API</td><td>2021-04-18</td><td>2025-08-05T11:42:11.980802Z</td></tr><tr><td>88</td><td>eagle</td><td>Eagle</td><td>American</td><td>Ergast API</td><td>2021-04-18</td><td>2025-08-05T11:42:11.980802Z</td></tr><tr><td>89</td><td>lds</td><td>LDS</td><td>South African</td><td>Ergast API</td><td>2021-04-18</td><td>2025-08-05T11:42:11.980802Z</td></tr><tr><td>90</td><td>protos</td><td>Protos</td><td>British</td><td>Ergast API</td><td>2021-04-18</td><td>2025-08-05T11:42:11.980802Z</td></tr><tr><td>91</td><td>shannon</td><td>Shannon</td><td>British</td><td>Ergast API</td><td>2021-04-18</td><td>2025-08-05T11:42:11.980802Z</td></tr><tr><td>92</td><td>scirocco</td><td>Scirocco</td><td>British</td><td>Ergast API</td><td>2021-04-18</td><td>2025-08-05T11:42:11.980802Z</td></tr><tr><td>93</td><td>re</td><td>RE</td><td>Rhodesian</td><td>Ergast API</td><td>2021-04-18</td><td>2025-08-05T11:42:11.980802Z</td></tr><tr><td>94</td><td>brp</td><td>BRP</td><td>British</td><td>Ergast API</td><td>2021-04-18</td><td>2025-08-05T11:42:11.980802Z</td></tr><tr><td>95</td><td>porsche</td><td>Porsche</td><td>German</td><td>Ergast API</td><td>2021-04-18</td><td>2025-08-05T11:42:11.980802Z</td></tr><tr><td>96</td><td>derrington</td><td>Derrington</td><td>British</td><td>Ergast API</td><td>2021-04-18</td><td>2025-08-05T11:42:11.980802Z</td></tr><tr><td>97</td><td>gilby</td><td>Gilby</td><td>British</td><td>Ergast API</td><td>2021-04-18</td><td>2025-08-05T11:42:11.980802Z</td></tr><tr><td>98</td><td>stebro</td><td>Stebro</td><td>Canadian</td><td>Ergast API</td><td>2021-04-18</td><td>2025-08-05T11:42:11.980802Z</td></tr><tr><td>99</td><td>emeryson</td><td>Emeryson</td><td>British</td><td>Ergast API</td><td>2021-04-18</td><td>2025-08-05T11:42:11.980802Z</td></tr><tr><td>100</td><td>enb</td><td>ENB</td><td>Belgium</td><td>Ergast API</td><td>2021-04-18</td><td>2025-08-05T11:42:11.980802Z</td></tr><tr><td>101</td><td>jbw</td><td>JBW</td><td>British</td><td>Ergast API</td><td>2021-04-18</td><td>2025-08-05T11:42:11.980802Z</td></tr><tr><td>102</td><td>ferguson</td><td>Ferguson</td><td>British</td><td>Ergast API</td><td>2021-04-18</td><td>2025-08-05T11:42:11.980802Z</td></tr><tr><td>103</td><td>mbm</td><td>MBM</td><td>Swiss</td><td>Ergast API</td><td>2021-04-18</td><td>2025-08-05T11:42:11.980802Z</td></tr><tr><td>104</td><td>behra-porsche</td><td>Behra-Porsche</td><td>Italian</td><td>Ergast API</td><td>2021-04-18</td><td>2025-08-05T11:42:11.980802Z</td></tr><tr><td>105</td><td>maserati</td><td>Maserati</td><td>Italian</td><td>Ergast API</td><td>2021-04-18</td><td>2025-08-05T11:42:11.980802Z</td></tr><tr><td>106</td><td>scarab</td><td>Scarab</td><td>American</td><td>Ergast API</td><td>2021-04-18</td><td>2025-08-05T11:42:11.980802Z</td></tr><tr><td>107</td><td>watson</td><td>Watson</td><td>American</td><td>Ergast API</td><td>2021-04-18</td><td>2025-08-05T11:42:11.980802Z</td></tr><tr><td>108</td><td>epperly</td><td>Epperly</td><td>American</td><td>Ergast API</td><td>2021-04-18</td><td>2025-08-05T11:42:11.980802Z</td></tr><tr><td>109</td><td>phillips</td><td>Phillips</td><td>American</td><td>Ergast API</td><td>2021-04-18</td><td>2025-08-05T11:42:11.980802Z</td></tr><tr><td>110</td><td>lesovsky</td><td>Lesovsky</td><td>American</td><td>Ergast API</td><td>2021-04-18</td><td>2025-08-05T11:42:11.980802Z</td></tr><tr><td>111</td><td>trevis</td><td>Trevis</td><td>American</td><td>Ergast API</td><td>2021-04-18</td><td>2025-08-05T11:42:11.980802Z</td></tr><tr><td>112</td><td>meskowski</td><td>Meskowski</td><td>American</td><td>Ergast API</td><td>2021-04-18</td><td>2025-08-05T11:42:11.980802Z</td></tr><tr><td>113</td><td>kurtis_kraft</td><td>Kurtis Kraft</td><td>American</td><td>Ergast API</td><td>2021-04-18</td><td>2025-08-05T11:42:11.980802Z</td></tr><tr><td>114</td><td>kuzma</td><td>Kuzma</td><td>American</td><td>Ergast API</td><td>2021-04-18</td><td>2025-08-05T11:42:11.980802Z</td></tr><tr><td>115</td><td>vhristensen</td><td>Christensen</td><td>American</td><td>Ergast API</td><td>2021-04-18</td><td>2025-08-05T11:42:11.980802Z</td></tr><tr><td>116</td><td>ewing</td><td>Ewing</td><td>American</td><td>Ergast API</td><td>2021-04-18</td><td>2025-08-05T11:42:11.980802Z</td></tr><tr><td>117</td><td>aston_martin</td><td>Aston Martin</td><td>British</td><td>Ergast API</td><td>2021-04-18</td><td>2025-08-05T11:42:11.980802Z</td></tr><tr><td>118</td><td>vanwall</td><td>Vanwall</td><td>British</td><td>Ergast API</td><td>2021-04-18</td><td>2025-08-05T11:42:11.980802Z</td></tr><tr><td>119</td><td>moore</td><td>Moore</td><td>American</td><td>Ergast API</td><td>2021-04-18</td><td>2025-08-05T11:42:11.980802Z</td></tr><tr><td>120</td><td>dunn</td><td>Dunn</td><td>American</td><td>Ergast API</td><td>2021-04-18</td><td>2025-08-05T11:42:11.980802Z</td></tr><tr><td>121</td><td>elder</td><td>Elder</td><td>American</td><td>Ergast API</td><td>2021-04-18</td><td>2025-08-05T11:42:11.980802Z</td></tr><tr><td>122</td><td>sutton</td><td>Sutton</td><td>American</td><td>Ergast API</td><td>2021-04-18</td><td>2025-08-05T11:42:11.980802Z</td></tr><tr><td>123</td><td>fry</td><td>Fry</td><td>British</td><td>Ergast API</td><td>2021-04-18</td><td>2025-08-05T11:42:11.980802Z</td></tr><tr><td>124</td><td>tec-mec</td><td>Tec-Mec</td><td>Italian</td><td>Ergast API</td><td>2021-04-18</td><td>2025-08-05T11:42:11.980802Z</td></tr><tr><td>125</td><td>connaught</td><td>Connaught</td><td>British</td><td>Ergast API</td><td>2021-04-18</td><td>2025-08-05T11:42:11.980802Z</td></tr><tr><td>126</td><td>alta</td><td>Alta</td><td>British</td><td>Ergast API</td><td>2021-04-18</td><td>2025-08-05T11:42:11.980802Z</td></tr><tr><td>127</td><td>osca</td><td>OSCA</td><td>Italian</td><td>Ergast API</td><td>2021-04-18</td><td>2025-08-05T11:42:11.980802Z</td></tr><tr><td>128</td><td>gordini</td><td>Gordini</td><td>French</td><td>Ergast API</td><td>2021-04-18</td><td>2025-08-05T11:42:11.980802Z</td></tr><tr><td>129</td><td>stevens</td><td>Stevens</td><td>American</td><td>Ergast API</td><td>2021-04-18</td><td>2025-08-05T11:42:11.980802Z</td></tr><tr><td>130</td><td>bugatti</td><td>Bugatti</td><td>French</td><td>Ergast API</td><td>2021-04-18</td><td>2025-08-05T11:42:11.980802Z</td></tr><tr><td>131</td><td>mercedes</td><td>Mercedes</td><td>German</td><td>Ergast API</td><td>2021-04-18</td><td>2025-08-05T11:42:11.980802Z</td></tr><tr><td>132</td><td>lancia</td><td>Lancia</td><td>Italian</td><td>Ergast API</td><td>2021-04-18</td><td>2025-08-05T11:42:11.980802Z</td></tr><tr><td>133</td><td>hwm</td><td>HWM</td><td>British</td><td>Ergast API</td><td>2021-04-18</td><td>2025-08-05T11:42:11.980802Z</td></tr><tr><td>134</td><td>schroeder</td><td>Schroeder</td><td>American</td><td>Ergast API</td><td>2021-04-18</td><td>2025-08-05T11:42:11.980802Z</td></tr><tr><td>135</td><td>pawl</td><td>Pawl</td><td>American</td><td>Ergast API</td><td>2021-04-18</td><td>2025-08-05T11:42:11.980802Z</td></tr><tr><td>136</td><td>pankratz</td><td>Pankratz</td><td>American</td><td>Ergast API</td><td>2021-04-18</td><td>2025-08-05T11:42:11.980802Z</td></tr><tr><td>137</td><td>arzani-volpini</td><td>Arzani-Volpini</td><td>Italian</td><td>Ergast API</td><td>2021-04-18</td><td>2025-08-05T11:42:11.980802Z</td></tr><tr><td>138</td><td>nichels</td><td>Nichels</td><td>American</td><td>Ergast API</td><td>2021-04-18</td><td>2025-08-05T11:42:11.980802Z</td></tr><tr><td>139</td><td>bromme</td><td>Bromme</td><td>American</td><td>Ergast API</td><td>2021-04-18</td><td>2025-08-05T11:42:11.980802Z</td></tr><tr><td>140</td><td>klenk</td><td>Klenk</td><td>German</td><td>Ergast API</td><td>2021-04-18</td><td>2025-08-05T11:42:11.980802Z</td></tr><tr><td>141</td><td>simca</td><td>Simca</td><td>French</td><td>Ergast API</td><td>2021-04-18</td><td>2025-08-05T11:42:11.980802Z</td></tr><tr><td>142</td><td>turner</td><td>Turner</td><td>American</td><td>Ergast API</td><td>2021-04-18</td><td>2025-08-05T11:42:11.980802Z</td></tr><tr><td>143</td><td>del_roy</td><td>Del Roy</td><td>American</td><td>Ergast API</td><td>2021-04-18</td><td>2025-08-05T11:42:11.980802Z</td></tr><tr><td>144</td><td>veritas</td><td>Veritas</td><td>German</td><td>Ergast API</td><td>2021-04-18</td><td>2025-08-05T11:42:11.980802Z</td></tr><tr><td>145</td><td>bmw</td><td>BMW</td><td>German</td><td>Ergast API</td><td>2021-04-18</td><td>2025-08-05T11:42:11.980802Z</td></tr><tr><td>146</td><td>emw</td><td>EMW</td><td>East German</td><td>Ergast API</td><td>2021-04-18</td><td>2025-08-05T11:42:11.980802Z</td></tr><tr><td>147</td><td>afm</td><td>AFM</td><td>German</td><td>Ergast API</td><td>2021-04-18</td><td>2025-08-05T11:42:11.980802Z</td></tr><tr><td>148</td><td>frazer_nash</td><td>Frazer Nash</td><td>British</td><td>Ergast API</td><td>2021-04-18</td><td>2025-08-05T11:42:11.980802Z</td></tr><tr><td>149</td><td>sherman</td><td>Sherman</td><td>American</td><td>Ergast API</td><td>2021-04-18</td><td>2025-08-05T11:42:11.980802Z</td></tr><tr><td>150</td><td>deidt</td><td>Deidt</td><td>American</td><td>Ergast API</td><td>2021-04-18</td><td>2025-08-05T11:42:11.980802Z</td></tr><tr><td>151</td><td>era</td><td>ERA</td><td>British</td><td>Ergast API</td><td>2021-04-18</td><td>2025-08-05T11:42:11.980802Z</td></tr><tr><td>152</td><td>butterworth</td><td>Aston Butterworth</td><td>British</td><td>Ergast API</td><td>2021-04-18</td><td>2025-08-05T11:42:11.980802Z</td></tr><tr><td>153</td><td>cisitalia</td><td>Cisitalia</td><td>Italian</td><td>Ergast API</td><td>2021-04-18</td><td>2025-08-05T11:42:11.980802Z</td></tr><tr><td>154</td><td>lago</td><td>Talbot-Lago</td><td>French</td><td>Ergast API</td><td>2021-04-18</td><td>2025-08-05T11:42:11.980802Z</td></tr><tr><td>155</td><td>hall</td><td>Hall</td><td>American</td><td>Ergast API</td><td>2021-04-18</td><td>2025-08-05T11:42:11.980802Z</td></tr><tr><td>156</td><td>marchese</td><td>Marchese</td><td>American</td><td>Ergast API</td><td>2021-04-18</td><td>2025-08-05T11:42:11.980802Z</td></tr><tr><td>157</td><td>langley</td><td>Langley</td><td>American</td><td>Ergast API</td><td>2021-04-18</td><td>2025-08-05T11:42:11.980802Z</td></tr><tr><td>158</td><td>rae</td><td>Rae</td><td>American</td><td>Ergast API</td><td>2021-04-18</td><td>2025-08-05T11:42:11.980802Z</td></tr><tr><td>159</td><td>olson</td><td>Olson</td><td>American</td><td>Ergast API</td><td>2021-04-18</td><td>2025-08-05T11:42:11.980802Z</td></tr><tr><td>160</td><td>wetteroth</td><td>Wetteroth</td><td>American</td><td>Ergast API</td><td>2021-04-18</td><td>2025-08-05T11:42:11.980802Z</td></tr><tr><td>161</td><td>adams</td><td>Adams</td><td>American</td><td>Ergast API</td><td>2021-04-18</td><td>2025-08-05T11:42:11.980802Z</td></tr><tr><td>162</td><td>snowberger</td><td>Snowberger</td><td>American</td><td>Ergast API</td><td>2021-04-18</td><td>2025-08-05T11:42:11.980802Z</td></tr><tr><td>163</td><td>milano</td><td>Milano</td><td>Italian</td><td>Ergast API</td><td>2021-04-18</td><td>2025-08-05T11:42:11.980802Z</td></tr><tr><td>164</td><td>hrt</td><td>HRT</td><td>Spanish</td><td>Ergast API</td><td>2021-04-18</td><td>2025-08-05T11:42:11.980802Z</td></tr><tr><td>167</td><td>cooper-maserati</td><td>Cooper-Maserati</td><td>British</td><td>Ergast API</td><td>2021-04-18</td><td>2025-08-05T11:42:11.980802Z</td></tr><tr><td>166</td><td>virgin</td><td>Virgin</td><td>British</td><td>Ergast API</td><td>2021-04-18</td><td>2025-08-05T11:42:11.980802Z</td></tr><tr><td>168</td><td>cooper-osca</td><td>Cooper-OSCA</td><td>British</td><td>Ergast API</td><td>2021-04-18</td><td>2025-08-05T11:42:11.980802Z</td></tr><tr><td>169</td><td>cooper-borgward</td><td>Cooper-Borgward</td><td>British</td><td>Ergast API</td><td>2021-04-18</td><td>2025-08-05T11:42:11.980802Z</td></tr><tr><td>170</td><td>cooper-climax</td><td>Cooper-Climax</td><td>British</td><td>Ergast API</td><td>2021-04-18</td><td>2025-08-05T11:42:11.980802Z</td></tr><tr><td>171</td><td>cooper-castellotti</td><td>Cooper-Castellotti</td><td>British</td><td>Ergast API</td><td>2021-04-18</td><td>2025-08-05T11:42:11.980802Z</td></tr><tr><td>172</td><td>lotus-climax</td><td>Lotus-Climax</td><td>British</td><td>Ergast API</td><td>2021-04-18</td><td>2025-08-05T11:42:11.980802Z</td></tr><tr><td>173</td><td>lotus-maserati</td><td>Lotus-Maserati</td><td>British</td><td>Ergast API</td><td>2021-04-18</td><td>2025-08-05T11:42:11.980802Z</td></tr><tr><td>174</td><td>de_tomaso-osca</td><td>De Tomaso-Osca</td><td>Italian</td><td>Ergast API</td><td>2021-04-18</td><td>2025-08-05T11:42:11.980802Z</td></tr><tr><td>175</td><td>de_tomaso-alfa_romeo</td><td>De Tomaso-Alfa Romeo</td><td>Italian</td><td>Ergast API</td><td>2021-04-18</td><td>2025-08-05T11:42:11.980802Z</td></tr><tr><td>176</td><td>lotus-brm</td><td>Lotus-BRM</td><td>British</td><td>Ergast API</td><td>2021-04-18</td><td>2025-08-05T11:42:11.980802Z</td></tr><tr><td>177</td><td>lotus-borgward</td><td>Lotus-Borgward</td><td>British</td><td>Ergast API</td><td>2021-04-18</td><td>2025-08-05T11:42:11.980802Z</td></tr><tr><td>178</td><td>cooper-alfa_romeo</td><td>Cooper-Alfa Romeo</td><td>British</td><td>Ergast API</td><td>2021-04-18</td><td>2025-08-05T11:42:11.980802Z</td></tr><tr><td>179</td><td>de_tomaso-ferrari</td><td>De Tomaso-Ferrari</td><td>Italian</td><td>Ergast API</td><td>2021-04-18</td><td>2025-08-05T11:42:11.980802Z</td></tr><tr><td>180</td><td>lotus-ford</td><td>Lotus-Ford</td><td>British</td><td>Ergast API</td><td>2021-04-18</td><td>2025-08-05T11:42:11.980802Z</td></tr><tr><td>181</td><td>brabham-brm</td><td>Brabham-BRM</td><td>British</td><td>Ergast API</td><td>2021-04-18</td><td>2025-08-05T11:42:11.980802Z</td></tr><tr><td>182</td><td>brabham-ford</td><td>Brabham-Ford</td><td>British</td><td>Ergast API</td><td>2021-04-18</td><td>2025-08-05T11:42:11.980802Z</td></tr><tr><td>183</td><td>brabham-climax</td><td>Brabham-Climax</td><td>British</td><td>Ergast API</td><td>2021-04-18</td><td>2025-08-05T11:42:11.980802Z</td></tr><tr><td>184</td><td>lds-climax</td><td>LDS-Climax</td><td>South African</td><td>Ergast API</td><td>2021-04-18</td><td>2025-08-05T11:42:11.980802Z</td></tr><tr><td>185</td><td>lds-alfa_romeo</td><td>LDS-Alfa Romeo</td><td>South African</td><td>Ergast API</td><td>2021-04-18</td><td>2025-08-05T11:42:11.980802Z</td></tr><tr><td>186</td><td>cooper-ford</td><td>Cooper-Ford</td><td>British</td><td>Ergast API</td><td>2021-04-18</td><td>2025-08-05T11:42:11.980802Z</td></tr><tr><td>187</td><td>mclaren-ford</td><td>McLaren-Ford</td><td>British</td><td>Ergast API</td><td>2021-04-18</td><td>2025-08-05T11:42:11.980802Z</td></tr><tr><td>188</td><td>mclaren-seren</td><td>McLaren-Serenissima</td><td>British</td><td>Ergast API</td><td>2021-04-18</td><td>2025-08-05T11:42:11.980802Z</td></tr><tr><td>189</td><td>eagle-climax</td><td>Eagle-Climax</td><td>American</td><td>Ergast API</td><td>2021-04-18</td><td>2025-08-05T11:42:11.980802Z</td></tr><tr><td>190</td><td>eagle-weslake</td><td>Eagle-Weslake</td><td>American</td><td>Ergast API</td><td>2021-04-18</td><td>2025-08-05T11:42:11.980802Z</td></tr><tr><td>191</td><td>brabham-repco</td><td>Brabham-Repco</td><td>British</td><td>Ergast API</td><td>2021-04-18</td><td>2025-08-05T11:42:11.980802Z</td></tr><tr><td>192</td><td>cooper-ferrari</td><td>Cooper-Ferrari</td><td>British</td><td>Ergast API</td><td>2021-04-18</td><td>2025-08-05T11:42:11.980802Z</td></tr><tr><td>193</td><td>cooper-ats</td><td>Cooper-ATS</td><td>British</td><td>Ergast API</td><td>2021-04-18</td><td>2025-08-05T11:42:11.980802Z</td></tr><tr><td>194</td><td>mclaren-brm</td><td>McLaren-BRM</td><td>British</td><td>Ergast API</td><td>2021-04-18</td><td>2025-08-05T11:42:11.980802Z</td></tr><tr><td>195</td><td>cooper-brm</td><td>Cooper-BRM</td><td>British</td><td>Ergast API</td><td>2021-04-18</td><td>2025-08-05T11:42:11.980802Z</td></tr><tr><td>196</td><td>matra-ford</td><td>Matra-Ford</td><td>French</td><td>Ergast API</td><td>2021-04-18</td><td>2025-08-05T11:42:11.980802Z</td></tr><tr><td>197</td><td>brm-ford</td><td>BRM-Ford</td><td>British</td><td>Ergast API</td><td>2021-04-18</td><td>2025-08-05T11:42:11.980802Z</td></tr><tr><td>198</td><td>mclaren-alfa_romeo</td><td>McLaren-Alfa Romeo</td><td>British</td><td>Ergast API</td><td>2021-04-18</td><td>2025-08-05T11:42:11.980802Z</td></tr><tr><td>199</td><td>march-alfa_romeo</td><td>March-Alfa Romeo</td><td>British</td><td>Ergast API</td><td>2021-04-18</td><td>2025-08-05T11:42:11.980802Z</td></tr><tr><td>200</td><td>march-ford</td><td>March-Ford</td><td>British</td><td>Ergast API</td><td>2021-04-18</td><td>2025-08-05T11:42:11.980802Z</td></tr><tr><td>201</td><td>lotus-pw</td><td>Lotus-Pratt &amp; Whitney</td><td>British</td><td>Ergast API</td><td>2021-04-18</td><td>2025-08-05T11:42:11.980802Z</td></tr><tr><td>202</td><td>shadow-ford</td><td>Shadow-Ford</td><td>British</td><td>Ergast API</td><td>2021-04-18</td><td>2025-08-05T11:42:11.980802Z</td></tr><tr><td>203</td><td>shadow-matra</td><td>Shadow-Matra</td><td>British</td><td>Ergast API</td><td>2021-04-18</td><td>2025-08-05T11:42:11.980802Z</td></tr><tr><td>204</td><td>brabham-alfa_romeo</td><td>Brabham-Alfa Romeo</td><td>British</td><td>Ergast API</td><td>2021-04-18</td><td>2025-08-05T11:42:11.980802Z</td></tr><tr><td>205</td><td>lotus_racing</td><td>Lotus</td><td>Malaysian</td><td>Ergast API</td><td>2021-04-18</td><td>2025-08-05T11:42:11.980802Z</td></tr><tr><td>206</td><td>marussia</td><td>Marussia</td><td>Russian</td><td>Ergast API</td><td>2021-04-18</td><td>2025-08-05T11:42:11.980802Z</td></tr><tr><td>207</td><td>caterham</td><td>Caterham</td><td>Malaysian</td><td>Ergast API</td><td>2021-04-18</td><td>2025-08-05T11:42:11.980802Z</td></tr><tr><td>208</td><td>lotus_f1</td><td>Lotus F1</td><td>British</td><td>Ergast API</td><td>2021-04-18</td><td>2025-08-05T11:42:11.980802Z</td></tr><tr><td>209</td><td>manor</td><td>Manor Marussia</td><td>British</td><td>Ergast API</td><td>2021-04-18</td><td>2025-08-05T11:42:11.980802Z</td></tr><tr><td>210</td><td>haas</td><td>Haas F1 Team</td><td>American</td><td>Ergast API</td><td>2021-04-18</td><td>2025-08-05T11:42:11.980802Z</td></tr><tr><td>211</td><td>racing_point</td><td>Racing Point</td><td>British</td><td>Ergast API</td><td>2021-04-18</td><td>2025-08-05T11:42:11.980802Z</td></tr><tr><td>213</td><td>alphatauri</td><td>AlphaTauri</td><td>Italian</td><td>Ergast API</td><td>2021-04-18</td><td>2025-08-05T11:42:11.980802Z</td></tr><tr><td>214</td><td>alpine</td><td>Alpine F1 Team</td><td>French</td><td>Ergast API</td><td>2021-04-18</td><td>2025-08-05T11:42:11.980802Z</td></tr></tbody></table></div>"
      ]
     },
     "metadata": {
      "application/vnd.databricks.v1+output": {
       "addedWidgets": {},
       "aggData": [],
       "aggError": "",
       "aggOverflow": false,
       "aggSchema": [],
       "aggSeriesLimitReached": false,
       "aggType": "",
       "arguments": {},
       "columnCustomDisplayInfos": {},
       "data": [
        [
         1,
         "mclaren",
         "McLaren",
         "British",
         "Ergast API",
         "2021-04-18",
         "2025-08-05T11:42:11.980802Z"
        ],
        [
         2,
         "bmw_sauber",
         "BMW Sauber",
         "German",
         "Ergast API",
         "2021-04-18",
         "2025-08-05T11:42:11.980802Z"
        ],
        [
         3,
         "williams",
         "Williams",
         "British",
         "Ergast API",
         "2021-04-18",
         "2025-08-05T11:42:11.980802Z"
        ],
        [
         4,
         "renault",
         "Renault",
         "French",
         "Ergast API",
         "2021-04-18",
         "2025-08-05T11:42:11.980802Z"
        ],
        [
         5,
         "toro_rosso",
         "Toro Rosso",
         "Italian",
         "Ergast API",
         "2021-04-18",
         "2025-08-05T11:42:11.980802Z"
        ],
        [
         6,
         "ferrari",
         "Ferrari",
         "Italian",
         "Ergast API",
         "2021-04-18",
         "2025-08-05T11:42:11.980802Z"
        ],
        [
         7,
         "toyota",
         "Toyota",
         "Japanese",
         "Ergast API",
         "2021-04-18",
         "2025-08-05T11:42:11.980802Z"
        ],
        [
         8,
         "super_aguri",
         "Super Aguri",
         "Japanese",
         "Ergast API",
         "2021-04-18",
         "2025-08-05T11:42:11.980802Z"
        ],
        [
         9,
         "red_bull",
         "Red Bull",
         "Austrian",
         "Ergast API",
         "2021-04-18",
         "2025-08-05T11:42:11.980802Z"
        ],
        [
         10,
         "force_india",
         "Force India",
         "Indian",
         "Ergast API",
         "2021-04-18",
         "2025-08-05T11:42:11.980802Z"
        ],
        [
         11,
         "honda",
         "Honda",
         "Japanese",
         "Ergast API",
         "2021-04-18",
         "2025-08-05T11:42:11.980802Z"
        ],
        [
         12,
         "spyker",
         "Spyker",
         "Dutch",
         "Ergast API",
         "2021-04-18",
         "2025-08-05T11:42:11.980802Z"
        ],
        [
         13,
         "mf1",
         "MF1",
         "Russian",
         "Ergast API",
         "2021-04-18",
         "2025-08-05T11:42:11.980802Z"
        ],
        [
         14,
         "spyker_mf1",
         "Spyker MF1",
         "Dutch",
         "Ergast API",
         "2021-04-18",
         "2025-08-05T11:42:11.980802Z"
        ],
        [
         15,
         "sauber",
         "Sauber",
         "Swiss",
         "Ergast API",
         "2021-04-18",
         "2025-08-05T11:42:11.980802Z"
        ],
        [
         16,
         "bar",
         "BAR",
         "British",
         "Ergast API",
         "2021-04-18",
         "2025-08-05T11:42:11.980802Z"
        ],
        [
         17,
         "jordan",
         "Jordan",
         "Irish",
         "Ergast API",
         "2021-04-18",
         "2025-08-05T11:42:11.980802Z"
        ],
        [
         18,
         "minardi",
         "Minardi",
         "Italian",
         "Ergast API",
         "2021-04-18",
         "2025-08-05T11:42:11.980802Z"
        ],
        [
         19,
         "jaguar",
         "Jaguar",
         "British",
         "Ergast API",
         "2021-04-18",
         "2025-08-05T11:42:11.980802Z"
        ],
        [
         20,
         "prost",
         "Prost",
         "French",
         "Ergast API",
         "2021-04-18",
         "2025-08-05T11:42:11.980802Z"
        ],
        [
         21,
         "arrows",
         "Arrows",
         "British",
         "Ergast API",
         "2021-04-18",
         "2025-08-05T11:42:11.980802Z"
        ],
        [
         22,
         "benetton",
         "Benetton",
         "Italian",
         "Ergast API",
         "2021-04-18",
         "2025-08-05T11:42:11.980802Z"
        ],
        [
         23,
         "brawn",
         "Brawn",
         "British",
         "Ergast API",
         "2021-04-18",
         "2025-08-05T11:42:11.980802Z"
        ],
        [
         24,
         "stewart",
         "Stewart",
         "British",
         "Ergast API",
         "2021-04-18",
         "2025-08-05T11:42:11.980802Z"
        ],
        [
         25,
         "tyrrell",
         "Tyrrell",
         "British",
         "Ergast API",
         "2021-04-18",
         "2025-08-05T11:42:11.980802Z"
        ],
        [
         26,
         "lola",
         "Lola",
         "British",
         "Ergast API",
         "2021-04-18",
         "2025-08-05T11:42:11.980802Z"
        ],
        [
         27,
         "ligier",
         "Ligier",
         "French",
         "Ergast API",
         "2021-04-18",
         "2025-08-05T11:42:11.980802Z"
        ],
        [
         28,
         "forti",
         "Forti",
         "Italian",
         "Ergast API",
         "2021-04-18",
         "2025-08-05T11:42:11.980802Z"
        ],
        [
         29,
         "footwork",
         "Footwork",
         "British",
         "Ergast API",
         "2021-04-18",
         "2025-08-05T11:42:11.980802Z"
        ],
        [
         30,
         "pacific",
         "Pacific",
         "British",
         "Ergast API",
         "2021-04-18",
         "2025-08-05T11:42:11.980802Z"
        ],
        [
         31,
         "simtek",
         "Simtek",
         "British",
         "Ergast API",
         "2021-04-18",
         "2025-08-05T11:42:11.980802Z"
        ],
        [
         32,
         "team_lotus",
         "Team Lotus",
         "British",
         "Ergast API",
         "2021-04-18",
         "2025-08-05T11:42:11.980802Z"
        ],
        [
         33,
         "larrousse",
         "Larrousse",
         "French",
         "Ergast API",
         "2021-04-18",
         "2025-08-05T11:42:11.980802Z"
        ],
        [
         34,
         "brabham",
         "Brabham",
         "British",
         "Ergast API",
         "2021-04-18",
         "2025-08-05T11:42:11.980802Z"
        ],
        [
         35,
         "dallara",
         "Dallara",
         "Italian",
         "Ergast API",
         "2021-04-18",
         "2025-08-05T11:42:11.980802Z"
        ],
        [
         36,
         "fondmetal",
         "Fondmetal",
         "Italian",
         "Ergast API",
         "2021-04-18",
         "2025-08-05T11:42:11.980802Z"
        ],
        [
         37,
         "march",
         "March",
         "British",
         "Ergast API",
         "2021-04-18",
         "2025-08-05T11:42:11.980802Z"
        ],
        [
         38,
         "moda",
         "Andrea Moda",
         "Italian",
         "Ergast API",
         "2021-04-18",
         "2025-08-05T11:42:11.980802Z"
        ],
        [
         39,
         "ags",
         "AGS",
         "French",
         "Ergast API",
         "2021-04-18",
         "2025-08-05T11:42:11.980802Z"
        ],
        [
         40,
         "lambo",
         "Lambo",
         "Italian",
         "Ergast API",
         "2021-04-18",
         "2025-08-05T11:42:11.980802Z"
        ],
        [
         41,
         "leyton",
         "Leyton House",
         "British",
         "Ergast API",
         "2021-04-18",
         "2025-08-05T11:42:11.980802Z"
        ],
        [
         42,
         "coloni",
         "Coloni",
         "Italian",
         "Ergast API",
         "2021-04-18",
         "2025-08-05T11:42:11.980802Z"
        ],
        [
         44,
         "eurobrun",
         "Euro Brun",
         "Italian",
         "Ergast API",
         "2021-04-18",
         "2025-08-05T11:42:11.980802Z"
        ],
        [
         45,
         "osella",
         "Osella",
         "Italian",
         "Ergast API",
         "2021-04-18",
         "2025-08-05T11:42:11.980802Z"
        ],
        [
         46,
         "onyx",
         "Onyx",
         "British",
         "Ergast API",
         "2021-04-18",
         "2025-08-05T11:42:11.980802Z"
        ],
        [
         47,
         "life",
         "Life",
         "Italian",
         "Ergast API",
         "2021-04-18",
         "2025-08-05T11:42:11.980802Z"
        ],
        [
         48,
         "rial",
         "Rial",
         "German",
         "Ergast API",
         "2021-04-18",
         "2025-08-05T11:42:11.980802Z"
        ],
        [
         49,
         "zakspeed",
         "Zakspeed",
         "German",
         "Ergast API",
         "2021-04-18",
         "2025-08-05T11:42:11.980802Z"
        ],
        [
         50,
         "ram",
         "RAM",
         "British",
         "Ergast API",
         "2021-04-18",
         "2025-08-05T11:42:11.980802Z"
        ],
        [
         51,
         "alfa",
         "Alfa Romeo",
         "Swiss",
         "Ergast API",
         "2021-04-18",
         "2025-08-05T11:42:11.980802Z"
        ],
        [
         52,
         "spirit",
         "Spirit",
         "British",
         "Ergast API",
         "2021-04-18",
         "2025-08-05T11:42:11.980802Z"
        ],
        [
         53,
         "toleman",
         "Toleman",
         "British",
         "Ergast API",
         "2021-04-18",
         "2025-08-05T11:42:11.980802Z"
        ],
        [
         54,
         "ats",
         "ATS",
         "Italian",
         "Ergast API",
         "2021-04-18",
         "2025-08-05T11:42:11.980802Z"
        ],
        [
         55,
         "theodore",
         "Theodore",
         "Hong Kong",
         "Ergast API",
         "2021-04-18",
         "2025-08-05T11:42:11.980802Z"
        ],
        [
         56,
         "fittipaldi",
         "Fittipaldi",
         "Brazilian",
         "Ergast API",
         "2021-04-18",
         "2025-08-05T11:42:11.980802Z"
        ],
        [
         57,
         "ensign",
         "Ensign",
         "British",
         "Ergast API",
         "2021-04-18",
         "2025-08-05T11:42:11.980802Z"
        ],
        [
         58,
         "shadow",
         "Shadow",
         "British",
         "Ergast API",
         "2021-04-18",
         "2025-08-05T11:42:11.980802Z"
        ],
        [
         59,
         "wolf",
         "Wolf",
         "Canadian",
         "Ergast API",
         "2021-04-18",
         "2025-08-05T11:42:11.980802Z"
        ],
        [
         60,
         "merzario",
         "Merzario",
         "Italian",
         "Ergast API",
         "2021-04-18",
         "2025-08-05T11:42:11.980802Z"
        ],
        [
         61,
         "kauhsen",
         "Kauhsen",
         "German",
         "Ergast API",
         "2021-04-18",
         "2025-08-05T11:42:11.980802Z"
        ],
        [
         62,
         "rebaque",
         "Rebaque",
         "Mexican",
         "Ergast API",
         "2021-04-18",
         "2025-08-05T11:42:11.980802Z"
        ],
        [
         63,
         "surtees",
         "Surtees",
         "British",
         "Ergast API",
         "2021-04-18",
         "2025-08-05T11:42:11.980802Z"
        ],
        [
         64,
         "hesketh",
         "Hesketh",
         "British",
         "Ergast API",
         "2021-04-18",
         "2025-08-05T11:42:11.980802Z"
        ],
        [
         65,
         "martini",
         "Martini",
         "French",
         "Ergast API",
         "2021-04-18",
         "2025-08-05T11:42:11.980802Z"
        ],
        [
         66,
         "brm",
         "BRM",
         "British",
         "Ergast API",
         "2021-04-18",
         "2025-08-05T11:42:11.980802Z"
        ],
        [
         67,
         "penske",
         "Penske",
         "American",
         "Ergast API",
         "2021-04-18",
         "2025-08-05T11:42:11.980802Z"
        ],
        [
         68,
         "lec",
         "LEC",
         "British",
         "Ergast API",
         "2021-04-18",
         "2025-08-05T11:42:11.980802Z"
        ],
        [
         69,
         "mcguire",
         "McGuire",
         "Australian",
         "Ergast API",
         "2021-04-18",
         "2025-08-05T11:42:11.980802Z"
        ],
        [
         70,
         "boro",
         "Boro",
         "Dutch",
         "Ergast API",
         "2021-04-18",
         "2025-08-05T11:42:11.980802Z"
        ],
        [
         71,
         "apollon",
         "Apollon",
         "Swiss",
         "Ergast API",
         "2021-04-18",
         "2025-08-05T11:42:11.980802Z"
        ],
        [
         72,
         "kojima",
         "Kojima",
         "Japanese",
         "Ergast API",
         "2021-04-18",
         "2025-08-05T11:42:11.980802Z"
        ],
        [
         73,
         "parnelli",
         "Parnelli",
         "American",
         "Ergast API",
         "2021-04-18",
         "2025-08-05T11:42:11.980802Z"
        ],
        [
         74,
         "maki",
         "Maki",
         "Japanese",
         "Ergast API",
         "2021-04-18",
         "2025-08-05T11:42:11.980802Z"
        ],
        [
         75,
         "hill",
         "Embassy Hill",
         "British",
         "Ergast API",
         "2021-04-18",
         "2025-08-05T11:42:11.980802Z"
        ],
        [
         76,
         "lyncar",
         "Lyncar",
         "British",
         "Ergast API",
         "2021-04-18",
         "2025-08-05T11:42:11.980802Z"
        ],
        [
         77,
         "trojan",
         "Trojan",
         "British",
         "Ergast API",
         "2021-04-18",
         "2025-08-05T11:42:11.980802Z"
        ],
        [
         78,
         "amon",
         "Amon",
         "New Zealand",
         "Ergast API",
         "2021-04-18",
         "2025-08-05T11:42:11.980802Z"
        ],
        [
         79,
         "token",
         "Token",
         "British",
         "Ergast API",
         "2021-04-18",
         "2025-08-05T11:42:11.980802Z"
        ],
        [
         80,
         "iso_marlboro",
         "Iso Marlboro",
         "British",
         "Ergast API",
         "2021-04-18",
         "2025-08-05T11:42:11.980802Z"
        ],
        [
         81,
         "tecno",
         "Tecno",
         "Italian",
         "Ergast API",
         "2021-04-18",
         "2025-08-05T11:42:11.980802Z"
        ],
        [
         82,
         "matra",
         "Matra",
         "French",
         "Ergast API",
         "2021-04-18",
         "2025-08-05T11:42:11.980802Z"
        ],
        [
         83,
         "politoys",
         "Politoys",
         "British",
         "Ergast API",
         "2021-04-18",
         "2025-08-05T11:42:11.980802Z"
        ],
        [
         84,
         "connew",
         "Connew",
         "British",
         "Ergast API",
         "2021-04-18",
         "2025-08-05T11:42:11.980802Z"
        ],
        [
         85,
         "bellasi",
         "Bellasi",
         "Swiss",
         "Ergast API",
         "2021-04-18",
         "2025-08-05T11:42:11.980802Z"
        ],
        [
         86,
         "tomaso",
         "De Tomaso",
         "Italian",
         "Ergast API",
         "2021-04-18",
         "2025-08-05T11:42:11.980802Z"
        ],
        [
         87,
         "cooper",
         "Cooper",
         "British",
         "Ergast API",
         "2021-04-18",
         "2025-08-05T11:42:11.980802Z"
        ],
        [
         88,
         "eagle",
         "Eagle",
         "American",
         "Ergast API",
         "2021-04-18",
         "2025-08-05T11:42:11.980802Z"
        ],
        [
         89,
         "lds",
         "LDS",
         "South African",
         "Ergast API",
         "2021-04-18",
         "2025-08-05T11:42:11.980802Z"
        ],
        [
         90,
         "protos",
         "Protos",
         "British",
         "Ergast API",
         "2021-04-18",
         "2025-08-05T11:42:11.980802Z"
        ],
        [
         91,
         "shannon",
         "Shannon",
         "British",
         "Ergast API",
         "2021-04-18",
         "2025-08-05T11:42:11.980802Z"
        ],
        [
         92,
         "scirocco",
         "Scirocco",
         "British",
         "Ergast API",
         "2021-04-18",
         "2025-08-05T11:42:11.980802Z"
        ],
        [
         93,
         "re",
         "RE",
         "Rhodesian",
         "Ergast API",
         "2021-04-18",
         "2025-08-05T11:42:11.980802Z"
        ],
        [
         94,
         "brp",
         "BRP",
         "British",
         "Ergast API",
         "2021-04-18",
         "2025-08-05T11:42:11.980802Z"
        ],
        [
         95,
         "porsche",
         "Porsche",
         "German",
         "Ergast API",
         "2021-04-18",
         "2025-08-05T11:42:11.980802Z"
        ],
        [
         96,
         "derrington",
         "Derrington",
         "British",
         "Ergast API",
         "2021-04-18",
         "2025-08-05T11:42:11.980802Z"
        ],
        [
         97,
         "gilby",
         "Gilby",
         "British",
         "Ergast API",
         "2021-04-18",
         "2025-08-05T11:42:11.980802Z"
        ],
        [
         98,
         "stebro",
         "Stebro",
         "Canadian",
         "Ergast API",
         "2021-04-18",
         "2025-08-05T11:42:11.980802Z"
        ],
        [
         99,
         "emeryson",
         "Emeryson",
         "British",
         "Ergast API",
         "2021-04-18",
         "2025-08-05T11:42:11.980802Z"
        ],
        [
         100,
         "enb",
         "ENB",
         "Belgium",
         "Ergast API",
         "2021-04-18",
         "2025-08-05T11:42:11.980802Z"
        ],
        [
         101,
         "jbw",
         "JBW",
         "British",
         "Ergast API",
         "2021-04-18",
         "2025-08-05T11:42:11.980802Z"
        ],
        [
         102,
         "ferguson",
         "Ferguson",
         "British",
         "Ergast API",
         "2021-04-18",
         "2025-08-05T11:42:11.980802Z"
        ],
        [
         103,
         "mbm",
         "MBM",
         "Swiss",
         "Ergast API",
         "2021-04-18",
         "2025-08-05T11:42:11.980802Z"
        ],
        [
         104,
         "behra-porsche",
         "Behra-Porsche",
         "Italian",
         "Ergast API",
         "2021-04-18",
         "2025-08-05T11:42:11.980802Z"
        ],
        [
         105,
         "maserati",
         "Maserati",
         "Italian",
         "Ergast API",
         "2021-04-18",
         "2025-08-05T11:42:11.980802Z"
        ],
        [
         106,
         "scarab",
         "Scarab",
         "American",
         "Ergast API",
         "2021-04-18",
         "2025-08-05T11:42:11.980802Z"
        ],
        [
         107,
         "watson",
         "Watson",
         "American",
         "Ergast API",
         "2021-04-18",
         "2025-08-05T11:42:11.980802Z"
        ],
        [
         108,
         "epperly",
         "Epperly",
         "American",
         "Ergast API",
         "2021-04-18",
         "2025-08-05T11:42:11.980802Z"
        ],
        [
         109,
         "phillips",
         "Phillips",
         "American",
         "Ergast API",
         "2021-04-18",
         "2025-08-05T11:42:11.980802Z"
        ],
        [
         110,
         "lesovsky",
         "Lesovsky",
         "American",
         "Ergast API",
         "2021-04-18",
         "2025-08-05T11:42:11.980802Z"
        ],
        [
         111,
         "trevis",
         "Trevis",
         "American",
         "Ergast API",
         "2021-04-18",
         "2025-08-05T11:42:11.980802Z"
        ],
        [
         112,
         "meskowski",
         "Meskowski",
         "American",
         "Ergast API",
         "2021-04-18",
         "2025-08-05T11:42:11.980802Z"
        ],
        [
         113,
         "kurtis_kraft",
         "Kurtis Kraft",
         "American",
         "Ergast API",
         "2021-04-18",
         "2025-08-05T11:42:11.980802Z"
        ],
        [
         114,
         "kuzma",
         "Kuzma",
         "American",
         "Ergast API",
         "2021-04-18",
         "2025-08-05T11:42:11.980802Z"
        ],
        [
         115,
         "vhristensen",
         "Christensen",
         "American",
         "Ergast API",
         "2021-04-18",
         "2025-08-05T11:42:11.980802Z"
        ],
        [
         116,
         "ewing",
         "Ewing",
         "American",
         "Ergast API",
         "2021-04-18",
         "2025-08-05T11:42:11.980802Z"
        ],
        [
         117,
         "aston_martin",
         "Aston Martin",
         "British",
         "Ergast API",
         "2021-04-18",
         "2025-08-05T11:42:11.980802Z"
        ],
        [
         118,
         "vanwall",
         "Vanwall",
         "British",
         "Ergast API",
         "2021-04-18",
         "2025-08-05T11:42:11.980802Z"
        ],
        [
         119,
         "moore",
         "Moore",
         "American",
         "Ergast API",
         "2021-04-18",
         "2025-08-05T11:42:11.980802Z"
        ],
        [
         120,
         "dunn",
         "Dunn",
         "American",
         "Ergast API",
         "2021-04-18",
         "2025-08-05T11:42:11.980802Z"
        ],
        [
         121,
         "elder",
         "Elder",
         "American",
         "Ergast API",
         "2021-04-18",
         "2025-08-05T11:42:11.980802Z"
        ],
        [
         122,
         "sutton",
         "Sutton",
         "American",
         "Ergast API",
         "2021-04-18",
         "2025-08-05T11:42:11.980802Z"
        ],
        [
         123,
         "fry",
         "Fry",
         "British",
         "Ergast API",
         "2021-04-18",
         "2025-08-05T11:42:11.980802Z"
        ],
        [
         124,
         "tec-mec",
         "Tec-Mec",
         "Italian",
         "Ergast API",
         "2021-04-18",
         "2025-08-05T11:42:11.980802Z"
        ],
        [
         125,
         "connaught",
         "Connaught",
         "British",
         "Ergast API",
         "2021-04-18",
         "2025-08-05T11:42:11.980802Z"
        ],
        [
         126,
         "alta",
         "Alta",
         "British",
         "Ergast API",
         "2021-04-18",
         "2025-08-05T11:42:11.980802Z"
        ],
        [
         127,
         "osca",
         "OSCA",
         "Italian",
         "Ergast API",
         "2021-04-18",
         "2025-08-05T11:42:11.980802Z"
        ],
        [
         128,
         "gordini",
         "Gordini",
         "French",
         "Ergast API",
         "2021-04-18",
         "2025-08-05T11:42:11.980802Z"
        ],
        [
         129,
         "stevens",
         "Stevens",
         "American",
         "Ergast API",
         "2021-04-18",
         "2025-08-05T11:42:11.980802Z"
        ],
        [
         130,
         "bugatti",
         "Bugatti",
         "French",
         "Ergast API",
         "2021-04-18",
         "2025-08-05T11:42:11.980802Z"
        ],
        [
         131,
         "mercedes",
         "Mercedes",
         "German",
         "Ergast API",
         "2021-04-18",
         "2025-08-05T11:42:11.980802Z"
        ],
        [
         132,
         "lancia",
         "Lancia",
         "Italian",
         "Ergast API",
         "2021-04-18",
         "2025-08-05T11:42:11.980802Z"
        ],
        [
         133,
         "hwm",
         "HWM",
         "British",
         "Ergast API",
         "2021-04-18",
         "2025-08-05T11:42:11.980802Z"
        ],
        [
         134,
         "schroeder",
         "Schroeder",
         "American",
         "Ergast API",
         "2021-04-18",
         "2025-08-05T11:42:11.980802Z"
        ],
        [
         135,
         "pawl",
         "Pawl",
         "American",
         "Ergast API",
         "2021-04-18",
         "2025-08-05T11:42:11.980802Z"
        ],
        [
         136,
         "pankratz",
         "Pankratz",
         "American",
         "Ergast API",
         "2021-04-18",
         "2025-08-05T11:42:11.980802Z"
        ],
        [
         137,
         "arzani-volpini",
         "Arzani-Volpini",
         "Italian",
         "Ergast API",
         "2021-04-18",
         "2025-08-05T11:42:11.980802Z"
        ],
        [
         138,
         "nichels",
         "Nichels",
         "American",
         "Ergast API",
         "2021-04-18",
         "2025-08-05T11:42:11.980802Z"
        ],
        [
         139,
         "bromme",
         "Bromme",
         "American",
         "Ergast API",
         "2021-04-18",
         "2025-08-05T11:42:11.980802Z"
        ],
        [
         140,
         "klenk",
         "Klenk",
         "German",
         "Ergast API",
         "2021-04-18",
         "2025-08-05T11:42:11.980802Z"
        ],
        [
         141,
         "simca",
         "Simca",
         "French",
         "Ergast API",
         "2021-04-18",
         "2025-08-05T11:42:11.980802Z"
        ],
        [
         142,
         "turner",
         "Turner",
         "American",
         "Ergast API",
         "2021-04-18",
         "2025-08-05T11:42:11.980802Z"
        ],
        [
         143,
         "del_roy",
         "Del Roy",
         "American",
         "Ergast API",
         "2021-04-18",
         "2025-08-05T11:42:11.980802Z"
        ],
        [
         144,
         "veritas",
         "Veritas",
         "German",
         "Ergast API",
         "2021-04-18",
         "2025-08-05T11:42:11.980802Z"
        ],
        [
         145,
         "bmw",
         "BMW",
         "German",
         "Ergast API",
         "2021-04-18",
         "2025-08-05T11:42:11.980802Z"
        ],
        [
         146,
         "emw",
         "EMW",
         "East German",
         "Ergast API",
         "2021-04-18",
         "2025-08-05T11:42:11.980802Z"
        ],
        [
         147,
         "afm",
         "AFM",
         "German",
         "Ergast API",
         "2021-04-18",
         "2025-08-05T11:42:11.980802Z"
        ],
        [
         148,
         "frazer_nash",
         "Frazer Nash",
         "British",
         "Ergast API",
         "2021-04-18",
         "2025-08-05T11:42:11.980802Z"
        ],
        [
         149,
         "sherman",
         "Sherman",
         "American",
         "Ergast API",
         "2021-04-18",
         "2025-08-05T11:42:11.980802Z"
        ],
        [
         150,
         "deidt",
         "Deidt",
         "American",
         "Ergast API",
         "2021-04-18",
         "2025-08-05T11:42:11.980802Z"
        ],
        [
         151,
         "era",
         "ERA",
         "British",
         "Ergast API",
         "2021-04-18",
         "2025-08-05T11:42:11.980802Z"
        ],
        [
         152,
         "butterworth",
         "Aston Butterworth",
         "British",
         "Ergast API",
         "2021-04-18",
         "2025-08-05T11:42:11.980802Z"
        ],
        [
         153,
         "cisitalia",
         "Cisitalia",
         "Italian",
         "Ergast API",
         "2021-04-18",
         "2025-08-05T11:42:11.980802Z"
        ],
        [
         154,
         "lago",
         "Talbot-Lago",
         "French",
         "Ergast API",
         "2021-04-18",
         "2025-08-05T11:42:11.980802Z"
        ],
        [
         155,
         "hall",
         "Hall",
         "American",
         "Ergast API",
         "2021-04-18",
         "2025-08-05T11:42:11.980802Z"
        ],
        [
         156,
         "marchese",
         "Marchese",
         "American",
         "Ergast API",
         "2021-04-18",
         "2025-08-05T11:42:11.980802Z"
        ],
        [
         157,
         "langley",
         "Langley",
         "American",
         "Ergast API",
         "2021-04-18",
         "2025-08-05T11:42:11.980802Z"
        ],
        [
         158,
         "rae",
         "Rae",
         "American",
         "Ergast API",
         "2021-04-18",
         "2025-08-05T11:42:11.980802Z"
        ],
        [
         159,
         "olson",
         "Olson",
         "American",
         "Ergast API",
         "2021-04-18",
         "2025-08-05T11:42:11.980802Z"
        ],
        [
         160,
         "wetteroth",
         "Wetteroth",
         "American",
         "Ergast API",
         "2021-04-18",
         "2025-08-05T11:42:11.980802Z"
        ],
        [
         161,
         "adams",
         "Adams",
         "American",
         "Ergast API",
         "2021-04-18",
         "2025-08-05T11:42:11.980802Z"
        ],
        [
         162,
         "snowberger",
         "Snowberger",
         "American",
         "Ergast API",
         "2021-04-18",
         "2025-08-05T11:42:11.980802Z"
        ],
        [
         163,
         "milano",
         "Milano",
         "Italian",
         "Ergast API",
         "2021-04-18",
         "2025-08-05T11:42:11.980802Z"
        ],
        [
         164,
         "hrt",
         "HRT",
         "Spanish",
         "Ergast API",
         "2021-04-18",
         "2025-08-05T11:42:11.980802Z"
        ],
        [
         167,
         "cooper-maserati",
         "Cooper-Maserati",
         "British",
         "Ergast API",
         "2021-04-18",
         "2025-08-05T11:42:11.980802Z"
        ],
        [
         166,
         "virgin",
         "Virgin",
         "British",
         "Ergast API",
         "2021-04-18",
         "2025-08-05T11:42:11.980802Z"
        ],
        [
         168,
         "cooper-osca",
         "Cooper-OSCA",
         "British",
         "Ergast API",
         "2021-04-18",
         "2025-08-05T11:42:11.980802Z"
        ],
        [
         169,
         "cooper-borgward",
         "Cooper-Borgward",
         "British",
         "Ergast API",
         "2021-04-18",
         "2025-08-05T11:42:11.980802Z"
        ],
        [
         170,
         "cooper-climax",
         "Cooper-Climax",
         "British",
         "Ergast API",
         "2021-04-18",
         "2025-08-05T11:42:11.980802Z"
        ],
        [
         171,
         "cooper-castellotti",
         "Cooper-Castellotti",
         "British",
         "Ergast API",
         "2021-04-18",
         "2025-08-05T11:42:11.980802Z"
        ],
        [
         172,
         "lotus-climax",
         "Lotus-Climax",
         "British",
         "Ergast API",
         "2021-04-18",
         "2025-08-05T11:42:11.980802Z"
        ],
        [
         173,
         "lotus-maserati",
         "Lotus-Maserati",
         "British",
         "Ergast API",
         "2021-04-18",
         "2025-08-05T11:42:11.980802Z"
        ],
        [
         174,
         "de_tomaso-osca",
         "De Tomaso-Osca",
         "Italian",
         "Ergast API",
         "2021-04-18",
         "2025-08-05T11:42:11.980802Z"
        ],
        [
         175,
         "de_tomaso-alfa_romeo",
         "De Tomaso-Alfa Romeo",
         "Italian",
         "Ergast API",
         "2021-04-18",
         "2025-08-05T11:42:11.980802Z"
        ],
        [
         176,
         "lotus-brm",
         "Lotus-BRM",
         "British",
         "Ergast API",
         "2021-04-18",
         "2025-08-05T11:42:11.980802Z"
        ],
        [
         177,
         "lotus-borgward",
         "Lotus-Borgward",
         "British",
         "Ergast API",
         "2021-04-18",
         "2025-08-05T11:42:11.980802Z"
        ],
        [
         178,
         "cooper-alfa_romeo",
         "Cooper-Alfa Romeo",
         "British",
         "Ergast API",
         "2021-04-18",
         "2025-08-05T11:42:11.980802Z"
        ],
        [
         179,
         "de_tomaso-ferrari",
         "De Tomaso-Ferrari",
         "Italian",
         "Ergast API",
         "2021-04-18",
         "2025-08-05T11:42:11.980802Z"
        ],
        [
         180,
         "lotus-ford",
         "Lotus-Ford",
         "British",
         "Ergast API",
         "2021-04-18",
         "2025-08-05T11:42:11.980802Z"
        ],
        [
         181,
         "brabham-brm",
         "Brabham-BRM",
         "British",
         "Ergast API",
         "2021-04-18",
         "2025-08-05T11:42:11.980802Z"
        ],
        [
         182,
         "brabham-ford",
         "Brabham-Ford",
         "British",
         "Ergast API",
         "2021-04-18",
         "2025-08-05T11:42:11.980802Z"
        ],
        [
         183,
         "brabham-climax",
         "Brabham-Climax",
         "British",
         "Ergast API",
         "2021-04-18",
         "2025-08-05T11:42:11.980802Z"
        ],
        [
         184,
         "lds-climax",
         "LDS-Climax",
         "South African",
         "Ergast API",
         "2021-04-18",
         "2025-08-05T11:42:11.980802Z"
        ],
        [
         185,
         "lds-alfa_romeo",
         "LDS-Alfa Romeo",
         "South African",
         "Ergast API",
         "2021-04-18",
         "2025-08-05T11:42:11.980802Z"
        ],
        [
         186,
         "cooper-ford",
         "Cooper-Ford",
         "British",
         "Ergast API",
         "2021-04-18",
         "2025-08-05T11:42:11.980802Z"
        ],
        [
         187,
         "mclaren-ford",
         "McLaren-Ford",
         "British",
         "Ergast API",
         "2021-04-18",
         "2025-08-05T11:42:11.980802Z"
        ],
        [
         188,
         "mclaren-seren",
         "McLaren-Serenissima",
         "British",
         "Ergast API",
         "2021-04-18",
         "2025-08-05T11:42:11.980802Z"
        ],
        [
         189,
         "eagle-climax",
         "Eagle-Climax",
         "American",
         "Ergast API",
         "2021-04-18",
         "2025-08-05T11:42:11.980802Z"
        ],
        [
         190,
         "eagle-weslake",
         "Eagle-Weslake",
         "American",
         "Ergast API",
         "2021-04-18",
         "2025-08-05T11:42:11.980802Z"
        ],
        [
         191,
         "brabham-repco",
         "Brabham-Repco",
         "British",
         "Ergast API",
         "2021-04-18",
         "2025-08-05T11:42:11.980802Z"
        ],
        [
         192,
         "cooper-ferrari",
         "Cooper-Ferrari",
         "British",
         "Ergast API",
         "2021-04-18",
         "2025-08-05T11:42:11.980802Z"
        ],
        [
         193,
         "cooper-ats",
         "Cooper-ATS",
         "British",
         "Ergast API",
         "2021-04-18",
         "2025-08-05T11:42:11.980802Z"
        ],
        [
         194,
         "mclaren-brm",
         "McLaren-BRM",
         "British",
         "Ergast API",
         "2021-04-18",
         "2025-08-05T11:42:11.980802Z"
        ],
        [
         195,
         "cooper-brm",
         "Cooper-BRM",
         "British",
         "Ergast API",
         "2021-04-18",
         "2025-08-05T11:42:11.980802Z"
        ],
        [
         196,
         "matra-ford",
         "Matra-Ford",
         "French",
         "Ergast API",
         "2021-04-18",
         "2025-08-05T11:42:11.980802Z"
        ],
        [
         197,
         "brm-ford",
         "BRM-Ford",
         "British",
         "Ergast API",
         "2021-04-18",
         "2025-08-05T11:42:11.980802Z"
        ],
        [
         198,
         "mclaren-alfa_romeo",
         "McLaren-Alfa Romeo",
         "British",
         "Ergast API",
         "2021-04-18",
         "2025-08-05T11:42:11.980802Z"
        ],
        [
         199,
         "march-alfa_romeo",
         "March-Alfa Romeo",
         "British",
         "Ergast API",
         "2021-04-18",
         "2025-08-05T11:42:11.980802Z"
        ],
        [
         200,
         "march-ford",
         "March-Ford",
         "British",
         "Ergast API",
         "2021-04-18",
         "2025-08-05T11:42:11.980802Z"
        ],
        [
         201,
         "lotus-pw",
         "Lotus-Pratt &amp; Whitney",
         "British",
         "Ergast API",
         "2021-04-18",
         "2025-08-05T11:42:11.980802Z"
        ],
        [
         202,
         "shadow-ford",
         "Shadow-Ford",
         "British",
         "Ergast API",
         "2021-04-18",
         "2025-08-05T11:42:11.980802Z"
        ],
        [
         203,
         "shadow-matra",
         "Shadow-Matra",
         "British",
         "Ergast API",
         "2021-04-18",
         "2025-08-05T11:42:11.980802Z"
        ],
        [
         204,
         "brabham-alfa_romeo",
         "Brabham-Alfa Romeo",
         "British",
         "Ergast API",
         "2021-04-18",
         "2025-08-05T11:42:11.980802Z"
        ],
        [
         205,
         "lotus_racing",
         "Lotus",
         "Malaysian",
         "Ergast API",
         "2021-04-18",
         "2025-08-05T11:42:11.980802Z"
        ],
        [
         206,
         "marussia",
         "Marussia",
         "Russian",
         "Ergast API",
         "2021-04-18",
         "2025-08-05T11:42:11.980802Z"
        ],
        [
         207,
         "caterham",
         "Caterham",
         "Malaysian",
         "Ergast API",
         "2021-04-18",
         "2025-08-05T11:42:11.980802Z"
        ],
        [
         208,
         "lotus_f1",
         "Lotus F1",
         "British",
         "Ergast API",
         "2021-04-18",
         "2025-08-05T11:42:11.980802Z"
        ],
        [
         209,
         "manor",
         "Manor Marussia",
         "British",
         "Ergast API",
         "2021-04-18",
         "2025-08-05T11:42:11.980802Z"
        ],
        [
         210,
         "haas",
         "Haas F1 Team",
         "American",
         "Ergast API",
         "2021-04-18",
         "2025-08-05T11:42:11.980802Z"
        ],
        [
         211,
         "racing_point",
         "Racing Point",
         "British",
         "Ergast API",
         "2021-04-18",
         "2025-08-05T11:42:11.980802Z"
        ],
        [
         213,
         "alphatauri",
         "AlphaTauri",
         "Italian",
         "Ergast API",
         "2021-04-18",
         "2025-08-05T11:42:11.980802Z"
        ],
        [
         214,
         "alpine",
         "Alpine F1 Team",
         "French",
         "Ergast API",
         "2021-04-18",
         "2025-08-05T11:42:11.980802Z"
        ]
       ],
       "datasetInfos": [],
       "dbfsResultPath": null,
       "isJsonSchema": true,
       "metadata": {},
       "overflow": false,
       "plotOptions": {
        "customPlotOptions": {},
        "displayType": "table",
        "pivotAggregation": null,
        "pivotColumns": null,
        "xColumns": null,
        "yColumns": null
       },
       "removedWidgets": [],
       "schema": [
        {
         "metadata": "{}",
         "name": "constructor_id",
         "type": "\"integer\""
        },
        {
         "metadata": "{}",
         "name": "constructor_ref",
         "type": "\"string\""
        },
        {
         "metadata": "{}",
         "name": "name",
         "type": "\"string\""
        },
        {
         "metadata": "{}",
         "name": "nationality",
         "type": "\"string\""
        },
        {
         "metadata": "{}",
         "name": "data_source",
         "type": "\"string\""
        },
        {
         "metadata": "{}",
         "name": "file_date",
         "type": "\"string\""
        },
        {
         "metadata": "{}",
         "name": "ingestion_date",
         "type": "\"timestamp\""
        }
       ],
       "type": "table"
      }
     },
     "output_type": "display_data"
    }
   ],
   "source": [
    "display(constructor_final_df1)\n",
    "constructor_final_df1.write.mode(\"overwrite\").format(\"delta\").saveAsTable(\"f1_processed.constructors\")"
   ]
  },
  {
   "cell_type": "code",
   "execution_count": 0,
   "metadata": {
    "application/vnd.databricks.v1+cell": {
     "cellMetadata": {
      "byteLimit": 2048000,
      "implicitDf": true,
      "rowLimit": 10000
     },
     "inputWidgets": {},
     "nuid": "23cbe880-8ed8-4046-9088-f7d467e9d65a",
     "showTitle": false,
     "tableResultSettingsMap": {},
     "title": ""
    }
   },
   "outputs": [
    {
     "output_type": "display_data",
     "data": {
      "text/html": [
       "<style scoped>\n",
       "  .table-result-container {\n",
       "    max-height: 300px;\n",
       "    overflow: auto;\n",
       "  }\n",
       "  table, th, td {\n",
       "    border: 1px solid black;\n",
       "    border-collapse: collapse;\n",
       "  }\n",
       "  th, td {\n",
       "    padding: 5px;\n",
       "  }\n",
       "  th {\n",
       "    text-align: left;\n",
       "  }\n",
       "</style><div class='table-result-container'><table class='table-result'><thead style='background-color: white'><tr><th>constructor_id</th><th>constructor_ref</th><th>name</th><th>nationality</th><th>data_source</th><th>file_date</th><th>ingestion_date</th></tr></thead><tbody><tr><td>1</td><td>mclaren</td><td>McLaren</td><td>British</td><td>Ergast API</td><td>2021-04-18</td><td>2025-08-05T11:42:12.478639Z</td></tr><tr><td>2</td><td>bmw_sauber</td><td>BMW Sauber</td><td>German</td><td>Ergast API</td><td>2021-04-18</td><td>2025-08-05T11:42:12.478639Z</td></tr><tr><td>3</td><td>williams</td><td>Williams</td><td>British</td><td>Ergast API</td><td>2021-04-18</td><td>2025-08-05T11:42:12.478639Z</td></tr><tr><td>4</td><td>renault</td><td>Renault</td><td>French</td><td>Ergast API</td><td>2021-04-18</td><td>2025-08-05T11:42:12.478639Z</td></tr><tr><td>5</td><td>toro_rosso</td><td>Toro Rosso</td><td>Italian</td><td>Ergast API</td><td>2021-04-18</td><td>2025-08-05T11:42:12.478639Z</td></tr><tr><td>6</td><td>ferrari</td><td>Ferrari</td><td>Italian</td><td>Ergast API</td><td>2021-04-18</td><td>2025-08-05T11:42:12.478639Z</td></tr><tr><td>7</td><td>toyota</td><td>Toyota</td><td>Japanese</td><td>Ergast API</td><td>2021-04-18</td><td>2025-08-05T11:42:12.478639Z</td></tr><tr><td>8</td><td>super_aguri</td><td>Super Aguri</td><td>Japanese</td><td>Ergast API</td><td>2021-04-18</td><td>2025-08-05T11:42:12.478639Z</td></tr><tr><td>9</td><td>red_bull</td><td>Red Bull</td><td>Austrian</td><td>Ergast API</td><td>2021-04-18</td><td>2025-08-05T11:42:12.478639Z</td></tr><tr><td>10</td><td>force_india</td><td>Force India</td><td>Indian</td><td>Ergast API</td><td>2021-04-18</td><td>2025-08-05T11:42:12.478639Z</td></tr><tr><td>11</td><td>honda</td><td>Honda</td><td>Japanese</td><td>Ergast API</td><td>2021-04-18</td><td>2025-08-05T11:42:12.478639Z</td></tr><tr><td>12</td><td>spyker</td><td>Spyker</td><td>Dutch</td><td>Ergast API</td><td>2021-04-18</td><td>2025-08-05T11:42:12.478639Z</td></tr><tr><td>13</td><td>mf1</td><td>MF1</td><td>Russian</td><td>Ergast API</td><td>2021-04-18</td><td>2025-08-05T11:42:12.478639Z</td></tr><tr><td>14</td><td>spyker_mf1</td><td>Spyker MF1</td><td>Dutch</td><td>Ergast API</td><td>2021-04-18</td><td>2025-08-05T11:42:12.478639Z</td></tr><tr><td>15</td><td>sauber</td><td>Sauber</td><td>Swiss</td><td>Ergast API</td><td>2021-04-18</td><td>2025-08-05T11:42:12.478639Z</td></tr><tr><td>16</td><td>bar</td><td>BAR</td><td>British</td><td>Ergast API</td><td>2021-04-18</td><td>2025-08-05T11:42:12.478639Z</td></tr><tr><td>17</td><td>jordan</td><td>Jordan</td><td>Irish</td><td>Ergast API</td><td>2021-04-18</td><td>2025-08-05T11:42:12.478639Z</td></tr><tr><td>18</td><td>minardi</td><td>Minardi</td><td>Italian</td><td>Ergast API</td><td>2021-04-18</td><td>2025-08-05T11:42:12.478639Z</td></tr><tr><td>19</td><td>jaguar</td><td>Jaguar</td><td>British</td><td>Ergast API</td><td>2021-04-18</td><td>2025-08-05T11:42:12.478639Z</td></tr><tr><td>20</td><td>prost</td><td>Prost</td><td>French</td><td>Ergast API</td><td>2021-04-18</td><td>2025-08-05T11:42:12.478639Z</td></tr><tr><td>21</td><td>arrows</td><td>Arrows</td><td>British</td><td>Ergast API</td><td>2021-04-18</td><td>2025-08-05T11:42:12.478639Z</td></tr><tr><td>22</td><td>benetton</td><td>Benetton</td><td>Italian</td><td>Ergast API</td><td>2021-04-18</td><td>2025-08-05T11:42:12.478639Z</td></tr><tr><td>23</td><td>brawn</td><td>Brawn</td><td>British</td><td>Ergast API</td><td>2021-04-18</td><td>2025-08-05T11:42:12.478639Z</td></tr><tr><td>24</td><td>stewart</td><td>Stewart</td><td>British</td><td>Ergast API</td><td>2021-04-18</td><td>2025-08-05T11:42:12.478639Z</td></tr><tr><td>25</td><td>tyrrell</td><td>Tyrrell</td><td>British</td><td>Ergast API</td><td>2021-04-18</td><td>2025-08-05T11:42:12.478639Z</td></tr><tr><td>26</td><td>lola</td><td>Lola</td><td>British</td><td>Ergast API</td><td>2021-04-18</td><td>2025-08-05T11:42:12.478639Z</td></tr><tr><td>27</td><td>ligier</td><td>Ligier</td><td>French</td><td>Ergast API</td><td>2021-04-18</td><td>2025-08-05T11:42:12.478639Z</td></tr><tr><td>28</td><td>forti</td><td>Forti</td><td>Italian</td><td>Ergast API</td><td>2021-04-18</td><td>2025-08-05T11:42:12.478639Z</td></tr><tr><td>29</td><td>footwork</td><td>Footwork</td><td>British</td><td>Ergast API</td><td>2021-04-18</td><td>2025-08-05T11:42:12.478639Z</td></tr><tr><td>30</td><td>pacific</td><td>Pacific</td><td>British</td><td>Ergast API</td><td>2021-04-18</td><td>2025-08-05T11:42:12.478639Z</td></tr><tr><td>31</td><td>simtek</td><td>Simtek</td><td>British</td><td>Ergast API</td><td>2021-04-18</td><td>2025-08-05T11:42:12.478639Z</td></tr><tr><td>32</td><td>team_lotus</td><td>Team Lotus</td><td>British</td><td>Ergast API</td><td>2021-04-18</td><td>2025-08-05T11:42:12.478639Z</td></tr><tr><td>33</td><td>larrousse</td><td>Larrousse</td><td>French</td><td>Ergast API</td><td>2021-04-18</td><td>2025-08-05T11:42:12.478639Z</td></tr><tr><td>34</td><td>brabham</td><td>Brabham</td><td>British</td><td>Ergast API</td><td>2021-04-18</td><td>2025-08-05T11:42:12.478639Z</td></tr><tr><td>35</td><td>dallara</td><td>Dallara</td><td>Italian</td><td>Ergast API</td><td>2021-04-18</td><td>2025-08-05T11:42:12.478639Z</td></tr><tr><td>36</td><td>fondmetal</td><td>Fondmetal</td><td>Italian</td><td>Ergast API</td><td>2021-04-18</td><td>2025-08-05T11:42:12.478639Z</td></tr><tr><td>37</td><td>march</td><td>March</td><td>British</td><td>Ergast API</td><td>2021-04-18</td><td>2025-08-05T11:42:12.478639Z</td></tr><tr><td>38</td><td>moda</td><td>Andrea Moda</td><td>Italian</td><td>Ergast API</td><td>2021-04-18</td><td>2025-08-05T11:42:12.478639Z</td></tr><tr><td>39</td><td>ags</td><td>AGS</td><td>French</td><td>Ergast API</td><td>2021-04-18</td><td>2025-08-05T11:42:12.478639Z</td></tr><tr><td>40</td><td>lambo</td><td>Lambo</td><td>Italian</td><td>Ergast API</td><td>2021-04-18</td><td>2025-08-05T11:42:12.478639Z</td></tr><tr><td>41</td><td>leyton</td><td>Leyton House</td><td>British</td><td>Ergast API</td><td>2021-04-18</td><td>2025-08-05T11:42:12.478639Z</td></tr><tr><td>42</td><td>coloni</td><td>Coloni</td><td>Italian</td><td>Ergast API</td><td>2021-04-18</td><td>2025-08-05T11:42:12.478639Z</td></tr><tr><td>44</td><td>eurobrun</td><td>Euro Brun</td><td>Italian</td><td>Ergast API</td><td>2021-04-18</td><td>2025-08-05T11:42:12.478639Z</td></tr><tr><td>45</td><td>osella</td><td>Osella</td><td>Italian</td><td>Ergast API</td><td>2021-04-18</td><td>2025-08-05T11:42:12.478639Z</td></tr><tr><td>46</td><td>onyx</td><td>Onyx</td><td>British</td><td>Ergast API</td><td>2021-04-18</td><td>2025-08-05T11:42:12.478639Z</td></tr><tr><td>47</td><td>life</td><td>Life</td><td>Italian</td><td>Ergast API</td><td>2021-04-18</td><td>2025-08-05T11:42:12.478639Z</td></tr><tr><td>48</td><td>rial</td><td>Rial</td><td>German</td><td>Ergast API</td><td>2021-04-18</td><td>2025-08-05T11:42:12.478639Z</td></tr><tr><td>49</td><td>zakspeed</td><td>Zakspeed</td><td>German</td><td>Ergast API</td><td>2021-04-18</td><td>2025-08-05T11:42:12.478639Z</td></tr><tr><td>50</td><td>ram</td><td>RAM</td><td>British</td><td>Ergast API</td><td>2021-04-18</td><td>2025-08-05T11:42:12.478639Z</td></tr><tr><td>51</td><td>alfa</td><td>Alfa Romeo</td><td>Swiss</td><td>Ergast API</td><td>2021-04-18</td><td>2025-08-05T11:42:12.478639Z</td></tr><tr><td>52</td><td>spirit</td><td>Spirit</td><td>British</td><td>Ergast API</td><td>2021-04-18</td><td>2025-08-05T11:42:12.478639Z</td></tr><tr><td>53</td><td>toleman</td><td>Toleman</td><td>British</td><td>Ergast API</td><td>2021-04-18</td><td>2025-08-05T11:42:12.478639Z</td></tr><tr><td>54</td><td>ats</td><td>ATS</td><td>Italian</td><td>Ergast API</td><td>2021-04-18</td><td>2025-08-05T11:42:12.478639Z</td></tr><tr><td>55</td><td>theodore</td><td>Theodore</td><td>Hong Kong</td><td>Ergast API</td><td>2021-04-18</td><td>2025-08-05T11:42:12.478639Z</td></tr><tr><td>56</td><td>fittipaldi</td><td>Fittipaldi</td><td>Brazilian</td><td>Ergast API</td><td>2021-04-18</td><td>2025-08-05T11:42:12.478639Z</td></tr><tr><td>57</td><td>ensign</td><td>Ensign</td><td>British</td><td>Ergast API</td><td>2021-04-18</td><td>2025-08-05T11:42:12.478639Z</td></tr><tr><td>58</td><td>shadow</td><td>Shadow</td><td>British</td><td>Ergast API</td><td>2021-04-18</td><td>2025-08-05T11:42:12.478639Z</td></tr><tr><td>59</td><td>wolf</td><td>Wolf</td><td>Canadian</td><td>Ergast API</td><td>2021-04-18</td><td>2025-08-05T11:42:12.478639Z</td></tr><tr><td>60</td><td>merzario</td><td>Merzario</td><td>Italian</td><td>Ergast API</td><td>2021-04-18</td><td>2025-08-05T11:42:12.478639Z</td></tr><tr><td>61</td><td>kauhsen</td><td>Kauhsen</td><td>German</td><td>Ergast API</td><td>2021-04-18</td><td>2025-08-05T11:42:12.478639Z</td></tr><tr><td>62</td><td>rebaque</td><td>Rebaque</td><td>Mexican</td><td>Ergast API</td><td>2021-04-18</td><td>2025-08-05T11:42:12.478639Z</td></tr><tr><td>63</td><td>surtees</td><td>Surtees</td><td>British</td><td>Ergast API</td><td>2021-04-18</td><td>2025-08-05T11:42:12.478639Z</td></tr><tr><td>64</td><td>hesketh</td><td>Hesketh</td><td>British</td><td>Ergast API</td><td>2021-04-18</td><td>2025-08-05T11:42:12.478639Z</td></tr><tr><td>65</td><td>martini</td><td>Martini</td><td>French</td><td>Ergast API</td><td>2021-04-18</td><td>2025-08-05T11:42:12.478639Z</td></tr><tr><td>66</td><td>brm</td><td>BRM</td><td>British</td><td>Ergast API</td><td>2021-04-18</td><td>2025-08-05T11:42:12.478639Z</td></tr><tr><td>67</td><td>penske</td><td>Penske</td><td>American</td><td>Ergast API</td><td>2021-04-18</td><td>2025-08-05T11:42:12.478639Z</td></tr><tr><td>68</td><td>lec</td><td>LEC</td><td>British</td><td>Ergast API</td><td>2021-04-18</td><td>2025-08-05T11:42:12.478639Z</td></tr><tr><td>69</td><td>mcguire</td><td>McGuire</td><td>Australian</td><td>Ergast API</td><td>2021-04-18</td><td>2025-08-05T11:42:12.478639Z</td></tr><tr><td>70</td><td>boro</td><td>Boro</td><td>Dutch</td><td>Ergast API</td><td>2021-04-18</td><td>2025-08-05T11:42:12.478639Z</td></tr><tr><td>71</td><td>apollon</td><td>Apollon</td><td>Swiss</td><td>Ergast API</td><td>2021-04-18</td><td>2025-08-05T11:42:12.478639Z</td></tr><tr><td>72</td><td>kojima</td><td>Kojima</td><td>Japanese</td><td>Ergast API</td><td>2021-04-18</td><td>2025-08-05T11:42:12.478639Z</td></tr><tr><td>73</td><td>parnelli</td><td>Parnelli</td><td>American</td><td>Ergast API</td><td>2021-04-18</td><td>2025-08-05T11:42:12.478639Z</td></tr><tr><td>74</td><td>maki</td><td>Maki</td><td>Japanese</td><td>Ergast API</td><td>2021-04-18</td><td>2025-08-05T11:42:12.478639Z</td></tr><tr><td>75</td><td>hill</td><td>Embassy Hill</td><td>British</td><td>Ergast API</td><td>2021-04-18</td><td>2025-08-05T11:42:12.478639Z</td></tr><tr><td>76</td><td>lyncar</td><td>Lyncar</td><td>British</td><td>Ergast API</td><td>2021-04-18</td><td>2025-08-05T11:42:12.478639Z</td></tr><tr><td>77</td><td>trojan</td><td>Trojan</td><td>British</td><td>Ergast API</td><td>2021-04-18</td><td>2025-08-05T11:42:12.478639Z</td></tr><tr><td>78</td><td>amon</td><td>Amon</td><td>New Zealand</td><td>Ergast API</td><td>2021-04-18</td><td>2025-08-05T11:42:12.478639Z</td></tr><tr><td>79</td><td>token</td><td>Token</td><td>British</td><td>Ergast API</td><td>2021-04-18</td><td>2025-08-05T11:42:12.478639Z</td></tr><tr><td>80</td><td>iso_marlboro</td><td>Iso Marlboro</td><td>British</td><td>Ergast API</td><td>2021-04-18</td><td>2025-08-05T11:42:12.478639Z</td></tr><tr><td>81</td><td>tecno</td><td>Tecno</td><td>Italian</td><td>Ergast API</td><td>2021-04-18</td><td>2025-08-05T11:42:12.478639Z</td></tr><tr><td>82</td><td>matra</td><td>Matra</td><td>French</td><td>Ergast API</td><td>2021-04-18</td><td>2025-08-05T11:42:12.478639Z</td></tr><tr><td>83</td><td>politoys</td><td>Politoys</td><td>British</td><td>Ergast API</td><td>2021-04-18</td><td>2025-08-05T11:42:12.478639Z</td></tr><tr><td>84</td><td>connew</td><td>Connew</td><td>British</td><td>Ergast API</td><td>2021-04-18</td><td>2025-08-05T11:42:12.478639Z</td></tr><tr><td>85</td><td>bellasi</td><td>Bellasi</td><td>Swiss</td><td>Ergast API</td><td>2021-04-18</td><td>2025-08-05T11:42:12.478639Z</td></tr><tr><td>86</td><td>tomaso</td><td>De Tomaso</td><td>Italian</td><td>Ergast API</td><td>2021-04-18</td><td>2025-08-05T11:42:12.478639Z</td></tr><tr><td>87</td><td>cooper</td><td>Cooper</td><td>British</td><td>Ergast API</td><td>2021-04-18</td><td>2025-08-05T11:42:12.478639Z</td></tr><tr><td>88</td><td>eagle</td><td>Eagle</td><td>American</td><td>Ergast API</td><td>2021-04-18</td><td>2025-08-05T11:42:12.478639Z</td></tr><tr><td>89</td><td>lds</td><td>LDS</td><td>South African</td><td>Ergast API</td><td>2021-04-18</td><td>2025-08-05T11:42:12.478639Z</td></tr><tr><td>90</td><td>protos</td><td>Protos</td><td>British</td><td>Ergast API</td><td>2021-04-18</td><td>2025-08-05T11:42:12.478639Z</td></tr><tr><td>91</td><td>shannon</td><td>Shannon</td><td>British</td><td>Ergast API</td><td>2021-04-18</td><td>2025-08-05T11:42:12.478639Z</td></tr><tr><td>92</td><td>scirocco</td><td>Scirocco</td><td>British</td><td>Ergast API</td><td>2021-04-18</td><td>2025-08-05T11:42:12.478639Z</td></tr><tr><td>93</td><td>re</td><td>RE</td><td>Rhodesian</td><td>Ergast API</td><td>2021-04-18</td><td>2025-08-05T11:42:12.478639Z</td></tr><tr><td>94</td><td>brp</td><td>BRP</td><td>British</td><td>Ergast API</td><td>2021-04-18</td><td>2025-08-05T11:42:12.478639Z</td></tr><tr><td>95</td><td>porsche</td><td>Porsche</td><td>German</td><td>Ergast API</td><td>2021-04-18</td><td>2025-08-05T11:42:12.478639Z</td></tr><tr><td>96</td><td>derrington</td><td>Derrington</td><td>British</td><td>Ergast API</td><td>2021-04-18</td><td>2025-08-05T11:42:12.478639Z</td></tr><tr><td>97</td><td>gilby</td><td>Gilby</td><td>British</td><td>Ergast API</td><td>2021-04-18</td><td>2025-08-05T11:42:12.478639Z</td></tr><tr><td>98</td><td>stebro</td><td>Stebro</td><td>Canadian</td><td>Ergast API</td><td>2021-04-18</td><td>2025-08-05T11:42:12.478639Z</td></tr><tr><td>99</td><td>emeryson</td><td>Emeryson</td><td>British</td><td>Ergast API</td><td>2021-04-18</td><td>2025-08-05T11:42:12.478639Z</td></tr><tr><td>100</td><td>enb</td><td>ENB</td><td>Belgium</td><td>Ergast API</td><td>2021-04-18</td><td>2025-08-05T11:42:12.478639Z</td></tr><tr><td>101</td><td>jbw</td><td>JBW</td><td>British</td><td>Ergast API</td><td>2021-04-18</td><td>2025-08-05T11:42:12.478639Z</td></tr><tr><td>102</td><td>ferguson</td><td>Ferguson</td><td>British</td><td>Ergast API</td><td>2021-04-18</td><td>2025-08-05T11:42:12.478639Z</td></tr><tr><td>103</td><td>mbm</td><td>MBM</td><td>Swiss</td><td>Ergast API</td><td>2021-04-18</td><td>2025-08-05T11:42:12.478639Z</td></tr><tr><td>104</td><td>behra-porsche</td><td>Behra-Porsche</td><td>Italian</td><td>Ergast API</td><td>2021-04-18</td><td>2025-08-05T11:42:12.478639Z</td></tr><tr><td>105</td><td>maserati</td><td>Maserati</td><td>Italian</td><td>Ergast API</td><td>2021-04-18</td><td>2025-08-05T11:42:12.478639Z</td></tr><tr><td>106</td><td>scarab</td><td>Scarab</td><td>American</td><td>Ergast API</td><td>2021-04-18</td><td>2025-08-05T11:42:12.478639Z</td></tr><tr><td>107</td><td>watson</td><td>Watson</td><td>American</td><td>Ergast API</td><td>2021-04-18</td><td>2025-08-05T11:42:12.478639Z</td></tr><tr><td>108</td><td>epperly</td><td>Epperly</td><td>American</td><td>Ergast API</td><td>2021-04-18</td><td>2025-08-05T11:42:12.478639Z</td></tr><tr><td>109</td><td>phillips</td><td>Phillips</td><td>American</td><td>Ergast API</td><td>2021-04-18</td><td>2025-08-05T11:42:12.478639Z</td></tr><tr><td>110</td><td>lesovsky</td><td>Lesovsky</td><td>American</td><td>Ergast API</td><td>2021-04-18</td><td>2025-08-05T11:42:12.478639Z</td></tr><tr><td>111</td><td>trevis</td><td>Trevis</td><td>American</td><td>Ergast API</td><td>2021-04-18</td><td>2025-08-05T11:42:12.478639Z</td></tr><tr><td>112</td><td>meskowski</td><td>Meskowski</td><td>American</td><td>Ergast API</td><td>2021-04-18</td><td>2025-08-05T11:42:12.478639Z</td></tr><tr><td>113</td><td>kurtis_kraft</td><td>Kurtis Kraft</td><td>American</td><td>Ergast API</td><td>2021-04-18</td><td>2025-08-05T11:42:12.478639Z</td></tr><tr><td>114</td><td>kuzma</td><td>Kuzma</td><td>American</td><td>Ergast API</td><td>2021-04-18</td><td>2025-08-05T11:42:12.478639Z</td></tr><tr><td>115</td><td>vhristensen</td><td>Christensen</td><td>American</td><td>Ergast API</td><td>2021-04-18</td><td>2025-08-05T11:42:12.478639Z</td></tr><tr><td>116</td><td>ewing</td><td>Ewing</td><td>American</td><td>Ergast API</td><td>2021-04-18</td><td>2025-08-05T11:42:12.478639Z</td></tr><tr><td>117</td><td>aston_martin</td><td>Aston Martin</td><td>British</td><td>Ergast API</td><td>2021-04-18</td><td>2025-08-05T11:42:12.478639Z</td></tr><tr><td>118</td><td>vanwall</td><td>Vanwall</td><td>British</td><td>Ergast API</td><td>2021-04-18</td><td>2025-08-05T11:42:12.478639Z</td></tr><tr><td>119</td><td>moore</td><td>Moore</td><td>American</td><td>Ergast API</td><td>2021-04-18</td><td>2025-08-05T11:42:12.478639Z</td></tr><tr><td>120</td><td>dunn</td><td>Dunn</td><td>American</td><td>Ergast API</td><td>2021-04-18</td><td>2025-08-05T11:42:12.478639Z</td></tr><tr><td>121</td><td>elder</td><td>Elder</td><td>American</td><td>Ergast API</td><td>2021-04-18</td><td>2025-08-05T11:42:12.478639Z</td></tr><tr><td>122</td><td>sutton</td><td>Sutton</td><td>American</td><td>Ergast API</td><td>2021-04-18</td><td>2025-08-05T11:42:12.478639Z</td></tr><tr><td>123</td><td>fry</td><td>Fry</td><td>British</td><td>Ergast API</td><td>2021-04-18</td><td>2025-08-05T11:42:12.478639Z</td></tr><tr><td>124</td><td>tec-mec</td><td>Tec-Mec</td><td>Italian</td><td>Ergast API</td><td>2021-04-18</td><td>2025-08-05T11:42:12.478639Z</td></tr><tr><td>125</td><td>connaught</td><td>Connaught</td><td>British</td><td>Ergast API</td><td>2021-04-18</td><td>2025-08-05T11:42:12.478639Z</td></tr><tr><td>126</td><td>alta</td><td>Alta</td><td>British</td><td>Ergast API</td><td>2021-04-18</td><td>2025-08-05T11:42:12.478639Z</td></tr><tr><td>127</td><td>osca</td><td>OSCA</td><td>Italian</td><td>Ergast API</td><td>2021-04-18</td><td>2025-08-05T11:42:12.478639Z</td></tr><tr><td>128</td><td>gordini</td><td>Gordini</td><td>French</td><td>Ergast API</td><td>2021-04-18</td><td>2025-08-05T11:42:12.478639Z</td></tr><tr><td>129</td><td>stevens</td><td>Stevens</td><td>American</td><td>Ergast API</td><td>2021-04-18</td><td>2025-08-05T11:42:12.478639Z</td></tr><tr><td>130</td><td>bugatti</td><td>Bugatti</td><td>French</td><td>Ergast API</td><td>2021-04-18</td><td>2025-08-05T11:42:12.478639Z</td></tr><tr><td>131</td><td>mercedes</td><td>Mercedes</td><td>German</td><td>Ergast API</td><td>2021-04-18</td><td>2025-08-05T11:42:12.478639Z</td></tr><tr><td>132</td><td>lancia</td><td>Lancia</td><td>Italian</td><td>Ergast API</td><td>2021-04-18</td><td>2025-08-05T11:42:12.478639Z</td></tr><tr><td>133</td><td>hwm</td><td>HWM</td><td>British</td><td>Ergast API</td><td>2021-04-18</td><td>2025-08-05T11:42:12.478639Z</td></tr><tr><td>134</td><td>schroeder</td><td>Schroeder</td><td>American</td><td>Ergast API</td><td>2021-04-18</td><td>2025-08-05T11:42:12.478639Z</td></tr><tr><td>135</td><td>pawl</td><td>Pawl</td><td>American</td><td>Ergast API</td><td>2021-04-18</td><td>2025-08-05T11:42:12.478639Z</td></tr><tr><td>136</td><td>pankratz</td><td>Pankratz</td><td>American</td><td>Ergast API</td><td>2021-04-18</td><td>2025-08-05T11:42:12.478639Z</td></tr><tr><td>137</td><td>arzani-volpini</td><td>Arzani-Volpini</td><td>Italian</td><td>Ergast API</td><td>2021-04-18</td><td>2025-08-05T11:42:12.478639Z</td></tr><tr><td>138</td><td>nichels</td><td>Nichels</td><td>American</td><td>Ergast API</td><td>2021-04-18</td><td>2025-08-05T11:42:12.478639Z</td></tr><tr><td>139</td><td>bromme</td><td>Bromme</td><td>American</td><td>Ergast API</td><td>2021-04-18</td><td>2025-08-05T11:42:12.478639Z</td></tr><tr><td>140</td><td>klenk</td><td>Klenk</td><td>German</td><td>Ergast API</td><td>2021-04-18</td><td>2025-08-05T11:42:12.478639Z</td></tr><tr><td>141</td><td>simca</td><td>Simca</td><td>French</td><td>Ergast API</td><td>2021-04-18</td><td>2025-08-05T11:42:12.478639Z</td></tr><tr><td>142</td><td>turner</td><td>Turner</td><td>American</td><td>Ergast API</td><td>2021-04-18</td><td>2025-08-05T11:42:12.478639Z</td></tr><tr><td>143</td><td>del_roy</td><td>Del Roy</td><td>American</td><td>Ergast API</td><td>2021-04-18</td><td>2025-08-05T11:42:12.478639Z</td></tr><tr><td>144</td><td>veritas</td><td>Veritas</td><td>German</td><td>Ergast API</td><td>2021-04-18</td><td>2025-08-05T11:42:12.478639Z</td></tr><tr><td>145</td><td>bmw</td><td>BMW</td><td>German</td><td>Ergast API</td><td>2021-04-18</td><td>2025-08-05T11:42:12.478639Z</td></tr><tr><td>146</td><td>emw</td><td>EMW</td><td>East German</td><td>Ergast API</td><td>2021-04-18</td><td>2025-08-05T11:42:12.478639Z</td></tr><tr><td>147</td><td>afm</td><td>AFM</td><td>German</td><td>Ergast API</td><td>2021-04-18</td><td>2025-08-05T11:42:12.478639Z</td></tr><tr><td>148</td><td>frazer_nash</td><td>Frazer Nash</td><td>British</td><td>Ergast API</td><td>2021-04-18</td><td>2025-08-05T11:42:12.478639Z</td></tr><tr><td>149</td><td>sherman</td><td>Sherman</td><td>American</td><td>Ergast API</td><td>2021-04-18</td><td>2025-08-05T11:42:12.478639Z</td></tr><tr><td>150</td><td>deidt</td><td>Deidt</td><td>American</td><td>Ergast API</td><td>2021-04-18</td><td>2025-08-05T11:42:12.478639Z</td></tr><tr><td>151</td><td>era</td><td>ERA</td><td>British</td><td>Ergast API</td><td>2021-04-18</td><td>2025-08-05T11:42:12.478639Z</td></tr><tr><td>152</td><td>butterworth</td><td>Aston Butterworth</td><td>British</td><td>Ergast API</td><td>2021-04-18</td><td>2025-08-05T11:42:12.478639Z</td></tr><tr><td>153</td><td>cisitalia</td><td>Cisitalia</td><td>Italian</td><td>Ergast API</td><td>2021-04-18</td><td>2025-08-05T11:42:12.478639Z</td></tr><tr><td>154</td><td>lago</td><td>Talbot-Lago</td><td>French</td><td>Ergast API</td><td>2021-04-18</td><td>2025-08-05T11:42:12.478639Z</td></tr><tr><td>155</td><td>hall</td><td>Hall</td><td>American</td><td>Ergast API</td><td>2021-04-18</td><td>2025-08-05T11:42:12.478639Z</td></tr><tr><td>156</td><td>marchese</td><td>Marchese</td><td>American</td><td>Ergast API</td><td>2021-04-18</td><td>2025-08-05T11:42:12.478639Z</td></tr><tr><td>157</td><td>langley</td><td>Langley</td><td>American</td><td>Ergast API</td><td>2021-04-18</td><td>2025-08-05T11:42:12.478639Z</td></tr><tr><td>158</td><td>rae</td><td>Rae</td><td>American</td><td>Ergast API</td><td>2021-04-18</td><td>2025-08-05T11:42:12.478639Z</td></tr><tr><td>159</td><td>olson</td><td>Olson</td><td>American</td><td>Ergast API</td><td>2021-04-18</td><td>2025-08-05T11:42:12.478639Z</td></tr><tr><td>160</td><td>wetteroth</td><td>Wetteroth</td><td>American</td><td>Ergast API</td><td>2021-04-18</td><td>2025-08-05T11:42:12.478639Z</td></tr><tr><td>161</td><td>adams</td><td>Adams</td><td>American</td><td>Ergast API</td><td>2021-04-18</td><td>2025-08-05T11:42:12.478639Z</td></tr><tr><td>162</td><td>snowberger</td><td>Snowberger</td><td>American</td><td>Ergast API</td><td>2021-04-18</td><td>2025-08-05T11:42:12.478639Z</td></tr><tr><td>163</td><td>milano</td><td>Milano</td><td>Italian</td><td>Ergast API</td><td>2021-04-18</td><td>2025-08-05T11:42:12.478639Z</td></tr><tr><td>164</td><td>hrt</td><td>HRT</td><td>Spanish</td><td>Ergast API</td><td>2021-04-18</td><td>2025-08-05T11:42:12.478639Z</td></tr><tr><td>167</td><td>cooper-maserati</td><td>Cooper-Maserati</td><td>British</td><td>Ergast API</td><td>2021-04-18</td><td>2025-08-05T11:42:12.478639Z</td></tr><tr><td>166</td><td>virgin</td><td>Virgin</td><td>British</td><td>Ergast API</td><td>2021-04-18</td><td>2025-08-05T11:42:12.478639Z</td></tr><tr><td>168</td><td>cooper-osca</td><td>Cooper-OSCA</td><td>British</td><td>Ergast API</td><td>2021-04-18</td><td>2025-08-05T11:42:12.478639Z</td></tr><tr><td>169</td><td>cooper-borgward</td><td>Cooper-Borgward</td><td>British</td><td>Ergast API</td><td>2021-04-18</td><td>2025-08-05T11:42:12.478639Z</td></tr><tr><td>170</td><td>cooper-climax</td><td>Cooper-Climax</td><td>British</td><td>Ergast API</td><td>2021-04-18</td><td>2025-08-05T11:42:12.478639Z</td></tr><tr><td>171</td><td>cooper-castellotti</td><td>Cooper-Castellotti</td><td>British</td><td>Ergast API</td><td>2021-04-18</td><td>2025-08-05T11:42:12.478639Z</td></tr><tr><td>172</td><td>lotus-climax</td><td>Lotus-Climax</td><td>British</td><td>Ergast API</td><td>2021-04-18</td><td>2025-08-05T11:42:12.478639Z</td></tr><tr><td>173</td><td>lotus-maserati</td><td>Lotus-Maserati</td><td>British</td><td>Ergast API</td><td>2021-04-18</td><td>2025-08-05T11:42:12.478639Z</td></tr><tr><td>174</td><td>de_tomaso-osca</td><td>De Tomaso-Osca</td><td>Italian</td><td>Ergast API</td><td>2021-04-18</td><td>2025-08-05T11:42:12.478639Z</td></tr><tr><td>175</td><td>de_tomaso-alfa_romeo</td><td>De Tomaso-Alfa Romeo</td><td>Italian</td><td>Ergast API</td><td>2021-04-18</td><td>2025-08-05T11:42:12.478639Z</td></tr><tr><td>176</td><td>lotus-brm</td><td>Lotus-BRM</td><td>British</td><td>Ergast API</td><td>2021-04-18</td><td>2025-08-05T11:42:12.478639Z</td></tr><tr><td>177</td><td>lotus-borgward</td><td>Lotus-Borgward</td><td>British</td><td>Ergast API</td><td>2021-04-18</td><td>2025-08-05T11:42:12.478639Z</td></tr><tr><td>178</td><td>cooper-alfa_romeo</td><td>Cooper-Alfa Romeo</td><td>British</td><td>Ergast API</td><td>2021-04-18</td><td>2025-08-05T11:42:12.478639Z</td></tr><tr><td>179</td><td>de_tomaso-ferrari</td><td>De Tomaso-Ferrari</td><td>Italian</td><td>Ergast API</td><td>2021-04-18</td><td>2025-08-05T11:42:12.478639Z</td></tr><tr><td>180</td><td>lotus-ford</td><td>Lotus-Ford</td><td>British</td><td>Ergast API</td><td>2021-04-18</td><td>2025-08-05T11:42:12.478639Z</td></tr><tr><td>181</td><td>brabham-brm</td><td>Brabham-BRM</td><td>British</td><td>Ergast API</td><td>2021-04-18</td><td>2025-08-05T11:42:12.478639Z</td></tr><tr><td>182</td><td>brabham-ford</td><td>Brabham-Ford</td><td>British</td><td>Ergast API</td><td>2021-04-18</td><td>2025-08-05T11:42:12.478639Z</td></tr><tr><td>183</td><td>brabham-climax</td><td>Brabham-Climax</td><td>British</td><td>Ergast API</td><td>2021-04-18</td><td>2025-08-05T11:42:12.478639Z</td></tr><tr><td>184</td><td>lds-climax</td><td>LDS-Climax</td><td>South African</td><td>Ergast API</td><td>2021-04-18</td><td>2025-08-05T11:42:12.478639Z</td></tr><tr><td>185</td><td>lds-alfa_romeo</td><td>LDS-Alfa Romeo</td><td>South African</td><td>Ergast API</td><td>2021-04-18</td><td>2025-08-05T11:42:12.478639Z</td></tr><tr><td>186</td><td>cooper-ford</td><td>Cooper-Ford</td><td>British</td><td>Ergast API</td><td>2021-04-18</td><td>2025-08-05T11:42:12.478639Z</td></tr><tr><td>187</td><td>mclaren-ford</td><td>McLaren-Ford</td><td>British</td><td>Ergast API</td><td>2021-04-18</td><td>2025-08-05T11:42:12.478639Z</td></tr><tr><td>188</td><td>mclaren-seren</td><td>McLaren-Serenissima</td><td>British</td><td>Ergast API</td><td>2021-04-18</td><td>2025-08-05T11:42:12.478639Z</td></tr><tr><td>189</td><td>eagle-climax</td><td>Eagle-Climax</td><td>American</td><td>Ergast API</td><td>2021-04-18</td><td>2025-08-05T11:42:12.478639Z</td></tr><tr><td>190</td><td>eagle-weslake</td><td>Eagle-Weslake</td><td>American</td><td>Ergast API</td><td>2021-04-18</td><td>2025-08-05T11:42:12.478639Z</td></tr><tr><td>191</td><td>brabham-repco</td><td>Brabham-Repco</td><td>British</td><td>Ergast API</td><td>2021-04-18</td><td>2025-08-05T11:42:12.478639Z</td></tr><tr><td>192</td><td>cooper-ferrari</td><td>Cooper-Ferrari</td><td>British</td><td>Ergast API</td><td>2021-04-18</td><td>2025-08-05T11:42:12.478639Z</td></tr><tr><td>193</td><td>cooper-ats</td><td>Cooper-ATS</td><td>British</td><td>Ergast API</td><td>2021-04-18</td><td>2025-08-05T11:42:12.478639Z</td></tr><tr><td>194</td><td>mclaren-brm</td><td>McLaren-BRM</td><td>British</td><td>Ergast API</td><td>2021-04-18</td><td>2025-08-05T11:42:12.478639Z</td></tr><tr><td>195</td><td>cooper-brm</td><td>Cooper-BRM</td><td>British</td><td>Ergast API</td><td>2021-04-18</td><td>2025-08-05T11:42:12.478639Z</td></tr><tr><td>196</td><td>matra-ford</td><td>Matra-Ford</td><td>French</td><td>Ergast API</td><td>2021-04-18</td><td>2025-08-05T11:42:12.478639Z</td></tr><tr><td>197</td><td>brm-ford</td><td>BRM-Ford</td><td>British</td><td>Ergast API</td><td>2021-04-18</td><td>2025-08-05T11:42:12.478639Z</td></tr><tr><td>198</td><td>mclaren-alfa_romeo</td><td>McLaren-Alfa Romeo</td><td>British</td><td>Ergast API</td><td>2021-04-18</td><td>2025-08-05T11:42:12.478639Z</td></tr><tr><td>199</td><td>march-alfa_romeo</td><td>March-Alfa Romeo</td><td>British</td><td>Ergast API</td><td>2021-04-18</td><td>2025-08-05T11:42:12.478639Z</td></tr><tr><td>200</td><td>march-ford</td><td>March-Ford</td><td>British</td><td>Ergast API</td><td>2021-04-18</td><td>2025-08-05T11:42:12.478639Z</td></tr><tr><td>201</td><td>lotus-pw</td><td>Lotus-Pratt &amp; Whitney</td><td>British</td><td>Ergast API</td><td>2021-04-18</td><td>2025-08-05T11:42:12.478639Z</td></tr><tr><td>202</td><td>shadow-ford</td><td>Shadow-Ford</td><td>British</td><td>Ergast API</td><td>2021-04-18</td><td>2025-08-05T11:42:12.478639Z</td></tr><tr><td>203</td><td>shadow-matra</td><td>Shadow-Matra</td><td>British</td><td>Ergast API</td><td>2021-04-18</td><td>2025-08-05T11:42:12.478639Z</td></tr><tr><td>204</td><td>brabham-alfa_romeo</td><td>Brabham-Alfa Romeo</td><td>British</td><td>Ergast API</td><td>2021-04-18</td><td>2025-08-05T11:42:12.478639Z</td></tr><tr><td>205</td><td>lotus_racing</td><td>Lotus</td><td>Malaysian</td><td>Ergast API</td><td>2021-04-18</td><td>2025-08-05T11:42:12.478639Z</td></tr><tr><td>206</td><td>marussia</td><td>Marussia</td><td>Russian</td><td>Ergast API</td><td>2021-04-18</td><td>2025-08-05T11:42:12.478639Z</td></tr><tr><td>207</td><td>caterham</td><td>Caterham</td><td>Malaysian</td><td>Ergast API</td><td>2021-04-18</td><td>2025-08-05T11:42:12.478639Z</td></tr><tr><td>208</td><td>lotus_f1</td><td>Lotus F1</td><td>British</td><td>Ergast API</td><td>2021-04-18</td><td>2025-08-05T11:42:12.478639Z</td></tr><tr><td>209</td><td>manor</td><td>Manor Marussia</td><td>British</td><td>Ergast API</td><td>2021-04-18</td><td>2025-08-05T11:42:12.478639Z</td></tr><tr><td>210</td><td>haas</td><td>Haas F1 Team</td><td>American</td><td>Ergast API</td><td>2021-04-18</td><td>2025-08-05T11:42:12.478639Z</td></tr><tr><td>211</td><td>racing_point</td><td>Racing Point</td><td>British</td><td>Ergast API</td><td>2021-04-18</td><td>2025-08-05T11:42:12.478639Z</td></tr><tr><td>213</td><td>alphatauri</td><td>AlphaTauri</td><td>Italian</td><td>Ergast API</td><td>2021-04-18</td><td>2025-08-05T11:42:12.478639Z</td></tr><tr><td>214</td><td>alpine</td><td>Alpine F1 Team</td><td>French</td><td>Ergast API</td><td>2021-04-18</td><td>2025-08-05T11:42:12.478639Z</td></tr></tbody></table></div>"
      ]
     },
     "metadata": {
      "application/vnd.databricks.v1+output": {
       "addedWidgets": {},
       "aggData": [],
       "aggError": "",
       "aggOverflow": false,
       "aggSchema": [],
       "aggSeriesLimitReached": false,
       "aggType": "",
       "arguments": {},
       "columnCustomDisplayInfos": {},
       "data": [
        [
         1,
         "mclaren",
         "McLaren",
         "British",
         "Ergast API",
         "2021-04-18",
         "2025-08-05T11:42:12.478639Z"
        ],
        [
         2,
         "bmw_sauber",
         "BMW Sauber",
         "German",
         "Ergast API",
         "2021-04-18",
         "2025-08-05T11:42:12.478639Z"
        ],
        [
         3,
         "williams",
         "Williams",
         "British",
         "Ergast API",
         "2021-04-18",
         "2025-08-05T11:42:12.478639Z"
        ],
        [
         4,
         "renault",
         "Renault",
         "French",
         "Ergast API",
         "2021-04-18",
         "2025-08-05T11:42:12.478639Z"
        ],
        [
         5,
         "toro_rosso",
         "Toro Rosso",
         "Italian",
         "Ergast API",
         "2021-04-18",
         "2025-08-05T11:42:12.478639Z"
        ],
        [
         6,
         "ferrari",
         "Ferrari",
         "Italian",
         "Ergast API",
         "2021-04-18",
         "2025-08-05T11:42:12.478639Z"
        ],
        [
         7,
         "toyota",
         "Toyota",
         "Japanese",
         "Ergast API",
         "2021-04-18",
         "2025-08-05T11:42:12.478639Z"
        ],
        [
         8,
         "super_aguri",
         "Super Aguri",
         "Japanese",
         "Ergast API",
         "2021-04-18",
         "2025-08-05T11:42:12.478639Z"
        ],
        [
         9,
         "red_bull",
         "Red Bull",
         "Austrian",
         "Ergast API",
         "2021-04-18",
         "2025-08-05T11:42:12.478639Z"
        ],
        [
         10,
         "force_india",
         "Force India",
         "Indian",
         "Ergast API",
         "2021-04-18",
         "2025-08-05T11:42:12.478639Z"
        ],
        [
         11,
         "honda",
         "Honda",
         "Japanese",
         "Ergast API",
         "2021-04-18",
         "2025-08-05T11:42:12.478639Z"
        ],
        [
         12,
         "spyker",
         "Spyker",
         "Dutch",
         "Ergast API",
         "2021-04-18",
         "2025-08-05T11:42:12.478639Z"
        ],
        [
         13,
         "mf1",
         "MF1",
         "Russian",
         "Ergast API",
         "2021-04-18",
         "2025-08-05T11:42:12.478639Z"
        ],
        [
         14,
         "spyker_mf1",
         "Spyker MF1",
         "Dutch",
         "Ergast API",
         "2021-04-18",
         "2025-08-05T11:42:12.478639Z"
        ],
        [
         15,
         "sauber",
         "Sauber",
         "Swiss",
         "Ergast API",
         "2021-04-18",
         "2025-08-05T11:42:12.478639Z"
        ],
        [
         16,
         "bar",
         "BAR",
         "British",
         "Ergast API",
         "2021-04-18",
         "2025-08-05T11:42:12.478639Z"
        ],
        [
         17,
         "jordan",
         "Jordan",
         "Irish",
         "Ergast API",
         "2021-04-18",
         "2025-08-05T11:42:12.478639Z"
        ],
        [
         18,
         "minardi",
         "Minardi",
         "Italian",
         "Ergast API",
         "2021-04-18",
         "2025-08-05T11:42:12.478639Z"
        ],
        [
         19,
         "jaguar",
         "Jaguar",
         "British",
         "Ergast API",
         "2021-04-18",
         "2025-08-05T11:42:12.478639Z"
        ],
        [
         20,
         "prost",
         "Prost",
         "French",
         "Ergast API",
         "2021-04-18",
         "2025-08-05T11:42:12.478639Z"
        ],
        [
         21,
         "arrows",
         "Arrows",
         "British",
         "Ergast API",
         "2021-04-18",
         "2025-08-05T11:42:12.478639Z"
        ],
        [
         22,
         "benetton",
         "Benetton",
         "Italian",
         "Ergast API",
         "2021-04-18",
         "2025-08-05T11:42:12.478639Z"
        ],
        [
         23,
         "brawn",
         "Brawn",
         "British",
         "Ergast API",
         "2021-04-18",
         "2025-08-05T11:42:12.478639Z"
        ],
        [
         24,
         "stewart",
         "Stewart",
         "British",
         "Ergast API",
         "2021-04-18",
         "2025-08-05T11:42:12.478639Z"
        ],
        [
         25,
         "tyrrell",
         "Tyrrell",
         "British",
         "Ergast API",
         "2021-04-18",
         "2025-08-05T11:42:12.478639Z"
        ],
        [
         26,
         "lola",
         "Lola",
         "British",
         "Ergast API",
         "2021-04-18",
         "2025-08-05T11:42:12.478639Z"
        ],
        [
         27,
         "ligier",
         "Ligier",
         "French",
         "Ergast API",
         "2021-04-18",
         "2025-08-05T11:42:12.478639Z"
        ],
        [
         28,
         "forti",
         "Forti",
         "Italian",
         "Ergast API",
         "2021-04-18",
         "2025-08-05T11:42:12.478639Z"
        ],
        [
         29,
         "footwork",
         "Footwork",
         "British",
         "Ergast API",
         "2021-04-18",
         "2025-08-05T11:42:12.478639Z"
        ],
        [
         30,
         "pacific",
         "Pacific",
         "British",
         "Ergast API",
         "2021-04-18",
         "2025-08-05T11:42:12.478639Z"
        ],
        [
         31,
         "simtek",
         "Simtek",
         "British",
         "Ergast API",
         "2021-04-18",
         "2025-08-05T11:42:12.478639Z"
        ],
        [
         32,
         "team_lotus",
         "Team Lotus",
         "British",
         "Ergast API",
         "2021-04-18",
         "2025-08-05T11:42:12.478639Z"
        ],
        [
         33,
         "larrousse",
         "Larrousse",
         "French",
         "Ergast API",
         "2021-04-18",
         "2025-08-05T11:42:12.478639Z"
        ],
        [
         34,
         "brabham",
         "Brabham",
         "British",
         "Ergast API",
         "2021-04-18",
         "2025-08-05T11:42:12.478639Z"
        ],
        [
         35,
         "dallara",
         "Dallara",
         "Italian",
         "Ergast API",
         "2021-04-18",
         "2025-08-05T11:42:12.478639Z"
        ],
        [
         36,
         "fondmetal",
         "Fondmetal",
         "Italian",
         "Ergast API",
         "2021-04-18",
         "2025-08-05T11:42:12.478639Z"
        ],
        [
         37,
         "march",
         "March",
         "British",
         "Ergast API",
         "2021-04-18",
         "2025-08-05T11:42:12.478639Z"
        ],
        [
         38,
         "moda",
         "Andrea Moda",
         "Italian",
         "Ergast API",
         "2021-04-18",
         "2025-08-05T11:42:12.478639Z"
        ],
        [
         39,
         "ags",
         "AGS",
         "French",
         "Ergast API",
         "2021-04-18",
         "2025-08-05T11:42:12.478639Z"
        ],
        [
         40,
         "lambo",
         "Lambo",
         "Italian",
         "Ergast API",
         "2021-04-18",
         "2025-08-05T11:42:12.478639Z"
        ],
        [
         41,
         "leyton",
         "Leyton House",
         "British",
         "Ergast API",
         "2021-04-18",
         "2025-08-05T11:42:12.478639Z"
        ],
        [
         42,
         "coloni",
         "Coloni",
         "Italian",
         "Ergast API",
         "2021-04-18",
         "2025-08-05T11:42:12.478639Z"
        ],
        [
         44,
         "eurobrun",
         "Euro Brun",
         "Italian",
         "Ergast API",
         "2021-04-18",
         "2025-08-05T11:42:12.478639Z"
        ],
        [
         45,
         "osella",
         "Osella",
         "Italian",
         "Ergast API",
         "2021-04-18",
         "2025-08-05T11:42:12.478639Z"
        ],
        [
         46,
         "onyx",
         "Onyx",
         "British",
         "Ergast API",
         "2021-04-18",
         "2025-08-05T11:42:12.478639Z"
        ],
        [
         47,
         "life",
         "Life",
         "Italian",
         "Ergast API",
         "2021-04-18",
         "2025-08-05T11:42:12.478639Z"
        ],
        [
         48,
         "rial",
         "Rial",
         "German",
         "Ergast API",
         "2021-04-18",
         "2025-08-05T11:42:12.478639Z"
        ],
        [
         49,
         "zakspeed",
         "Zakspeed",
         "German",
         "Ergast API",
         "2021-04-18",
         "2025-08-05T11:42:12.478639Z"
        ],
        [
         50,
         "ram",
         "RAM",
         "British",
         "Ergast API",
         "2021-04-18",
         "2025-08-05T11:42:12.478639Z"
        ],
        [
         51,
         "alfa",
         "Alfa Romeo",
         "Swiss",
         "Ergast API",
         "2021-04-18",
         "2025-08-05T11:42:12.478639Z"
        ],
        [
         52,
         "spirit",
         "Spirit",
         "British",
         "Ergast API",
         "2021-04-18",
         "2025-08-05T11:42:12.478639Z"
        ],
        [
         53,
         "toleman",
         "Toleman",
         "British",
         "Ergast API",
         "2021-04-18",
         "2025-08-05T11:42:12.478639Z"
        ],
        [
         54,
         "ats",
         "ATS",
         "Italian",
         "Ergast API",
         "2021-04-18",
         "2025-08-05T11:42:12.478639Z"
        ],
        [
         55,
         "theodore",
         "Theodore",
         "Hong Kong",
         "Ergast API",
         "2021-04-18",
         "2025-08-05T11:42:12.478639Z"
        ],
        [
         56,
         "fittipaldi",
         "Fittipaldi",
         "Brazilian",
         "Ergast API",
         "2021-04-18",
         "2025-08-05T11:42:12.478639Z"
        ],
        [
         57,
         "ensign",
         "Ensign",
         "British",
         "Ergast API",
         "2021-04-18",
         "2025-08-05T11:42:12.478639Z"
        ],
        [
         58,
         "shadow",
         "Shadow",
         "British",
         "Ergast API",
         "2021-04-18",
         "2025-08-05T11:42:12.478639Z"
        ],
        [
         59,
         "wolf",
         "Wolf",
         "Canadian",
         "Ergast API",
         "2021-04-18",
         "2025-08-05T11:42:12.478639Z"
        ],
        [
         60,
         "merzario",
         "Merzario",
         "Italian",
         "Ergast API",
         "2021-04-18",
         "2025-08-05T11:42:12.478639Z"
        ],
        [
         61,
         "kauhsen",
         "Kauhsen",
         "German",
         "Ergast API",
         "2021-04-18",
         "2025-08-05T11:42:12.478639Z"
        ],
        [
         62,
         "rebaque",
         "Rebaque",
         "Mexican",
         "Ergast API",
         "2021-04-18",
         "2025-08-05T11:42:12.478639Z"
        ],
        [
         63,
         "surtees",
         "Surtees",
         "British",
         "Ergast API",
         "2021-04-18",
         "2025-08-05T11:42:12.478639Z"
        ],
        [
         64,
         "hesketh",
         "Hesketh",
         "British",
         "Ergast API",
         "2021-04-18",
         "2025-08-05T11:42:12.478639Z"
        ],
        [
         65,
         "martini",
         "Martini",
         "French",
         "Ergast API",
         "2021-04-18",
         "2025-08-05T11:42:12.478639Z"
        ],
        [
         66,
         "brm",
         "BRM",
         "British",
         "Ergast API",
         "2021-04-18",
         "2025-08-05T11:42:12.478639Z"
        ],
        [
         67,
         "penske",
         "Penske",
         "American",
         "Ergast API",
         "2021-04-18",
         "2025-08-05T11:42:12.478639Z"
        ],
        [
         68,
         "lec",
         "LEC",
         "British",
         "Ergast API",
         "2021-04-18",
         "2025-08-05T11:42:12.478639Z"
        ],
        [
         69,
         "mcguire",
         "McGuire",
         "Australian",
         "Ergast API",
         "2021-04-18",
         "2025-08-05T11:42:12.478639Z"
        ],
        [
         70,
         "boro",
         "Boro",
         "Dutch",
         "Ergast API",
         "2021-04-18",
         "2025-08-05T11:42:12.478639Z"
        ],
        [
         71,
         "apollon",
         "Apollon",
         "Swiss",
         "Ergast API",
         "2021-04-18",
         "2025-08-05T11:42:12.478639Z"
        ],
        [
         72,
         "kojima",
         "Kojima",
         "Japanese",
         "Ergast API",
         "2021-04-18",
         "2025-08-05T11:42:12.478639Z"
        ],
        [
         73,
         "parnelli",
         "Parnelli",
         "American",
         "Ergast API",
         "2021-04-18",
         "2025-08-05T11:42:12.478639Z"
        ],
        [
         74,
         "maki",
         "Maki",
         "Japanese",
         "Ergast API",
         "2021-04-18",
         "2025-08-05T11:42:12.478639Z"
        ],
        [
         75,
         "hill",
         "Embassy Hill",
         "British",
         "Ergast API",
         "2021-04-18",
         "2025-08-05T11:42:12.478639Z"
        ],
        [
         76,
         "lyncar",
         "Lyncar",
         "British",
         "Ergast API",
         "2021-04-18",
         "2025-08-05T11:42:12.478639Z"
        ],
        [
         77,
         "trojan",
         "Trojan",
         "British",
         "Ergast API",
         "2021-04-18",
         "2025-08-05T11:42:12.478639Z"
        ],
        [
         78,
         "amon",
         "Amon",
         "New Zealand",
         "Ergast API",
         "2021-04-18",
         "2025-08-05T11:42:12.478639Z"
        ],
        [
         79,
         "token",
         "Token",
         "British",
         "Ergast API",
         "2021-04-18",
         "2025-08-05T11:42:12.478639Z"
        ],
        [
         80,
         "iso_marlboro",
         "Iso Marlboro",
         "British",
         "Ergast API",
         "2021-04-18",
         "2025-08-05T11:42:12.478639Z"
        ],
        [
         81,
         "tecno",
         "Tecno",
         "Italian",
         "Ergast API",
         "2021-04-18",
         "2025-08-05T11:42:12.478639Z"
        ],
        [
         82,
         "matra",
         "Matra",
         "French",
         "Ergast API",
         "2021-04-18",
         "2025-08-05T11:42:12.478639Z"
        ],
        [
         83,
         "politoys",
         "Politoys",
         "British",
         "Ergast API",
         "2021-04-18",
         "2025-08-05T11:42:12.478639Z"
        ],
        [
         84,
         "connew",
         "Connew",
         "British",
         "Ergast API",
         "2021-04-18",
         "2025-08-05T11:42:12.478639Z"
        ],
        [
         85,
         "bellasi",
         "Bellasi",
         "Swiss",
         "Ergast API",
         "2021-04-18",
         "2025-08-05T11:42:12.478639Z"
        ],
        [
         86,
         "tomaso",
         "De Tomaso",
         "Italian",
         "Ergast API",
         "2021-04-18",
         "2025-08-05T11:42:12.478639Z"
        ],
        [
         87,
         "cooper",
         "Cooper",
         "British",
         "Ergast API",
         "2021-04-18",
         "2025-08-05T11:42:12.478639Z"
        ],
        [
         88,
         "eagle",
         "Eagle",
         "American",
         "Ergast API",
         "2021-04-18",
         "2025-08-05T11:42:12.478639Z"
        ],
        [
         89,
         "lds",
         "LDS",
         "South African",
         "Ergast API",
         "2021-04-18",
         "2025-08-05T11:42:12.478639Z"
        ],
        [
         90,
         "protos",
         "Protos",
         "British",
         "Ergast API",
         "2021-04-18",
         "2025-08-05T11:42:12.478639Z"
        ],
        [
         91,
         "shannon",
         "Shannon",
         "British",
         "Ergast API",
         "2021-04-18",
         "2025-08-05T11:42:12.478639Z"
        ],
        [
         92,
         "scirocco",
         "Scirocco",
         "British",
         "Ergast API",
         "2021-04-18",
         "2025-08-05T11:42:12.478639Z"
        ],
        [
         93,
         "re",
         "RE",
         "Rhodesian",
         "Ergast API",
         "2021-04-18",
         "2025-08-05T11:42:12.478639Z"
        ],
        [
         94,
         "brp",
         "BRP",
         "British",
         "Ergast API",
         "2021-04-18",
         "2025-08-05T11:42:12.478639Z"
        ],
        [
         95,
         "porsche",
         "Porsche",
         "German",
         "Ergast API",
         "2021-04-18",
         "2025-08-05T11:42:12.478639Z"
        ],
        [
         96,
         "derrington",
         "Derrington",
         "British",
         "Ergast API",
         "2021-04-18",
         "2025-08-05T11:42:12.478639Z"
        ],
        [
         97,
         "gilby",
         "Gilby",
         "British",
         "Ergast API",
         "2021-04-18",
         "2025-08-05T11:42:12.478639Z"
        ],
        [
         98,
         "stebro",
         "Stebro",
         "Canadian",
         "Ergast API",
         "2021-04-18",
         "2025-08-05T11:42:12.478639Z"
        ],
        [
         99,
         "emeryson",
         "Emeryson",
         "British",
         "Ergast API",
         "2021-04-18",
         "2025-08-05T11:42:12.478639Z"
        ],
        [
         100,
         "enb",
         "ENB",
         "Belgium",
         "Ergast API",
         "2021-04-18",
         "2025-08-05T11:42:12.478639Z"
        ],
        [
         101,
         "jbw",
         "JBW",
         "British",
         "Ergast API",
         "2021-04-18",
         "2025-08-05T11:42:12.478639Z"
        ],
        [
         102,
         "ferguson",
         "Ferguson",
         "British",
         "Ergast API",
         "2021-04-18",
         "2025-08-05T11:42:12.478639Z"
        ],
        [
         103,
         "mbm",
         "MBM",
         "Swiss",
         "Ergast API",
         "2021-04-18",
         "2025-08-05T11:42:12.478639Z"
        ],
        [
         104,
         "behra-porsche",
         "Behra-Porsche",
         "Italian",
         "Ergast API",
         "2021-04-18",
         "2025-08-05T11:42:12.478639Z"
        ],
        [
         105,
         "maserati",
         "Maserati",
         "Italian",
         "Ergast API",
         "2021-04-18",
         "2025-08-05T11:42:12.478639Z"
        ],
        [
         106,
         "scarab",
         "Scarab",
         "American",
         "Ergast API",
         "2021-04-18",
         "2025-08-05T11:42:12.478639Z"
        ],
        [
         107,
         "watson",
         "Watson",
         "American",
         "Ergast API",
         "2021-04-18",
         "2025-08-05T11:42:12.478639Z"
        ],
        [
         108,
         "epperly",
         "Epperly",
         "American",
         "Ergast API",
         "2021-04-18",
         "2025-08-05T11:42:12.478639Z"
        ],
        [
         109,
         "phillips",
         "Phillips",
         "American",
         "Ergast API",
         "2021-04-18",
         "2025-08-05T11:42:12.478639Z"
        ],
        [
         110,
         "lesovsky",
         "Lesovsky",
         "American",
         "Ergast API",
         "2021-04-18",
         "2025-08-05T11:42:12.478639Z"
        ],
        [
         111,
         "trevis",
         "Trevis",
         "American",
         "Ergast API",
         "2021-04-18",
         "2025-08-05T11:42:12.478639Z"
        ],
        [
         112,
         "meskowski",
         "Meskowski",
         "American",
         "Ergast API",
         "2021-04-18",
         "2025-08-05T11:42:12.478639Z"
        ],
        [
         113,
         "kurtis_kraft",
         "Kurtis Kraft",
         "American",
         "Ergast API",
         "2021-04-18",
         "2025-08-05T11:42:12.478639Z"
        ],
        [
         114,
         "kuzma",
         "Kuzma",
         "American",
         "Ergast API",
         "2021-04-18",
         "2025-08-05T11:42:12.478639Z"
        ],
        [
         115,
         "vhristensen",
         "Christensen",
         "American",
         "Ergast API",
         "2021-04-18",
         "2025-08-05T11:42:12.478639Z"
        ],
        [
         116,
         "ewing",
         "Ewing",
         "American",
         "Ergast API",
         "2021-04-18",
         "2025-08-05T11:42:12.478639Z"
        ],
        [
         117,
         "aston_martin",
         "Aston Martin",
         "British",
         "Ergast API",
         "2021-04-18",
         "2025-08-05T11:42:12.478639Z"
        ],
        [
         118,
         "vanwall",
         "Vanwall",
         "British",
         "Ergast API",
         "2021-04-18",
         "2025-08-05T11:42:12.478639Z"
        ],
        [
         119,
         "moore",
         "Moore",
         "American",
         "Ergast API",
         "2021-04-18",
         "2025-08-05T11:42:12.478639Z"
        ],
        [
         120,
         "dunn",
         "Dunn",
         "American",
         "Ergast API",
         "2021-04-18",
         "2025-08-05T11:42:12.478639Z"
        ],
        [
         121,
         "elder",
         "Elder",
         "American",
         "Ergast API",
         "2021-04-18",
         "2025-08-05T11:42:12.478639Z"
        ],
        [
         122,
         "sutton",
         "Sutton",
         "American",
         "Ergast API",
         "2021-04-18",
         "2025-08-05T11:42:12.478639Z"
        ],
        [
         123,
         "fry",
         "Fry",
         "British",
         "Ergast API",
         "2021-04-18",
         "2025-08-05T11:42:12.478639Z"
        ],
        [
         124,
         "tec-mec",
         "Tec-Mec",
         "Italian",
         "Ergast API",
         "2021-04-18",
         "2025-08-05T11:42:12.478639Z"
        ],
        [
         125,
         "connaught",
         "Connaught",
         "British",
         "Ergast API",
         "2021-04-18",
         "2025-08-05T11:42:12.478639Z"
        ],
        [
         126,
         "alta",
         "Alta",
         "British",
         "Ergast API",
         "2021-04-18",
         "2025-08-05T11:42:12.478639Z"
        ],
        [
         127,
         "osca",
         "OSCA",
         "Italian",
         "Ergast API",
         "2021-04-18",
         "2025-08-05T11:42:12.478639Z"
        ],
        [
         128,
         "gordini",
         "Gordini",
         "French",
         "Ergast API",
         "2021-04-18",
         "2025-08-05T11:42:12.478639Z"
        ],
        [
         129,
         "stevens",
         "Stevens",
         "American",
         "Ergast API",
         "2021-04-18",
         "2025-08-05T11:42:12.478639Z"
        ],
        [
         130,
         "bugatti",
         "Bugatti",
         "French",
         "Ergast API",
         "2021-04-18",
         "2025-08-05T11:42:12.478639Z"
        ],
        [
         131,
         "mercedes",
         "Mercedes",
         "German",
         "Ergast API",
         "2021-04-18",
         "2025-08-05T11:42:12.478639Z"
        ],
        [
         132,
         "lancia",
         "Lancia",
         "Italian",
         "Ergast API",
         "2021-04-18",
         "2025-08-05T11:42:12.478639Z"
        ],
        [
         133,
         "hwm",
         "HWM",
         "British",
         "Ergast API",
         "2021-04-18",
         "2025-08-05T11:42:12.478639Z"
        ],
        [
         134,
         "schroeder",
         "Schroeder",
         "American",
         "Ergast API",
         "2021-04-18",
         "2025-08-05T11:42:12.478639Z"
        ],
        [
         135,
         "pawl",
         "Pawl",
         "American",
         "Ergast API",
         "2021-04-18",
         "2025-08-05T11:42:12.478639Z"
        ],
        [
         136,
         "pankratz",
         "Pankratz",
         "American",
         "Ergast API",
         "2021-04-18",
         "2025-08-05T11:42:12.478639Z"
        ],
        [
         137,
         "arzani-volpini",
         "Arzani-Volpini",
         "Italian",
         "Ergast API",
         "2021-04-18",
         "2025-08-05T11:42:12.478639Z"
        ],
        [
         138,
         "nichels",
         "Nichels",
         "American",
         "Ergast API",
         "2021-04-18",
         "2025-08-05T11:42:12.478639Z"
        ],
        [
         139,
         "bromme",
         "Bromme",
         "American",
         "Ergast API",
         "2021-04-18",
         "2025-08-05T11:42:12.478639Z"
        ],
        [
         140,
         "klenk",
         "Klenk",
         "German",
         "Ergast API",
         "2021-04-18",
         "2025-08-05T11:42:12.478639Z"
        ],
        [
         141,
         "simca",
         "Simca",
         "French",
         "Ergast API",
         "2021-04-18",
         "2025-08-05T11:42:12.478639Z"
        ],
        [
         142,
         "turner",
         "Turner",
         "American",
         "Ergast API",
         "2021-04-18",
         "2025-08-05T11:42:12.478639Z"
        ],
        [
         143,
         "del_roy",
         "Del Roy",
         "American",
         "Ergast API",
         "2021-04-18",
         "2025-08-05T11:42:12.478639Z"
        ],
        [
         144,
         "veritas",
         "Veritas",
         "German",
         "Ergast API",
         "2021-04-18",
         "2025-08-05T11:42:12.478639Z"
        ],
        [
         145,
         "bmw",
         "BMW",
         "German",
         "Ergast API",
         "2021-04-18",
         "2025-08-05T11:42:12.478639Z"
        ],
        [
         146,
         "emw",
         "EMW",
         "East German",
         "Ergast API",
         "2021-04-18",
         "2025-08-05T11:42:12.478639Z"
        ],
        [
         147,
         "afm",
         "AFM",
         "German",
         "Ergast API",
         "2021-04-18",
         "2025-08-05T11:42:12.478639Z"
        ],
        [
         148,
         "frazer_nash",
         "Frazer Nash",
         "British",
         "Ergast API",
         "2021-04-18",
         "2025-08-05T11:42:12.478639Z"
        ],
        [
         149,
         "sherman",
         "Sherman",
         "American",
         "Ergast API",
         "2021-04-18",
         "2025-08-05T11:42:12.478639Z"
        ],
        [
         150,
         "deidt",
         "Deidt",
         "American",
         "Ergast API",
         "2021-04-18",
         "2025-08-05T11:42:12.478639Z"
        ],
        [
         151,
         "era",
         "ERA",
         "British",
         "Ergast API",
         "2021-04-18",
         "2025-08-05T11:42:12.478639Z"
        ],
        [
         152,
         "butterworth",
         "Aston Butterworth",
         "British",
         "Ergast API",
         "2021-04-18",
         "2025-08-05T11:42:12.478639Z"
        ],
        [
         153,
         "cisitalia",
         "Cisitalia",
         "Italian",
         "Ergast API",
         "2021-04-18",
         "2025-08-05T11:42:12.478639Z"
        ],
        [
         154,
         "lago",
         "Talbot-Lago",
         "French",
         "Ergast API",
         "2021-04-18",
         "2025-08-05T11:42:12.478639Z"
        ],
        [
         155,
         "hall",
         "Hall",
         "American",
         "Ergast API",
         "2021-04-18",
         "2025-08-05T11:42:12.478639Z"
        ],
        [
         156,
         "marchese",
         "Marchese",
         "American",
         "Ergast API",
         "2021-04-18",
         "2025-08-05T11:42:12.478639Z"
        ],
        [
         157,
         "langley",
         "Langley",
         "American",
         "Ergast API",
         "2021-04-18",
         "2025-08-05T11:42:12.478639Z"
        ],
        [
         158,
         "rae",
         "Rae",
         "American",
         "Ergast API",
         "2021-04-18",
         "2025-08-05T11:42:12.478639Z"
        ],
        [
         159,
         "olson",
         "Olson",
         "American",
         "Ergast API",
         "2021-04-18",
         "2025-08-05T11:42:12.478639Z"
        ],
        [
         160,
         "wetteroth",
         "Wetteroth",
         "American",
         "Ergast API",
         "2021-04-18",
         "2025-08-05T11:42:12.478639Z"
        ],
        [
         161,
         "adams",
         "Adams",
         "American",
         "Ergast API",
         "2021-04-18",
         "2025-08-05T11:42:12.478639Z"
        ],
        [
         162,
         "snowberger",
         "Snowberger",
         "American",
         "Ergast API",
         "2021-04-18",
         "2025-08-05T11:42:12.478639Z"
        ],
        [
         163,
         "milano",
         "Milano",
         "Italian",
         "Ergast API",
         "2021-04-18",
         "2025-08-05T11:42:12.478639Z"
        ],
        [
         164,
         "hrt",
         "HRT",
         "Spanish",
         "Ergast API",
         "2021-04-18",
         "2025-08-05T11:42:12.478639Z"
        ],
        [
         167,
         "cooper-maserati",
         "Cooper-Maserati",
         "British",
         "Ergast API",
         "2021-04-18",
         "2025-08-05T11:42:12.478639Z"
        ],
        [
         166,
         "virgin",
         "Virgin",
         "British",
         "Ergast API",
         "2021-04-18",
         "2025-08-05T11:42:12.478639Z"
        ],
        [
         168,
         "cooper-osca",
         "Cooper-OSCA",
         "British",
         "Ergast API",
         "2021-04-18",
         "2025-08-05T11:42:12.478639Z"
        ],
        [
         169,
         "cooper-borgward",
         "Cooper-Borgward",
         "British",
         "Ergast API",
         "2021-04-18",
         "2025-08-05T11:42:12.478639Z"
        ],
        [
         170,
         "cooper-climax",
         "Cooper-Climax",
         "British",
         "Ergast API",
         "2021-04-18",
         "2025-08-05T11:42:12.478639Z"
        ],
        [
         171,
         "cooper-castellotti",
         "Cooper-Castellotti",
         "British",
         "Ergast API",
         "2021-04-18",
         "2025-08-05T11:42:12.478639Z"
        ],
        [
         172,
         "lotus-climax",
         "Lotus-Climax",
         "British",
         "Ergast API",
         "2021-04-18",
         "2025-08-05T11:42:12.478639Z"
        ],
        [
         173,
         "lotus-maserati",
         "Lotus-Maserati",
         "British",
         "Ergast API",
         "2021-04-18",
         "2025-08-05T11:42:12.478639Z"
        ],
        [
         174,
         "de_tomaso-osca",
         "De Tomaso-Osca",
         "Italian",
         "Ergast API",
         "2021-04-18",
         "2025-08-05T11:42:12.478639Z"
        ],
        [
         175,
         "de_tomaso-alfa_romeo",
         "De Tomaso-Alfa Romeo",
         "Italian",
         "Ergast API",
         "2021-04-18",
         "2025-08-05T11:42:12.478639Z"
        ],
        [
         176,
         "lotus-brm",
         "Lotus-BRM",
         "British",
         "Ergast API",
         "2021-04-18",
         "2025-08-05T11:42:12.478639Z"
        ],
        [
         177,
         "lotus-borgward",
         "Lotus-Borgward",
         "British",
         "Ergast API",
         "2021-04-18",
         "2025-08-05T11:42:12.478639Z"
        ],
        [
         178,
         "cooper-alfa_romeo",
         "Cooper-Alfa Romeo",
         "British",
         "Ergast API",
         "2021-04-18",
         "2025-08-05T11:42:12.478639Z"
        ],
        [
         179,
         "de_tomaso-ferrari",
         "De Tomaso-Ferrari",
         "Italian",
         "Ergast API",
         "2021-04-18",
         "2025-08-05T11:42:12.478639Z"
        ],
        [
         180,
         "lotus-ford",
         "Lotus-Ford",
         "British",
         "Ergast API",
         "2021-04-18",
         "2025-08-05T11:42:12.478639Z"
        ],
        [
         181,
         "brabham-brm",
         "Brabham-BRM",
         "British",
         "Ergast API",
         "2021-04-18",
         "2025-08-05T11:42:12.478639Z"
        ],
        [
         182,
         "brabham-ford",
         "Brabham-Ford",
         "British",
         "Ergast API",
         "2021-04-18",
         "2025-08-05T11:42:12.478639Z"
        ],
        [
         183,
         "brabham-climax",
         "Brabham-Climax",
         "British",
         "Ergast API",
         "2021-04-18",
         "2025-08-05T11:42:12.478639Z"
        ],
        [
         184,
         "lds-climax",
         "LDS-Climax",
         "South African",
         "Ergast API",
         "2021-04-18",
         "2025-08-05T11:42:12.478639Z"
        ],
        [
         185,
         "lds-alfa_romeo",
         "LDS-Alfa Romeo",
         "South African",
         "Ergast API",
         "2021-04-18",
         "2025-08-05T11:42:12.478639Z"
        ],
        [
         186,
         "cooper-ford",
         "Cooper-Ford",
         "British",
         "Ergast API",
         "2021-04-18",
         "2025-08-05T11:42:12.478639Z"
        ],
        [
         187,
         "mclaren-ford",
         "McLaren-Ford",
         "British",
         "Ergast API",
         "2021-04-18",
         "2025-08-05T11:42:12.478639Z"
        ],
        [
         188,
         "mclaren-seren",
         "McLaren-Serenissima",
         "British",
         "Ergast API",
         "2021-04-18",
         "2025-08-05T11:42:12.478639Z"
        ],
        [
         189,
         "eagle-climax",
         "Eagle-Climax",
         "American",
         "Ergast API",
         "2021-04-18",
         "2025-08-05T11:42:12.478639Z"
        ],
        [
         190,
         "eagle-weslake",
         "Eagle-Weslake",
         "American",
         "Ergast API",
         "2021-04-18",
         "2025-08-05T11:42:12.478639Z"
        ],
        [
         191,
         "brabham-repco",
         "Brabham-Repco",
         "British",
         "Ergast API",
         "2021-04-18",
         "2025-08-05T11:42:12.478639Z"
        ],
        [
         192,
         "cooper-ferrari",
         "Cooper-Ferrari",
         "British",
         "Ergast API",
         "2021-04-18",
         "2025-08-05T11:42:12.478639Z"
        ],
        [
         193,
         "cooper-ats",
         "Cooper-ATS",
         "British",
         "Ergast API",
         "2021-04-18",
         "2025-08-05T11:42:12.478639Z"
        ],
        [
         194,
         "mclaren-brm",
         "McLaren-BRM",
         "British",
         "Ergast API",
         "2021-04-18",
         "2025-08-05T11:42:12.478639Z"
        ],
        [
         195,
         "cooper-brm",
         "Cooper-BRM",
         "British",
         "Ergast API",
         "2021-04-18",
         "2025-08-05T11:42:12.478639Z"
        ],
        [
         196,
         "matra-ford",
         "Matra-Ford",
         "French",
         "Ergast API",
         "2021-04-18",
         "2025-08-05T11:42:12.478639Z"
        ],
        [
         197,
         "brm-ford",
         "BRM-Ford",
         "British",
         "Ergast API",
         "2021-04-18",
         "2025-08-05T11:42:12.478639Z"
        ],
        [
         198,
         "mclaren-alfa_romeo",
         "McLaren-Alfa Romeo",
         "British",
         "Ergast API",
         "2021-04-18",
         "2025-08-05T11:42:12.478639Z"
        ],
        [
         199,
         "march-alfa_romeo",
         "March-Alfa Romeo",
         "British",
         "Ergast API",
         "2021-04-18",
         "2025-08-05T11:42:12.478639Z"
        ],
        [
         200,
         "march-ford",
         "March-Ford",
         "British",
         "Ergast API",
         "2021-04-18",
         "2025-08-05T11:42:12.478639Z"
        ],
        [
         201,
         "lotus-pw",
         "Lotus-Pratt &amp; Whitney",
         "British",
         "Ergast API",
         "2021-04-18",
         "2025-08-05T11:42:12.478639Z"
        ],
        [
         202,
         "shadow-ford",
         "Shadow-Ford",
         "British",
         "Ergast API",
         "2021-04-18",
         "2025-08-05T11:42:12.478639Z"
        ],
        [
         203,
         "shadow-matra",
         "Shadow-Matra",
         "British",
         "Ergast API",
         "2021-04-18",
         "2025-08-05T11:42:12.478639Z"
        ],
        [
         204,
         "brabham-alfa_romeo",
         "Brabham-Alfa Romeo",
         "British",
         "Ergast API",
         "2021-04-18",
         "2025-08-05T11:42:12.478639Z"
        ],
        [
         205,
         "lotus_racing",
         "Lotus",
         "Malaysian",
         "Ergast API",
         "2021-04-18",
         "2025-08-05T11:42:12.478639Z"
        ],
        [
         206,
         "marussia",
         "Marussia",
         "Russian",
         "Ergast API",
         "2021-04-18",
         "2025-08-05T11:42:12.478639Z"
        ],
        [
         207,
         "caterham",
         "Caterham",
         "Malaysian",
         "Ergast API",
         "2021-04-18",
         "2025-08-05T11:42:12.478639Z"
        ],
        [
         208,
         "lotus_f1",
         "Lotus F1",
         "British",
         "Ergast API",
         "2021-04-18",
         "2025-08-05T11:42:12.478639Z"
        ],
        [
         209,
         "manor",
         "Manor Marussia",
         "British",
         "Ergast API",
         "2021-04-18",
         "2025-08-05T11:42:12.478639Z"
        ],
        [
         210,
         "haas",
         "Haas F1 Team",
         "American",
         "Ergast API",
         "2021-04-18",
         "2025-08-05T11:42:12.478639Z"
        ],
        [
         211,
         "racing_point",
         "Racing Point",
         "British",
         "Ergast API",
         "2021-04-18",
         "2025-08-05T11:42:12.478639Z"
        ],
        [
         213,
         "alphatauri",
         "AlphaTauri",
         "Italian",
         "Ergast API",
         "2021-04-18",
         "2025-08-05T11:42:12.478639Z"
        ],
        [
         214,
         "alpine",
         "Alpine F1 Team",
         "French",
         "Ergast API",
         "2021-04-18",
         "2025-08-05T11:42:12.478639Z"
        ]
       ],
       "datasetInfos": [
        {
         "name": "_sqldf",
         "schema": {
          "fields": [
           {
            "metadata": {},
            "name": "constructor_id",
            "nullable": true,
            "type": "integer"
           },
           {
            "metadata": {},
            "name": "constructor_ref",
            "nullable": true,
            "type": "string"
           },
           {
            "metadata": {},
            "name": "name",
            "nullable": true,
            "type": "string"
           },
           {
            "metadata": {},
            "name": "nationality",
            "nullable": true,
            "type": "string"
           },
           {
            "metadata": {},
            "name": "data_source",
            "nullable": true,
            "type": "string"
           },
           {
            "metadata": {},
            "name": "file_date",
            "nullable": true,
            "type": "string"
           },
           {
            "metadata": {},
            "name": "ingestion_date",
            "nullable": true,
            "type": "timestamp"
           }
          ],
          "type": "struct"
         },
         "tableIdentifier": null,
         "typeStr": "pyspark.sql.dataframe.DataFrame"
        }
       ],
       "dbfsResultPath": null,
       "isJsonSchema": true,
       "metadata": {
        "createTempViewForImplicitDf": true,
        "dataframeName": "_sqldf",
        "executionCount": 49
       },
       "overflow": false,
       "plotOptions": {
        "customPlotOptions": {},
        "displayType": "table",
        "pivotAggregation": null,
        "pivotColumns": null,
        "xColumns": null,
        "yColumns": null
       },
       "removedWidgets": [],
       "schema": [
        {
         "metadata": "{}",
         "name": "constructor_id",
         "type": "\"integer\""
        },
        {
         "metadata": "{}",
         "name": "constructor_ref",
         "type": "\"string\""
        },
        {
         "metadata": "{}",
         "name": "name",
         "type": "\"string\""
        },
        {
         "metadata": "{}",
         "name": "nationality",
         "type": "\"string\""
        },
        {
         "metadata": "{}",
         "name": "data_source",
         "type": "\"string\""
        },
        {
         "metadata": "{}",
         "name": "file_date",
         "type": "\"string\""
        },
        {
         "metadata": "{}",
         "name": "ingestion_date",
         "type": "\"timestamp\""
        }
       ],
       "type": "table"
      }
     },
     "output_type": "display_data"
    }
   ],
   "source": [
    "%sql\n",
    "select * from f1_processed.constructors; "
   ]
  },
  {
   "cell_type": "code",
   "execution_count": 0,
   "metadata": {
    "application/vnd.databricks.v1+cell": {
     "cellMetadata": {
      "byteLimit": 2048000,
      "rowLimit": 10000
     },
     "inputWidgets": {},
     "nuid": "fb8e7991-37ce-44a0-b8b8-c3897a48dc9a",
     "showTitle": false,
     "tableResultSettingsMap": {},
     "title": ""
    }
   },
   "outputs": [],
   "source": [
    "dbutils.notebook.exit(\"Success\")"
   ]
  }
 ],
 "metadata": {
  "application/vnd.databricks.v1+notebook": {
   "computePreferences": null,
   "dashboards": [],
   "environmentMetadata": {
    "base_environment": "",
    "environment_version": "2"
   },
   "inputWidgetPreferences": null,
   "language": "python",
   "notebookMetadata": {
    "mostRecentlyExecutedCommandWithImplicitDF": {
     "commandId": 5220412076802916,
     "dataframes": [
      "_sqldf"
     ]
    },
    "pythonIndentUnit": 4
   },
   "notebookName": "3.ingest_constructors_file",
   "widgets": {
    "p_data_src": {
     "currentValue": "Ergast API",
     "nuid": "4917a476-61ec-4c14-88b4-9d3ceb99e326",
     "typedWidgetInfo": {
      "autoCreated": false,
      "defaultValue": "",
      "label": null,
      "name": "p_data_src",
      "options": {
       "widgetDisplayType": "Text",
       "validationRegex": null
      },
      "parameterDataType": "String"
     },
     "widgetInfo": {
      "widgetType": "text",
      "defaultValue": "",
      "label": null,
      "name": "p_data_src",
      "options": {
       "widgetType": "text",
       "autoCreated": null,
       "validationRegex": null
      }
     }
    },
    "p_file_date": {
     "currentValue": "2021-04-18",
     "nuid": "7c6ec63f-d933-4209-8130-fdc464ba1479",
     "typedWidgetInfo": {
      "autoCreated": false,
      "defaultValue": "2021-03-21",
      "label": null,
      "name": "p_file_date",
      "options": {
       "widgetDisplayType": "Text",
       "validationRegex": null
      },
      "parameterDataType": "String"
     },
     "widgetInfo": {
      "widgetType": "text",
      "defaultValue": "2021-03-21",
      "label": null,
      "name": "p_file_date",
      "options": {
       "widgetType": "text",
       "autoCreated": null,
       "validationRegex": null
      }
     }
    }
   }
  },
  "language_info": {
   "name": "python"
  }
 },
 "nbformat": 4,
 "nbformat_minor": 0
}