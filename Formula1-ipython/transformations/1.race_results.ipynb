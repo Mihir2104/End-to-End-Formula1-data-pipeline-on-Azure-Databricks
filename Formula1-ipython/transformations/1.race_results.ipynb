{
 "cells": [
  {
   "cell_type": "markdown",
   "metadata": {
    "application/vnd.databricks.v1+cell": {
     "cellMetadata": {
      "byteLimit": 2048000,
      "rowLimit": 10000
     },
     "inputWidgets": {},
     "nuid": "15ae9fa4-758d-4786-a701-d806bf311235",
     "showTitle": false,
     "tableResultSettingsMap": {},
     "title": ""
    }
   },
   "source": [
    "###read all files"
   ]
  },
  {
   "cell_type": "code",
   "execution_count": 0,
   "metadata": {
    "application/vnd.databricks.v1+cell": {
     "cellMetadata": {
      "byteLimit": 2048000,
      "rowLimit": 10000
     },
     "inputWidgets": {},
     "nuid": "78f7571f-14bd-4203-bba2-0b55082b3b17",
     "showTitle": false,
     "tableResultSettingsMap": {},
     "title": ""
    }
   },
   "outputs": [],
   "source": [
    "dbutils.widgets.text(\"p_file_date\", \"2021-03-21\")\n",
    "v_file_date=dbutils.widgets.get(\"p_file_date\")"
   ]
  },
  {
   "cell_type": "code",
   "execution_count": 0,
   "metadata": {
    "application/vnd.databricks.v1+cell": {
     "cellMetadata": {
      "byteLimit": 2048000,
      "rowLimit": 10000
     },
     "inputWidgets": {},
     "nuid": "cd18c0ae-18a2-43f3-8581-53d80425ad23",
     "showTitle": false,
     "tableResultSettingsMap": {},
     "title": ""
    }
   },
   "outputs": [],
   "source": [
    "%run \"../includes/configuration\""
   ]
  },
  {
   "cell_type": "code",
   "execution_count": 0,
   "metadata": {
    "application/vnd.databricks.v1+cell": {
     "cellMetadata": {
      "byteLimit": 2048000,
      "rowLimit": 10000
     },
     "inputWidgets": {},
     "nuid": "63606e64-8189-4289-bcbd-a8a3914d890f",
     "showTitle": false,
     "tableResultSettingsMap": {},
     "title": ""
    }
   },
   "outputs": [],
   "source": [
    "%run \"../includes/common_functions\""
   ]
  },
  {
   "cell_type": "code",
   "execution_count": 0,
   "metadata": {
    "application/vnd.databricks.v1+cell": {
     "cellMetadata": {
      "byteLimit": 2048000,
      "rowLimit": 10000
     },
     "inputWidgets": {},
     "nuid": "5107e7e1-a7a0-45f7-af2d-ce22a74527e6",
     "showTitle": false,
     "tableResultSettingsMap": {},
     "title": ""
    }
   },
   "outputs": [],
   "source": [
    "drivers_df = spark.read.format(\"delta\").load(f\"{processed_folder_path}/drivers\")\\\n",
    "    .withColumnRenamed(\"number\", \"driver_number\")\\\n",
    "    .withColumnRenamed(\"name\", \"driver_name\")\\\n",
    "    .withColumnRenamed(\"nationality\", \"driver_nationality\")"
   ]
  },
  {
   "cell_type": "code",
   "execution_count": 0,
   "metadata": {
    "application/vnd.databricks.v1+cell": {
     "cellMetadata": {
      "byteLimit": 2048000,
      "rowLimit": 10000
     },
     "inputWidgets": {},
     "nuid": "c2efbc45-a407-445b-b7b2-d6aa3ae3cfea",
     "showTitle": false,
     "tableResultSettingsMap": {},
     "title": ""
    }
   },
   "outputs": [],
   "source": [
    "constructors_df = spark.read.format(\"delta\").load(f\"{processed_folder_path}/constructors\")\\\n",
    ".withColumnRenamed(\"name\", \"team\")"
   ]
  },
  {
   "cell_type": "code",
   "execution_count": 0,
   "metadata": {
    "application/vnd.databricks.v1+cell": {
     "cellMetadata": {
      "byteLimit": 2048000,
      "rowLimit": 10000
     },
     "inputWidgets": {},
     "nuid": "b5272c28-b606-4757-a7ed-c681e15c132a",
     "showTitle": false,
     "tableResultSettingsMap": {},
     "title": ""
    }
   },
   "outputs": [],
   "source": [
    "circuits_df= spark.read.format(\"delta\").load(f\"{processed_folder_path}/circuits\")\\\n",
    "    .withColumnRenamed(\"location\", \"circuit_location\")"
   ]
  },
  {
   "cell_type": "code",
   "execution_count": 0,
   "metadata": {
    "application/vnd.databricks.v1+cell": {
     "cellMetadata": {
      "byteLimit": 2048000,
      "rowLimit": 10000
     },
     "inputWidgets": {},
     "nuid": "2659dc82-5d75-4fbe-80f5-11c11f34207b",
     "showTitle": false,
     "tableResultSettingsMap": {},
     "title": ""
    }
   },
   "outputs": [],
   "source": [
    "races_df= spark.read.format(\"delta\").load(f\"{processed_folder_path}/races\")\\\n",
    "    .withColumnRenamed(\"name\", \"race_name\")\\\n",
    "    .withColumnRenamed(\"race_timestamp\", \"race_date\")"
   ]
  },
  {
   "cell_type": "code",
   "execution_count": 0,
   "metadata": {
    "application/vnd.databricks.v1+cell": {
     "cellMetadata": {
      "byteLimit": 2048000,
      "rowLimit": 10000
     },
     "inputWidgets": {},
     "nuid": "cc606e9a-fd77-4847-ac76-ceab66db8217",
     "showTitle": false,
     "tableResultSettingsMap": {},
     "title": ""
    }
   },
   "outputs": [],
   "source": [
    "results_df= spark.read.format(\"delta\").load(f\"{processed_folder_path}/results\")\\\n",
    "    .filter(f\"file_date = '{v_file_date}'\")\\\n",
    "    .withColumnRenamed(\"time\", \"race_time\")\\\n",
    "    .withColumnRenamed(\"race_id\", \"result_race_id\")\\\n",
    "    .withColumnRenamed(\"file_date\", \"result_file_date\")"
   ]
  },
  {
   "cell_type": "markdown",
   "metadata": {
    "application/vnd.databricks.v1+cell": {
     "cellMetadata": {
      "byteLimit": 2048000,
      "rowLimit": 10000
     },
     "inputWidgets": {},
     "nuid": "197aeee4-49eb-49f5-a62e-fa12b7e5f247",
     "showTitle": false,
     "tableResultSettingsMap": {},
     "title": ""
    }
   },
   "source": [
    "join circuits to races"
   ]
  },
  {
   "cell_type": "code",
   "execution_count": 0,
   "metadata": {
    "application/vnd.databricks.v1+cell": {
     "cellMetadata": {
      "byteLimit": 2048000,
      "rowLimit": 10000
     },
     "inputWidgets": {},
     "nuid": "2983a782-3236-4579-a211-b0522df658e3",
     "showTitle": false,
     "tableResultSettingsMap": {},
     "title": ""
    }
   },
   "outputs": [],
   "source": [
    "race_circuits_df = races_df.join(circuits_df, races_df.circuit_id == circuits_df.circuit_id, \"inner\")\\\n",
    "    .select(races_df.race_id, races_df.race_year, races_df.race_name, races_df.race_date, circuits_df.circuit_location)"
   ]
  },
  {
   "cell_type": "markdown",
   "metadata": {
    "application/vnd.databricks.v1+cell": {
     "cellMetadata": {
      "byteLimit": 2048000,
      "rowLimit": 10000
     },
     "inputWidgets": {},
     "nuid": "35e76a9e-ca94-4a1c-bbaf-9890a674a94f",
     "showTitle": false,
     "tableResultSettingsMap": {},
     "title": ""
    }
   },
   "source": [
    "###join results to other dfs"
   ]
  },
  {
   "cell_type": "code",
   "execution_count": 0,
   "metadata": {
    "application/vnd.databricks.v1+cell": {
     "cellMetadata": {
      "byteLimit": 2048000,
      "rowLimit": 10000
     },
     "inputWidgets": {},
     "nuid": "6d08060d-b686-4e2c-9c7a-9efa2eef3c06",
     "showTitle": false,
     "tableResultSettingsMap": {},
     "title": ""
    }
   },
   "outputs": [],
   "source": [
    "race_results_df = results_df.join(race_circuits_df, results_df.result_race_id == race_circuits_df.race_id)\\\n",
    "    .join(drivers_df, results_df.driver_id == drivers_df.driver_id)\\\n",
    "    .join(constructors_df, results_df.constructor_id == constructors_df.constructor_id)"
   ]
  },
  {
   "cell_type": "code",
   "execution_count": 0,
   "metadata": {
    "application/vnd.databricks.v1+cell": {
     "cellMetadata": {
      "byteLimit": 2048000,
      "rowLimit": 10000
     },
     "inputWidgets": {},
     "nuid": "a78ec54a-68e4-4808-aef6-02d2326ba227",
     "showTitle": false,
     "tableResultSettingsMap": {},
     "title": ""
    }
   },
   "outputs": [],
   "source": [
    "from pyspark.sql.functions import *"
   ]
  },
  {
   "cell_type": "code",
   "execution_count": 0,
   "metadata": {
    "application/vnd.databricks.v1+cell": {
     "cellMetadata": {
      "byteLimit": 2048000,
      "rowLimit": 10000
     },
     "inputWidgets": {},
     "nuid": "9fcdbf00-b638-49e7-bf5e-dcf67f98169d",
     "showTitle": false,
     "tableResultSettingsMap": {},
     "title": ""
    }
   },
   "outputs": [],
   "source": [
    "final_df = race_results_df.select(\"race_id\",\"race_year\",\"race_name\",\"race_date\",\"circuit_location\", \"driver_name\", \"driver_number\", \"driver_nationality\",\"team\",\"grid\", \"fastest_lap\", \"race_time\", \"points\", \"position\",\"result_file_date\")\\\n",
    "    .withColumn(\"created_date\", current_timestamp())\\\n",
    "    .withColumnRenamed(\"result_file_date\", \"file_date\")"
   ]
  },
  {
   "cell_type": "code",
   "execution_count": 0,
   "metadata": {
    "application/vnd.databricks.v1+cell": {
     "cellMetadata": {
      "byteLimit": 2048000,
      "rowLimit": 10000
     },
     "inputWidgets": {},
     "nuid": "9f79d6ce-8125-48b8-a249-f1da397c5d85",
     "showTitle": false,
     "tableResultSettingsMap": {},
     "title": ""
    }
   },
   "outputs": [
    {
     "output_type": "display_data",
     "data": {
      "text/html": [
       "<style scoped>\n",
       "  .table-result-container {\n",
       "    max-height: 300px;\n",
       "    overflow: auto;\n",
       "  }\n",
       "  table, th, td {\n",
       "    border: 1px solid black;\n",
       "    border-collapse: collapse;\n",
       "  }\n",
       "  th, td {\n",
       "    padding: 5px;\n",
       "  }\n",
       "  th {\n",
       "    text-align: left;\n",
       "  }\n",
       "</style><div class='table-result-container'><table class='table-result'><thead style='background-color: white'><tr><th>race_id</th><th>race_year</th><th>race_name</th><th>race_date</th><th>circuit_location</th><th>driver_name</th><th>driver_number</th><th>driver_nationality</th><th>team</th><th>grid</th><th>fastest_lap</th><th>race_time</th><th>points</th><th>position</th><th>file_date</th><th>created_date</th></tr></thead><tbody></tbody></table></div>"
      ]
     },
     "metadata": {
      "application/vnd.databricks.v1+output": {
       "addedWidgets": {},
       "aggData": [],
       "aggError": "",
       "aggOverflow": false,
       "aggSchema": [],
       "aggSeriesLimitReached": false,
       "aggType": "",
       "arguments": {},
       "columnCustomDisplayInfos": {},
       "data": [],
       "datasetInfos": [],
       "dbfsResultPath": null,
       "isJsonSchema": true,
       "metadata": {},
       "overflow": false,
       "plotOptions": {
        "customPlotOptions": {},
        "displayType": "table",
        "pivotAggregation": null,
        "pivotColumns": null,
        "xColumns": null,
        "yColumns": null
       },
       "removedWidgets": [],
       "schema": [
        {
         "metadata": "{}",
         "name": "race_id",
         "type": "\"integer\""
        },
        {
         "metadata": "{}",
         "name": "race_year",
         "type": "\"integer\""
        },
        {
         "metadata": "{}",
         "name": "race_name",
         "type": "\"string\""
        },
        {
         "metadata": "{}",
         "name": "race_date",
         "type": "\"timestamp\""
        },
        {
         "metadata": "{}",
         "name": "circuit_location",
         "type": "\"string\""
        },
        {
         "metadata": "{}",
         "name": "driver_name",
         "type": "\"string\""
        },
        {
         "metadata": "{}",
         "name": "driver_number",
         "type": "\"integer\""
        },
        {
         "metadata": "{}",
         "name": "driver_nationality",
         "type": "\"string\""
        },
        {
         "metadata": "{}",
         "name": "team",
         "type": "\"string\""
        },
        {
         "metadata": "{}",
         "name": "grid",
         "type": "\"integer\""
        },
        {
         "metadata": "{}",
         "name": "fastest_lap",
         "type": "\"integer\""
        },
        {
         "metadata": "{}",
         "name": "race_time",
         "type": "\"string\""
        },
        {
         "metadata": "{}",
         "name": "points",
         "type": "\"float\""
        },
        {
         "metadata": "{}",
         "name": "position",
         "type": "\"integer\""
        },
        {
         "metadata": "{}",
         "name": "file_date",
         "type": "\"string\""
        },
        {
         "metadata": "{}",
         "name": "created_date",
         "type": "\"timestamp\""
        }
       ],
       "type": "table"
      }
     },
     "output_type": "display_data"
    }
   ],
   "source": [
    "display(final_df.filter(\"race_year == 2020 and race_name == 'Abu Dhabi Grand Prix'\").orderBy(desc(\"points\")))"
   ]
  },
  {
   "cell_type": "code",
   "execution_count": 0,
   "metadata": {
    "application/vnd.databricks.v1+cell": {
     "cellMetadata": {
      "byteLimit": 2048000,
      "rowLimit": 10000
     },
     "inputWidgets": {},
     "nuid": "98614a0c-9f68-43cb-9168-c98f4aafb9f3",
     "showTitle": false,
     "tableResultSettingsMap": {},
     "title": ""
    }
   },
   "outputs": [],
   "source": [
    "#overwrite_partition(final_df, \"f1_presentation\", \"race_results\", \"race_id\")"
   ]
  },
  {
   "cell_type": "code",
   "execution_count": 0,
   "metadata": {
    "application/vnd.databricks.v1+cell": {
     "cellMetadata": {
      "byteLimit": 2048000,
      "rowLimit": 10000
     },
     "inputWidgets": {},
     "nuid": "58d7a82b-4e22-4a1d-a7ca-148708325ea1",
     "showTitle": false,
     "tableResultSettingsMap": {},
     "title": ""
    }
   },
   "outputs": [],
   "source": [
    "merge_condition = \"tgt.driver_name = src.driver_name AND tgt.race_id = src.race_id\"\n",
    "merge_delta_data(final_df, 'f1_presentation', 'race_results', presentation_folder_path, merge_condition, 'race_id')"
   ]
  },
  {
   "cell_type": "code",
   "execution_count": 0,
   "metadata": {
    "application/vnd.databricks.v1+cell": {
     "cellMetadata": {
      "byteLimit": 2048000,
      "implicitDf": true,
      "rowLimit": 10000
     },
     "inputWidgets": {},
     "nuid": "3614e0e9-4a91-434a-b6c8-bba0a6087822",
     "showTitle": false,
     "tableResultSettingsMap": {
      "0": {
       "dataGridStateBlob": "{\"version\":1,\"tableState\":{\"columnPinning\":{\"left\":[\"#row_number#\"],\"right\":[]},\"columnSizing\":{},\"columnVisibility\":{}},\"settings\":{\"columns\":{}},\"syncTimestamp\":1753873327641}",
       "filterBlob": null,
       "queryPlanFiltersBlob": null,
       "tableResultIndex": 0
      }
     },
     "title": ""
    }
   },
   "outputs": [
    {
     "output_type": "display_data",
     "data": {
      "text/html": [
       "<style scoped>\n",
       "  .table-result-container {\n",
       "    max-height: 300px;\n",
       "    overflow: auto;\n",
       "  }\n",
       "  table, th, td {\n",
       "    border: 1px solid black;\n",
       "    border-collapse: collapse;\n",
       "  }\n",
       "  th, td {\n",
       "    padding: 5px;\n",
       "  }\n",
       "  th {\n",
       "    text-align: left;\n",
       "  }\n",
       "</style><div class='table-result-container'><table class='table-result'><thead style='background-color: white'><tr><th>race_id</th><th>race_year</th><th>race_name</th><th>race_date</th><th>circuit_location</th><th>driver_name</th><th>driver_number</th><th>driver_nationality</th><th>team</th><th>grid</th><th>fastest_lap</th><th>race_time</th><th>points</th><th>position</th><th>file_date</th><th>created_date</th></tr></thead><tbody><tr><td>1053</td><td>2021</td><td>Emilia Romagna Grand Prix</td><td>2021-04-18T13:00:00Z</td><td>Imola</td><td>Mick Schumacher</td><td>null</td><td>German</td><td>Haas F1 Team</td><td>18</td><td>58</td><td>\\N</td><td>0.0</td><td>16</td><td>2021-04-18</td><td>2025-08-06T05:22:04.534198Z</td></tr><tr><td>1053</td><td>2021</td><td>Emilia Romagna Grand Prix</td><td>2021-04-18T13:00:00Z</td><td>Imola</td><td>Nikita Mazepin</td><td>null</td><td>Russian</td><td>Haas F1 Team</td><td>19</td><td>55</td><td>\\N</td><td>0.0</td><td>17</td><td>2021-04-18</td><td>2025-08-06T05:22:04.534198Z</td></tr><tr><td>1053</td><td>2021</td><td>Emilia Romagna Grand Prix</td><td>2021-04-18T13:00:00Z</td><td>Imola</td><td>Yuki Tsunoda</td><td>null</td><td>Japanese</td><td>AlphaTauri</td><td>20</td><td>49</td><td>+73.184</td><td>0.0</td><td>12</td><td>2021-04-18</td><td>2025-08-06T05:22:04.534198Z</td></tr><tr><td>1053</td><td>2021</td><td>Emilia Romagna Grand Prix</td><td>2021-04-18T13:00:00Z</td><td>Imola</td><td>Nicholas Latifi</td><td>6</td><td>Canadian</td><td>Williams</td><td>14</td><td>null</td><td>\\N</td><td>0.0</td><td>null</td><td>2021-04-18</td><td>2025-08-06T05:22:04.534198Z</td></tr><tr><td>1053</td><td>2021</td><td>Emilia Romagna Grand Prix</td><td>2021-04-18T13:00:00Z</td><td>Imola</td><td>George Russell</td><td>63</td><td>British</td><td>Williams</td><td>12</td><td>28</td><td>\\N</td><td>0.0</td><td>null</td><td>2021-04-18</td><td>2025-08-06T05:22:04.534198Z</td></tr><tr><td>1053</td><td>2021</td><td>Emilia Romagna Grand Prix</td><td>2021-04-18T13:00:00Z</td><td>Imola</td><td>Lando Norris</td><td>4</td><td>British</td><td>McLaren</td><td>7</td><td>63</td><td>+23.702</td><td>15.0</td><td>3</td><td>2021-04-18</td><td>2025-08-06T05:22:04.534198Z</td></tr><tr><td>1053</td><td>2021</td><td>Emilia Romagna Grand Prix</td><td>2021-04-18T13:00:00Z</td><td>Imola</td><td>Charles Leclerc</td><td>16</td><td>Monegasque</td><td>Ferrari</td><td>4</td><td>60</td><td>+25.579</td><td>12.0</td><td>4</td><td>2021-04-18</td><td>2025-08-06T05:22:04.534198Z</td></tr><tr><td>1053</td><td>2021</td><td>Emilia Romagna Grand Prix</td><td>2021-04-18T13:00:00Z</td><td>Imola</td><td>Pierre Gasly</td><td>10</td><td>French</td><td>AlphaTauri</td><td>5</td><td>52</td><td>+52.818</td><td>6.0</td><td>7</td><td>2021-04-18</td><td>2025-08-06T05:22:04.534198Z</td></tr><tr><td>1053</td><td>2021</td><td>Emilia Romagna Grand Prix</td><td>2021-04-18T13:00:00Z</td><td>Imola</td><td>Antonio Giovinazzi</td><td>99</td><td>Italian</td><td>Alfa Romeo</td><td>17</td><td>57</td><td>\\N</td><td>0.0</td><td>14</td><td>2021-04-18</td><td>2025-08-06T05:22:04.534198Z</td></tr><tr><td>1053</td><td>2021</td><td>Emilia Romagna Grand Prix</td><td>2021-04-18T13:00:00Z</td><td>Imola</td><td>Lance Stroll</td><td>18</td><td>Canadian</td><td>Aston Martin</td><td>10</td><td>59</td><td>+56.909</td><td>4.0</td><td>8</td><td>2021-04-18</td><td>2025-08-06T05:22:04.534198Z</td></tr><tr><td>1053</td><td>2021</td><td>Emilia Romagna Grand Prix</td><td>2021-04-18T13:00:00Z</td><td>Imola</td><td>Esteban Ocon</td><td>31</td><td>French</td><td>Alpine F1 Team</td><td>9</td><td>62</td><td>+65.704</td><td>2.0</td><td>9</td><td>2021-04-18</td><td>2025-08-06T05:22:04.534198Z</td></tr><tr><td>1053</td><td>2021</td><td>Emilia Romagna Grand Prix</td><td>2021-04-18T13:00:00Z</td><td>Imola</td><td>Carlos Sainz</td><td>55</td><td>Spanish</td><td>Ferrari</td><td>11</td><td>60</td><td>+27.036</td><td>10.0</td><td>5</td><td>2021-04-18</td><td>2025-08-06T05:22:04.534198Z</td></tr><tr><td>1053</td><td>2021</td><td>Emilia Romagna Grand Prix</td><td>2021-04-18T13:00:00Z</td><td>Imola</td><td>Max Verstappen</td><td>33</td><td>Dutch</td><td>Red Bull</td><td>3</td><td>60</td><td>2:02:34.598</td><td>25.0</td><td>1</td><td>2021-04-18</td><td>2025-08-06T05:22:04.534198Z</td></tr><tr><td>1053</td><td>2021</td><td>Emilia Romagna Grand Prix</td><td>2021-04-18T13:00:00Z</td><td>Imola</td><td>Valtteri Bottas</td><td>77</td><td>Finnish</td><td>Mercedes</td><td>8</td><td>30</td><td>\\N</td><td>0.0</td><td>null</td><td>2021-04-18</td><td>2025-08-06T05:22:04.534198Z</td></tr><tr><td>1053</td><td>2021</td><td>Emilia Romagna Grand Prix</td><td>2021-04-18T13:00:00Z</td><td>Imola</td><td>Daniel Ricciardo</td><td>3</td><td>Australian</td><td>McLaren</td><td>6</td><td>54</td><td>+51.220</td><td>8.0</td><td>6</td><td>2021-04-18</td><td>2025-08-06T05:22:04.534198Z</td></tr><tr><td>1053</td><td>2021</td><td>Emilia Romagna Grand Prix</td><td>2021-04-18T13:00:00Z</td><td>Imola</td><td>Sergio Pérez</td><td>11</td><td>Mexican</td><td>Red Bull</td><td>2</td><td>62</td><td>+67.151</td><td>0.0</td><td>11</td><td>2021-04-18</td><td>2025-08-06T05:22:04.534198Z</td></tr><tr><td>1053</td><td>2021</td><td>Emilia Romagna Grand Prix</td><td>2021-04-18T13:00:00Z</td><td>Imola</td><td>Sebastian Vettel</td><td>5</td><td>German</td><td>Aston Martin</td><td>0</td><td>59</td><td>\\N</td><td>0.0</td><td>15</td><td>2021-04-18</td><td>2025-08-06T05:22:04.534198Z</td></tr><tr><td>1053</td><td>2021</td><td>Emilia Romagna Grand Prix</td><td>2021-04-18T13:00:00Z</td><td>Imola</td><td>Kimi Räikkönen</td><td>7</td><td>Finnish</td><td>Alfa Romeo</td><td>16</td><td>62</td><td>+94.773</td><td>0.0</td><td>13</td><td>2021-04-18</td><td>2025-08-06T05:22:04.534198Z</td></tr><tr><td>1053</td><td>2021</td><td>Emilia Romagna Grand Prix</td><td>2021-04-18T13:00:00Z</td><td>Imola</td><td>Fernando Alonso</td><td>14</td><td>Spanish</td><td>Alpine F1 Team</td><td>15</td><td>62</td><td>+66.561</td><td>1.0</td><td>10</td><td>2021-04-18</td><td>2025-08-06T05:22:04.534198Z</td></tr><tr><td>1053</td><td>2021</td><td>Emilia Romagna Grand Prix</td><td>2021-04-18T13:00:00Z</td><td>Imola</td><td>Lewis Hamilton</td><td>44</td><td>British</td><td>Mercedes</td><td>1</td><td>60</td><td>+22.000</td><td>19.0</td><td>2</td><td>2021-04-18</td><td>2025-08-06T05:22:04.534198Z</td></tr></tbody></table></div>"
      ]
     },
     "metadata": {
      "application/vnd.databricks.v1+output": {
       "addedWidgets": {},
       "aggData": [],
       "aggError": "",
       "aggOverflow": false,
       "aggSchema": [],
       "aggSeriesLimitReached": false,
       "aggType": "",
       "arguments": {},
       "columnCustomDisplayInfos": {},
       "data": [
        [
         1053,
         2021,
         "Emilia Romagna Grand Prix",
         "2021-04-18T13:00:00Z",
         "Imola",
         "Mick Schumacher",
         null,
         "German",
         "Haas F1 Team",
         18,
         58,
         "\\N",
         0.0,
         16,
         "2021-04-18",
         "2025-08-06T05:22:04.534198Z"
        ],
        [
         1053,
         2021,
         "Emilia Romagna Grand Prix",
         "2021-04-18T13:00:00Z",
         "Imola",
         "Nikita Mazepin",
         null,
         "Russian",
         "Haas F1 Team",
         19,
         55,
         "\\N",
         0.0,
         17,
         "2021-04-18",
         "2025-08-06T05:22:04.534198Z"
        ],
        [
         1053,
         2021,
         "Emilia Romagna Grand Prix",
         "2021-04-18T13:00:00Z",
         "Imola",
         "Yuki Tsunoda",
         null,
         "Japanese",
         "AlphaTauri",
         20,
         49,
         "+73.184",
         0.0,
         12,
         "2021-04-18",
         "2025-08-06T05:22:04.534198Z"
        ],
        [
         1053,
         2021,
         "Emilia Romagna Grand Prix",
         "2021-04-18T13:00:00Z",
         "Imola",
         "Nicholas Latifi",
         6,
         "Canadian",
         "Williams",
         14,
         null,
         "\\N",
         0.0,
         null,
         "2021-04-18",
         "2025-08-06T05:22:04.534198Z"
        ],
        [
         1053,
         2021,
         "Emilia Romagna Grand Prix",
         "2021-04-18T13:00:00Z",
         "Imola",
         "George Russell",
         63,
         "British",
         "Williams",
         12,
         28,
         "\\N",
         0.0,
         null,
         "2021-04-18",
         "2025-08-06T05:22:04.534198Z"
        ],
        [
         1053,
         2021,
         "Emilia Romagna Grand Prix",
         "2021-04-18T13:00:00Z",
         "Imola",
         "Lando Norris",
         4,
         "British",
         "McLaren",
         7,
         63,
         "+23.702",
         15.0,
         3,
         "2021-04-18",
         "2025-08-06T05:22:04.534198Z"
        ],
        [
         1053,
         2021,
         "Emilia Romagna Grand Prix",
         "2021-04-18T13:00:00Z",
         "Imola",
         "Charles Leclerc",
         16,
         "Monegasque",
         "Ferrari",
         4,
         60,
         "+25.579",
         12.0,
         4,
         "2021-04-18",
         "2025-08-06T05:22:04.534198Z"
        ],
        [
         1053,
         2021,
         "Emilia Romagna Grand Prix",
         "2021-04-18T13:00:00Z",
         "Imola",
         "Pierre Gasly",
         10,
         "French",
         "AlphaTauri",
         5,
         52,
         "+52.818",
         6.0,
         7,
         "2021-04-18",
         "2025-08-06T05:22:04.534198Z"
        ],
        [
         1053,
         2021,
         "Emilia Romagna Grand Prix",
         "2021-04-18T13:00:00Z",
         "Imola",
         "Antonio Giovinazzi",
         99,
         "Italian",
         "Alfa Romeo",
         17,
         57,
         "\\N",
         0.0,
         14,
         "2021-04-18",
         "2025-08-06T05:22:04.534198Z"
        ],
        [
         1053,
         2021,
         "Emilia Romagna Grand Prix",
         "2021-04-18T13:00:00Z",
         "Imola",
         "Lance Stroll",
         18,
         "Canadian",
         "Aston Martin",
         10,
         59,
         "+56.909",
         4.0,
         8,
         "2021-04-18",
         "2025-08-06T05:22:04.534198Z"
        ],
        [
         1053,
         2021,
         "Emilia Romagna Grand Prix",
         "2021-04-18T13:00:00Z",
         "Imola",
         "Esteban Ocon",
         31,
         "French",
         "Alpine F1 Team",
         9,
         62,
         "+65.704",
         2.0,
         9,
         "2021-04-18",
         "2025-08-06T05:22:04.534198Z"
        ],
        [
         1053,
         2021,
         "Emilia Romagna Grand Prix",
         "2021-04-18T13:00:00Z",
         "Imola",
         "Carlos Sainz",
         55,
         "Spanish",
         "Ferrari",
         11,
         60,
         "+27.036",
         10.0,
         5,
         "2021-04-18",
         "2025-08-06T05:22:04.534198Z"
        ],
        [
         1053,
         2021,
         "Emilia Romagna Grand Prix",
         "2021-04-18T13:00:00Z",
         "Imola",
         "Max Verstappen",
         33,
         "Dutch",
         "Red Bull",
         3,
         60,
         "2:02:34.598",
         25.0,
         1,
         "2021-04-18",
         "2025-08-06T05:22:04.534198Z"
        ],
        [
         1053,
         2021,
         "Emilia Romagna Grand Prix",
         "2021-04-18T13:00:00Z",
         "Imola",
         "Valtteri Bottas",
         77,
         "Finnish",
         "Mercedes",
         8,
         30,
         "\\N",
         0.0,
         null,
         "2021-04-18",
         "2025-08-06T05:22:04.534198Z"
        ],
        [
         1053,
         2021,
         "Emilia Romagna Grand Prix",
         "2021-04-18T13:00:00Z",
         "Imola",
         "Daniel Ricciardo",
         3,
         "Australian",
         "McLaren",
         6,
         54,
         "+51.220",
         8.0,
         6,
         "2021-04-18",
         "2025-08-06T05:22:04.534198Z"
        ],
        [
         1053,
         2021,
         "Emilia Romagna Grand Prix",
         "2021-04-18T13:00:00Z",
         "Imola",
         "Sergio Pérez",
         11,
         "Mexican",
         "Red Bull",
         2,
         62,
         "+67.151",
         0.0,
         11,
         "2021-04-18",
         "2025-08-06T05:22:04.534198Z"
        ],
        [
         1053,
         2021,
         "Emilia Romagna Grand Prix",
         "2021-04-18T13:00:00Z",
         "Imola",
         "Sebastian Vettel",
         5,
         "German",
         "Aston Martin",
         0,
         59,
         "\\N",
         0.0,
         15,
         "2021-04-18",
         "2025-08-06T05:22:04.534198Z"
        ],
        [
         1053,
         2021,
         "Emilia Romagna Grand Prix",
         "2021-04-18T13:00:00Z",
         "Imola",
         "Kimi Räikkönen",
         7,
         "Finnish",
         "Alfa Romeo",
         16,
         62,
         "+94.773",
         0.0,
         13,
         "2021-04-18",
         "2025-08-06T05:22:04.534198Z"
        ],
        [
         1053,
         2021,
         "Emilia Romagna Grand Prix",
         "2021-04-18T13:00:00Z",
         "Imola",
         "Fernando Alonso",
         14,
         "Spanish",
         "Alpine F1 Team",
         15,
         62,
         "+66.561",
         1.0,
         10,
         "2021-04-18",
         "2025-08-06T05:22:04.534198Z"
        ],
        [
         1053,
         2021,
         "Emilia Romagna Grand Prix",
         "2021-04-18T13:00:00Z",
         "Imola",
         "Lewis Hamilton",
         44,
         "British",
         "Mercedes",
         1,
         60,
         "+22.000",
         19.0,
         2,
         "2021-04-18",
         "2025-08-06T05:22:04.534198Z"
        ]
       ],
       "datasetInfos": [
        {
         "name": "_sqldf",
         "schema": {
          "fields": [
           {
            "metadata": {},
            "name": "race_id",
            "nullable": true,
            "type": "integer"
           },
           {
            "metadata": {},
            "name": "race_year",
            "nullable": true,
            "type": "integer"
           },
           {
            "metadata": {},
            "name": "race_name",
            "nullable": true,
            "type": "string"
           },
           {
            "metadata": {},
            "name": "race_date",
            "nullable": true,
            "type": "timestamp"
           },
           {
            "metadata": {},
            "name": "circuit_location",
            "nullable": true,
            "type": "string"
           },
           {
            "metadata": {},
            "name": "driver_name",
            "nullable": true,
            "type": "string"
           },
           {
            "metadata": {},
            "name": "driver_number",
            "nullable": true,
            "type": "integer"
           },
           {
            "metadata": {},
            "name": "driver_nationality",
            "nullable": true,
            "type": "string"
           },
           {
            "metadata": {},
            "name": "team",
            "nullable": true,
            "type": "string"
           },
           {
            "metadata": {},
            "name": "grid",
            "nullable": true,
            "type": "integer"
           },
           {
            "metadata": {},
            "name": "fastest_lap",
            "nullable": true,
            "type": "integer"
           },
           {
            "metadata": {},
            "name": "race_time",
            "nullable": true,
            "type": "string"
           },
           {
            "metadata": {},
            "name": "points",
            "nullable": true,
            "type": "float"
           },
           {
            "metadata": {},
            "name": "position",
            "nullable": true,
            "type": "integer"
           },
           {
            "metadata": {},
            "name": "file_date",
            "nullable": true,
            "type": "string"
           },
           {
            "metadata": {},
            "name": "created_date",
            "nullable": true,
            "type": "timestamp"
           }
          ],
          "type": "struct"
         },
         "tableIdentifier": null,
         "typeStr": "pyspark.sql.dataframe.DataFrame"
        }
       ],
       "dbfsResultPath": null,
       "isJsonSchema": true,
       "metadata": {
        "createTempViewForImplicitDf": true,
        "dataframeName": "_sqldf",
        "executionCount": 64
       },
       "overflow": false,
       "plotOptions": {
        "customPlotOptions": {},
        "displayType": "table",
        "pivotAggregation": null,
        "pivotColumns": null,
        "xColumns": null,
        "yColumns": null
       },
       "removedWidgets": [],
       "schema": [
        {
         "metadata": "{}",
         "name": "race_id",
         "type": "\"integer\""
        },
        {
         "metadata": "{}",
         "name": "race_year",
         "type": "\"integer\""
        },
        {
         "metadata": "{}",
         "name": "race_name",
         "type": "\"string\""
        },
        {
         "metadata": "{}",
         "name": "race_date",
         "type": "\"timestamp\""
        },
        {
         "metadata": "{}",
         "name": "circuit_location",
         "type": "\"string\""
        },
        {
         "metadata": "{}",
         "name": "driver_name",
         "type": "\"string\""
        },
        {
         "metadata": "{}",
         "name": "driver_number",
         "type": "\"integer\""
        },
        {
         "metadata": "{}",
         "name": "driver_nationality",
         "type": "\"string\""
        },
        {
         "metadata": "{}",
         "name": "team",
         "type": "\"string\""
        },
        {
         "metadata": "{}",
         "name": "grid",
         "type": "\"integer\""
        },
        {
         "metadata": "{}",
         "name": "fastest_lap",
         "type": "\"integer\""
        },
        {
         "metadata": "{}",
         "name": "race_time",
         "type": "\"string\""
        },
        {
         "metadata": "{}",
         "name": "points",
         "type": "\"float\""
        },
        {
         "metadata": "{}",
         "name": "position",
         "type": "\"integer\""
        },
        {
         "metadata": "{}",
         "name": "file_date",
         "type": "\"string\""
        },
        {
         "metadata": "{}",
         "name": "created_date",
         "type": "\"timestamp\""
        }
       ],
       "type": "table"
      }
     },
     "output_type": "display_data"
    }
   ],
   "source": [
    "%sql\n",
    "select * from f1_presentation.race_results where file_date = '2021-04-18';"
   ]
  }
 ],
 "metadata": {
  "application/vnd.databricks.v1+notebook": {
   "computePreferences": null,
   "dashboards": [],
   "environmentMetadata": {
    "base_environment": "",
    "environment_version": "2"
   },
   "inputWidgetPreferences": null,
   "language": "python",
   "notebookMetadata": {
    "mostRecentlyExecutedCommandWithImplicitDF": {
     "commandId": 5220412076802936,
     "dataframes": [
      "_sqldf"
     ]
    },
    "pythonIndentUnit": 4
   },
   "notebookName": "1.race_results",
   "widgets": {
    "p_file_date": {
     "currentValue": "2021-04-18",
     "nuid": "f88dd312-9469-476a-aadf-422d9e0b23e5",
     "typedWidgetInfo": {
      "autoCreated": false,
      "defaultValue": "2021-03-21",
      "label": null,
      "name": "p_file_date",
      "options": {
       "widgetDisplayType": "Text",
       "validationRegex": null
      },
      "parameterDataType": "String"
     },
     "widgetInfo": {
      "widgetType": "text",
      "defaultValue": "2021-03-21",
      "label": null,
      "name": "p_file_date",
      "options": {
       "widgetType": "text",
       "autoCreated": null,
       "validationRegex": null
      }
     }
    }
   }
  },
  "language_info": {
   "name": "python"
  }
 },
 "nbformat": 4,
 "nbformat_minor": 0
}